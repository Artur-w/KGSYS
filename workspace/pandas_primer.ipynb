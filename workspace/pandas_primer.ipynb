{
 "metadata": {
  "language_info": {
   "codemirror_mode": {
    "name": "ipython",
    "version": 3
   },
   "file_extension": ".py",
   "mimetype": "text/x-python",
   "name": "python",
   "nbconvert_exporter": "python",
   "pygments_lexer": "ipython3",
   "version": "3.8.6-final"
  },
  "orig_nbformat": 2,
  "kernelspec": {
   "name": "python3",
   "display_name": "Python 3"
  }
 },
 "nbformat": 4,
 "nbformat_minor": 2,
 "cells": [
  {
   "cell_type": "code",
   "execution_count": 1,
   "metadata": {},
   "outputs": [],
   "source": [
    "import pandas as pd"
   ]
  },
  {
   "cell_type": "code",
   "execution_count": 2,
   "metadata": {},
   "outputs": [],
   "source": [
    "data = {\n",
    "    'CHN': {'COUNTRY': 'China', 'POP': 1_398.72, 'AREA': 9_596.96,\n",
    "            'GDP': 12_234.78, 'CONT': 'Asia'},\n",
    "    'IND': {'COUNTRY': 'India', 'POP': 1_351.16, 'AREA': 3_287.26,\n",
    "            'GDP': 2_575.67, 'CONT': 'Asia', 'IND_DAY': '1947-08-15'},\n",
    "    'USA': {'COUNTRY': 'US', 'POP': 329.74, 'AREA': 9_833.52,\n",
    "            'GDP': 19_485.39, 'CONT': 'N.America',\n",
    "            'IND_DAY': '1776-07-04'},\n",
    "    'IDN': {'COUNTRY': 'Indonesia', 'POP': 268.07, 'AREA': 1_910.93,\n",
    "            'GDP': 1_015.54, 'CONT': 'Asia', 'IND_DAY': '1945-08-17'},\n",
    "    'BRA': {'COUNTRY': 'Brazil', 'POP': 210.32, 'AREA': 8_515.77,\n",
    "            'GDP': 2_055.51, 'CONT': 'S.America', 'IND_DAY': '1822-09-07'},\n",
    "    'PAK': {'COUNTRY': 'Pakistan', 'POP': 205.71, 'AREA': 881.91,\n",
    "            'GDP': 302.14, 'CONT': 'Asia', 'IND_DAY': '1947-08-14'},\n",
    "    'NGA': {'COUNTRY': 'Nigeria', 'POP': 200.96, 'AREA': 923.77,\n",
    "            'GDP': 375.77, 'CONT': 'Africa', 'IND_DAY': '1960-10-01'},\n",
    "    'BGD': {'COUNTRY': 'Bangladesh', 'POP': 167.09, 'AREA': 147.57,\n",
    "            'GDP': 245.63, 'CONT': 'Asia', 'IND_DAY': '1971-03-26'},\n",
    "    'RUS': {'COUNTRY': 'Russia', 'POP': 146.79, 'AREA': 17_098.25,\n",
    "            'GDP': 1_530.75, 'IND_DAY': '1992-06-12'},\n",
    "    'MEX': {'COUNTRY': 'Mexico', 'POP': 126.58, 'AREA': 1_964.38,\n",
    "            'GDP': 1_158.23, 'CONT': 'N.America', 'IND_DAY': '1810-09-16'},\n",
    "    'JPN': {'COUNTRY': 'Japan', 'POP': 126.22, 'AREA': 377.97,\n",
    "            'GDP': 4_872.42, 'CONT': 'Asia'},\n",
    "    'DEU': {'COUNTRY': 'Germany', 'POP': 83.02, 'AREA': 357.11,\n",
    "            'GDP': 3_693.20, 'CONT': 'Europe'},\n",
    "    'FRA': {'COUNTRY': 'France', 'POP': 67.02, 'AREA': 640.68,\n",
    "            'GDP': 2_582.49, 'CONT': 'Europe', 'IND_DAY': '1789-07-14'},\n",
    "    'GBR': {'COUNTRY': 'UK', 'POP': 66.44, 'AREA': 242.50,\n",
    "            'GDP': 2_631.23, 'CONT': 'Europe'},\n",
    "    'ITA': {'COUNTRY': 'Italy', 'POP': 60.36, 'AREA': 301.34,\n",
    "            'GDP': 1_943.84, 'CONT': 'Europe'},\n",
    "    'ARG': {'COUNTRY': 'Argentina', 'POP': 44.94, 'AREA': 2_780.40,\n",
    "            'GDP': 637.49, 'CONT': 'S.America', 'IND_DAY': '1816-07-09'},\n",
    "    'DZA': {'COUNTRY': 'Algeria', 'POP': 43.38, 'AREA': 2_381.74,\n",
    "            'GDP': 167.56, 'CONT': 'Africa', 'IND_DAY': '1962-07-05'},\n",
    "    'CAN': {'COUNTRY': 'Canada', 'POP': 37.59, 'AREA': 9_984.67,\n",
    "            'GDP': 1_647.12, 'CONT': 'N.America', 'IND_DAY': '1867-07-01'},\n",
    "    'AUS': {'COUNTRY': 'Australia', 'POP': 25.47, 'AREA': 7_692.02,\n",
    "            'GDP': 1_408.68, 'CONT': 'Oceania'},\n",
    "    'KAZ': {'COUNTRY': 'Kazakhstan', 'POP': 18.53, 'AREA': 2_724.90,\n",
    "            'GDP': 159.41, 'CONT': 'Asia', 'IND_DAY': '1991-12-16'}\n",
    "}\n",
    "\n",
    "columns = ('COUNTRY', 'POP', 'AREA', 'GDP', 'CONT', 'IND_DAY')"
   ]
  },
  {
   "cell_type": "code",
   "execution_count": 5,
   "metadata": {},
   "outputs": [
    {
     "output_type": "execute_result",
     "data": {
      "text/plain": [
       "        COUNTRY      POP     AREA      GDP       CONT     IND_DAY\n",
       "CHN       China  1398.72  9596.96  12234.8       Asia         NaN\n",
       "IND       India  1351.16  3287.26  2575.67       Asia  1947-08-15\n",
       "USA          US   329.74  9833.52  19485.4  N.America  1776-07-04\n",
       "IDN   Indonesia   268.07  1910.93  1015.54       Asia  1945-08-17\n",
       "BRA      Brazil   210.32  8515.77  2055.51  S.America  1822-09-07\n",
       "PAK    Pakistan   205.71   881.91   302.14       Asia  1947-08-14\n",
       "NGA     Nigeria   200.96   923.77   375.77     Africa  1960-10-01\n",
       "BGD  Bangladesh   167.09   147.57   245.63       Asia  1971-03-26\n",
       "RUS      Russia   146.79  17098.2  1530.75        NaN  1992-06-12\n",
       "MEX      Mexico   126.58  1964.38  1158.23  N.America  1810-09-16\n",
       "JPN       Japan   126.22   377.97  4872.42       Asia         NaN\n",
       "DEU     Germany    83.02   357.11   3693.2     Europe         NaN\n",
       "FRA      France    67.02   640.68  2582.49     Europe  1789-07-14\n",
       "GBR          UK    66.44    242.5  2631.23     Europe         NaN\n",
       "ITA       Italy    60.36   301.34  1943.84     Europe         NaN\n",
       "ARG   Argentina    44.94   2780.4   637.49  S.America  1816-07-09\n",
       "DZA     Algeria    43.38  2381.74   167.56     Africa  1962-07-05\n",
       "CAN      Canada    37.59  9984.67  1647.12  N.America  1867-07-01\n",
       "AUS   Australia    25.47  7692.02  1408.68    Oceania         NaN\n",
       "KAZ  Kazakhstan    18.53   2724.9   159.41       Asia  1991-12-16"
      ],
      "text/html": "<div>\n<style scoped>\n    .dataframe tbody tr th:only-of-type {\n        vertical-align: middle;\n    }\n\n    .dataframe tbody tr th {\n        vertical-align: top;\n    }\n\n    .dataframe thead th {\n        text-align: right;\n    }\n</style>\n<table border=\"1\" class=\"dataframe\">\n  <thead>\n    <tr style=\"text-align: right;\">\n      <th></th>\n      <th>COUNTRY</th>\n      <th>POP</th>\n      <th>AREA</th>\n      <th>GDP</th>\n      <th>CONT</th>\n      <th>IND_DAY</th>\n    </tr>\n  </thead>\n  <tbody>\n    <tr>\n      <th>CHN</th>\n      <td>China</td>\n      <td>1398.72</td>\n      <td>9596.96</td>\n      <td>12234.8</td>\n      <td>Asia</td>\n      <td>NaN</td>\n    </tr>\n    <tr>\n      <th>IND</th>\n      <td>India</td>\n      <td>1351.16</td>\n      <td>3287.26</td>\n      <td>2575.67</td>\n      <td>Asia</td>\n      <td>1947-08-15</td>\n    </tr>\n    <tr>\n      <th>USA</th>\n      <td>US</td>\n      <td>329.74</td>\n      <td>9833.52</td>\n      <td>19485.4</td>\n      <td>N.America</td>\n      <td>1776-07-04</td>\n    </tr>\n    <tr>\n      <th>IDN</th>\n      <td>Indonesia</td>\n      <td>268.07</td>\n      <td>1910.93</td>\n      <td>1015.54</td>\n      <td>Asia</td>\n      <td>1945-08-17</td>\n    </tr>\n    <tr>\n      <th>BRA</th>\n      <td>Brazil</td>\n      <td>210.32</td>\n      <td>8515.77</td>\n      <td>2055.51</td>\n      <td>S.America</td>\n      <td>1822-09-07</td>\n    </tr>\n    <tr>\n      <th>PAK</th>\n      <td>Pakistan</td>\n      <td>205.71</td>\n      <td>881.91</td>\n      <td>302.14</td>\n      <td>Asia</td>\n      <td>1947-08-14</td>\n    </tr>\n    <tr>\n      <th>NGA</th>\n      <td>Nigeria</td>\n      <td>200.96</td>\n      <td>923.77</td>\n      <td>375.77</td>\n      <td>Africa</td>\n      <td>1960-10-01</td>\n    </tr>\n    <tr>\n      <th>BGD</th>\n      <td>Bangladesh</td>\n      <td>167.09</td>\n      <td>147.57</td>\n      <td>245.63</td>\n      <td>Asia</td>\n      <td>1971-03-26</td>\n    </tr>\n    <tr>\n      <th>RUS</th>\n      <td>Russia</td>\n      <td>146.79</td>\n      <td>17098.2</td>\n      <td>1530.75</td>\n      <td>NaN</td>\n      <td>1992-06-12</td>\n    </tr>\n    <tr>\n      <th>MEX</th>\n      <td>Mexico</td>\n      <td>126.58</td>\n      <td>1964.38</td>\n      <td>1158.23</td>\n      <td>N.America</td>\n      <td>1810-09-16</td>\n    </tr>\n    <tr>\n      <th>JPN</th>\n      <td>Japan</td>\n      <td>126.22</td>\n      <td>377.97</td>\n      <td>4872.42</td>\n      <td>Asia</td>\n      <td>NaN</td>\n    </tr>\n    <tr>\n      <th>DEU</th>\n      <td>Germany</td>\n      <td>83.02</td>\n      <td>357.11</td>\n      <td>3693.2</td>\n      <td>Europe</td>\n      <td>NaN</td>\n    </tr>\n    <tr>\n      <th>FRA</th>\n      <td>France</td>\n      <td>67.02</td>\n      <td>640.68</td>\n      <td>2582.49</td>\n      <td>Europe</td>\n      <td>1789-07-14</td>\n    </tr>\n    <tr>\n      <th>GBR</th>\n      <td>UK</td>\n      <td>66.44</td>\n      <td>242.5</td>\n      <td>2631.23</td>\n      <td>Europe</td>\n      <td>NaN</td>\n    </tr>\n    <tr>\n      <th>ITA</th>\n      <td>Italy</td>\n      <td>60.36</td>\n      <td>301.34</td>\n      <td>1943.84</td>\n      <td>Europe</td>\n      <td>NaN</td>\n    </tr>\n    <tr>\n      <th>ARG</th>\n      <td>Argentina</td>\n      <td>44.94</td>\n      <td>2780.4</td>\n      <td>637.49</td>\n      <td>S.America</td>\n      <td>1816-07-09</td>\n    </tr>\n    <tr>\n      <th>DZA</th>\n      <td>Algeria</td>\n      <td>43.38</td>\n      <td>2381.74</td>\n      <td>167.56</td>\n      <td>Africa</td>\n      <td>1962-07-05</td>\n    </tr>\n    <tr>\n      <th>CAN</th>\n      <td>Canada</td>\n      <td>37.59</td>\n      <td>9984.67</td>\n      <td>1647.12</td>\n      <td>N.America</td>\n      <td>1867-07-01</td>\n    </tr>\n    <tr>\n      <th>AUS</th>\n      <td>Australia</td>\n      <td>25.47</td>\n      <td>7692.02</td>\n      <td>1408.68</td>\n      <td>Oceania</td>\n      <td>NaN</td>\n    </tr>\n    <tr>\n      <th>KAZ</th>\n      <td>Kazakhstan</td>\n      <td>18.53</td>\n      <td>2724.9</td>\n      <td>159.41</td>\n      <td>Asia</td>\n      <td>1991-12-16</td>\n    </tr>\n  </tbody>\n</table>\n</div>"
     },
     "metadata": {},
     "execution_count": 5
    }
   ],
   "source": [
    "df = pd.DataFrame(data=data, index=columns).T\n",
    "df"
   ]
  },
  {
   "cell_type": "code",
   "execution_count": 6,
   "metadata": {},
   "outputs": [],
   "source": [
    "# Write to csv\n",
    "df.to_csv('data.csv')"
   ]
  },
  {
   "cell_type": "code",
   "execution_count": 8,
   "metadata": {},
   "outputs": [
    {
     "output_type": "execute_result",
     "data": {
      "text/plain": [
       "        COUNTRY      POP      AREA       GDP       CONT     IND_DAY\n",
       "CHN       China  1398.72   9596.96  12234.78       Asia         NaN\n",
       "IND       India  1351.16   3287.26   2575.67       Asia  1947-08-15\n",
       "USA          US   329.74   9833.52  19485.39  N.America  1776-07-04\n",
       "IDN   Indonesia   268.07   1910.93   1015.54       Asia  1945-08-17\n",
       "BRA      Brazil   210.32   8515.77   2055.51  S.America  1822-09-07\n",
       "PAK    Pakistan   205.71    881.91    302.14       Asia  1947-08-14\n",
       "NGA     Nigeria   200.96    923.77    375.77     Africa  1960-10-01\n",
       "BGD  Bangladesh   167.09    147.57    245.63       Asia  1971-03-26\n",
       "RUS      Russia   146.79  17098.25   1530.75        NaN  1992-06-12\n",
       "MEX      Mexico   126.58   1964.38   1158.23  N.America  1810-09-16\n",
       "JPN       Japan   126.22    377.97   4872.42       Asia         NaN\n",
       "DEU     Germany    83.02    357.11   3693.20     Europe         NaN\n",
       "FRA      France    67.02    640.68   2582.49     Europe  1789-07-14\n",
       "GBR          UK    66.44    242.50   2631.23     Europe         NaN\n",
       "ITA       Italy    60.36    301.34   1943.84     Europe         NaN\n",
       "ARG   Argentina    44.94   2780.40    637.49  S.America  1816-07-09\n",
       "DZA     Algeria    43.38   2381.74    167.56     Africa  1962-07-05\n",
       "CAN      Canada    37.59   9984.67   1647.12  N.America  1867-07-01\n",
       "AUS   Australia    25.47   7692.02   1408.68    Oceania         NaN\n",
       "KAZ  Kazakhstan    18.53   2724.90    159.41       Asia  1991-12-16"
      ],
      "text/html": "<div>\n<style scoped>\n    .dataframe tbody tr th:only-of-type {\n        vertical-align: middle;\n    }\n\n    .dataframe tbody tr th {\n        vertical-align: top;\n    }\n\n    .dataframe thead th {\n        text-align: right;\n    }\n</style>\n<table border=\"1\" class=\"dataframe\">\n  <thead>\n    <tr style=\"text-align: right;\">\n      <th></th>\n      <th>COUNTRY</th>\n      <th>POP</th>\n      <th>AREA</th>\n      <th>GDP</th>\n      <th>CONT</th>\n      <th>IND_DAY</th>\n    </tr>\n  </thead>\n  <tbody>\n    <tr>\n      <th>CHN</th>\n      <td>China</td>\n      <td>1398.72</td>\n      <td>9596.96</td>\n      <td>12234.78</td>\n      <td>Asia</td>\n      <td>NaN</td>\n    </tr>\n    <tr>\n      <th>IND</th>\n      <td>India</td>\n      <td>1351.16</td>\n      <td>3287.26</td>\n      <td>2575.67</td>\n      <td>Asia</td>\n      <td>1947-08-15</td>\n    </tr>\n    <tr>\n      <th>USA</th>\n      <td>US</td>\n      <td>329.74</td>\n      <td>9833.52</td>\n      <td>19485.39</td>\n      <td>N.America</td>\n      <td>1776-07-04</td>\n    </tr>\n    <tr>\n      <th>IDN</th>\n      <td>Indonesia</td>\n      <td>268.07</td>\n      <td>1910.93</td>\n      <td>1015.54</td>\n      <td>Asia</td>\n      <td>1945-08-17</td>\n    </tr>\n    <tr>\n      <th>BRA</th>\n      <td>Brazil</td>\n      <td>210.32</td>\n      <td>8515.77</td>\n      <td>2055.51</td>\n      <td>S.America</td>\n      <td>1822-09-07</td>\n    </tr>\n    <tr>\n      <th>PAK</th>\n      <td>Pakistan</td>\n      <td>205.71</td>\n      <td>881.91</td>\n      <td>302.14</td>\n      <td>Asia</td>\n      <td>1947-08-14</td>\n    </tr>\n    <tr>\n      <th>NGA</th>\n      <td>Nigeria</td>\n      <td>200.96</td>\n      <td>923.77</td>\n      <td>375.77</td>\n      <td>Africa</td>\n      <td>1960-10-01</td>\n    </tr>\n    <tr>\n      <th>BGD</th>\n      <td>Bangladesh</td>\n      <td>167.09</td>\n      <td>147.57</td>\n      <td>245.63</td>\n      <td>Asia</td>\n      <td>1971-03-26</td>\n    </tr>\n    <tr>\n      <th>RUS</th>\n      <td>Russia</td>\n      <td>146.79</td>\n      <td>17098.25</td>\n      <td>1530.75</td>\n      <td>NaN</td>\n      <td>1992-06-12</td>\n    </tr>\n    <tr>\n      <th>MEX</th>\n      <td>Mexico</td>\n      <td>126.58</td>\n      <td>1964.38</td>\n      <td>1158.23</td>\n      <td>N.America</td>\n      <td>1810-09-16</td>\n    </tr>\n    <tr>\n      <th>JPN</th>\n      <td>Japan</td>\n      <td>126.22</td>\n      <td>377.97</td>\n      <td>4872.42</td>\n      <td>Asia</td>\n      <td>NaN</td>\n    </tr>\n    <tr>\n      <th>DEU</th>\n      <td>Germany</td>\n      <td>83.02</td>\n      <td>357.11</td>\n      <td>3693.20</td>\n      <td>Europe</td>\n      <td>NaN</td>\n    </tr>\n    <tr>\n      <th>FRA</th>\n      <td>France</td>\n      <td>67.02</td>\n      <td>640.68</td>\n      <td>2582.49</td>\n      <td>Europe</td>\n      <td>1789-07-14</td>\n    </tr>\n    <tr>\n      <th>GBR</th>\n      <td>UK</td>\n      <td>66.44</td>\n      <td>242.50</td>\n      <td>2631.23</td>\n      <td>Europe</td>\n      <td>NaN</td>\n    </tr>\n    <tr>\n      <th>ITA</th>\n      <td>Italy</td>\n      <td>60.36</td>\n      <td>301.34</td>\n      <td>1943.84</td>\n      <td>Europe</td>\n      <td>NaN</td>\n    </tr>\n    <tr>\n      <th>ARG</th>\n      <td>Argentina</td>\n      <td>44.94</td>\n      <td>2780.40</td>\n      <td>637.49</td>\n      <td>S.America</td>\n      <td>1816-07-09</td>\n    </tr>\n    <tr>\n      <th>DZA</th>\n      <td>Algeria</td>\n      <td>43.38</td>\n      <td>2381.74</td>\n      <td>167.56</td>\n      <td>Africa</td>\n      <td>1962-07-05</td>\n    </tr>\n    <tr>\n      <th>CAN</th>\n      <td>Canada</td>\n      <td>37.59</td>\n      <td>9984.67</td>\n      <td>1647.12</td>\n      <td>N.America</td>\n      <td>1867-07-01</td>\n    </tr>\n    <tr>\n      <th>AUS</th>\n      <td>Australia</td>\n      <td>25.47</td>\n      <td>7692.02</td>\n      <td>1408.68</td>\n      <td>Oceania</td>\n      <td>NaN</td>\n    </tr>\n    <tr>\n      <th>KAZ</th>\n      <td>Kazakhstan</td>\n      <td>18.53</td>\n      <td>2724.90</td>\n      <td>159.41</td>\n      <td>Asia</td>\n      <td>1991-12-16</td>\n    </tr>\n  </tbody>\n</table>\n</div>"
     },
     "metadata": {},
     "execution_count": 8
    }
   ],
   "source": [
    "# Read csv\n",
    "df = pd.read_csv('data.csv', index_col=0)\n",
    "df"
   ]
  },
  {
   "cell_type": "code",
   "execution_count": 11,
   "metadata": {},
   "outputs": [
    {
     "output_type": "execute_result",
     "data": {
      "text/plain": [
       "COUNTRY        Russia\n",
       "POP            146.79\n",
       "AREA          17098.2\n",
       "GDP           1530.75\n",
       "CONT              NaN\n",
       "IND_DAY    1992-06-12\n",
       "Name: RUS, dtype: object"
      ]
     },
     "metadata": {},
     "execution_count": 11
    }
   ],
   "source": [
    "df.loc['RUS']"
   ]
  },
  {
   "cell_type": "code",
   "execution_count": 12,
   "metadata": {},
   "outputs": [],
   "source": [
    "# represent missing data with string (missing)\n",
    "df.to_csv('new-data.csv', na_rep='(missing)')"
   ]
  },
  {
   "cell_type": "code",
   "execution_count": 13,
   "metadata": {},
   "outputs": [
    {
     "output_type": "execute_result",
     "data": {
      "text/plain": [
       "        COUNTRY      POP      AREA       GDP       CONT     IND_DAY\n",
       "CHN       China  1398.72   9596.96  12234.78       Asia   (missing)\n",
       "IND       India  1351.16   3287.26   2575.67       Asia  1947-08-15\n",
       "USA          US   329.74   9833.52  19485.39  N.America  1776-07-04\n",
       "IDN   Indonesia   268.07   1910.93   1015.54       Asia  1945-08-17\n",
       "BRA      Brazil   210.32   8515.77   2055.51  S.America  1822-09-07\n",
       "PAK    Pakistan   205.71    881.91    302.14       Asia  1947-08-14\n",
       "NGA     Nigeria   200.96    923.77    375.77     Africa  1960-10-01\n",
       "BGD  Bangladesh   167.09    147.57    245.63       Asia  1971-03-26\n",
       "RUS      Russia   146.79  17098.25   1530.75  (missing)  1992-06-12\n",
       "MEX      Mexico   126.58   1964.38   1158.23  N.America  1810-09-16\n",
       "JPN       Japan   126.22    377.97   4872.42       Asia   (missing)\n",
       "DEU     Germany    83.02    357.11   3693.20     Europe   (missing)\n",
       "FRA      France    67.02    640.68   2582.49     Europe  1789-07-14\n",
       "GBR          UK    66.44    242.50   2631.23     Europe   (missing)\n",
       "ITA       Italy    60.36    301.34   1943.84     Europe   (missing)\n",
       "ARG   Argentina    44.94   2780.40    637.49  S.America  1816-07-09\n",
       "DZA     Algeria    43.38   2381.74    167.56     Africa  1962-07-05\n",
       "CAN      Canada    37.59   9984.67   1647.12  N.America  1867-07-01\n",
       "AUS   Australia    25.47   7692.02   1408.68    Oceania   (missing)\n",
       "KAZ  Kazakhstan    18.53   2724.90    159.41       Asia  1991-12-16"
      ],
      "text/html": "<div>\n<style scoped>\n    .dataframe tbody tr th:only-of-type {\n        vertical-align: middle;\n    }\n\n    .dataframe tbody tr th {\n        vertical-align: top;\n    }\n\n    .dataframe thead th {\n        text-align: right;\n    }\n</style>\n<table border=\"1\" class=\"dataframe\">\n  <thead>\n    <tr style=\"text-align: right;\">\n      <th></th>\n      <th>COUNTRY</th>\n      <th>POP</th>\n      <th>AREA</th>\n      <th>GDP</th>\n      <th>CONT</th>\n      <th>IND_DAY</th>\n    </tr>\n  </thead>\n  <tbody>\n    <tr>\n      <th>CHN</th>\n      <td>China</td>\n      <td>1398.72</td>\n      <td>9596.96</td>\n      <td>12234.78</td>\n      <td>Asia</td>\n      <td>(missing)</td>\n    </tr>\n    <tr>\n      <th>IND</th>\n      <td>India</td>\n      <td>1351.16</td>\n      <td>3287.26</td>\n      <td>2575.67</td>\n      <td>Asia</td>\n      <td>1947-08-15</td>\n    </tr>\n    <tr>\n      <th>USA</th>\n      <td>US</td>\n      <td>329.74</td>\n      <td>9833.52</td>\n      <td>19485.39</td>\n      <td>N.America</td>\n      <td>1776-07-04</td>\n    </tr>\n    <tr>\n      <th>IDN</th>\n      <td>Indonesia</td>\n      <td>268.07</td>\n      <td>1910.93</td>\n      <td>1015.54</td>\n      <td>Asia</td>\n      <td>1945-08-17</td>\n    </tr>\n    <tr>\n      <th>BRA</th>\n      <td>Brazil</td>\n      <td>210.32</td>\n      <td>8515.77</td>\n      <td>2055.51</td>\n      <td>S.America</td>\n      <td>1822-09-07</td>\n    </tr>\n    <tr>\n      <th>PAK</th>\n      <td>Pakistan</td>\n      <td>205.71</td>\n      <td>881.91</td>\n      <td>302.14</td>\n      <td>Asia</td>\n      <td>1947-08-14</td>\n    </tr>\n    <tr>\n      <th>NGA</th>\n      <td>Nigeria</td>\n      <td>200.96</td>\n      <td>923.77</td>\n      <td>375.77</td>\n      <td>Africa</td>\n      <td>1960-10-01</td>\n    </tr>\n    <tr>\n      <th>BGD</th>\n      <td>Bangladesh</td>\n      <td>167.09</td>\n      <td>147.57</td>\n      <td>245.63</td>\n      <td>Asia</td>\n      <td>1971-03-26</td>\n    </tr>\n    <tr>\n      <th>RUS</th>\n      <td>Russia</td>\n      <td>146.79</td>\n      <td>17098.25</td>\n      <td>1530.75</td>\n      <td>(missing)</td>\n      <td>1992-06-12</td>\n    </tr>\n    <tr>\n      <th>MEX</th>\n      <td>Mexico</td>\n      <td>126.58</td>\n      <td>1964.38</td>\n      <td>1158.23</td>\n      <td>N.America</td>\n      <td>1810-09-16</td>\n    </tr>\n    <tr>\n      <th>JPN</th>\n      <td>Japan</td>\n      <td>126.22</td>\n      <td>377.97</td>\n      <td>4872.42</td>\n      <td>Asia</td>\n      <td>(missing)</td>\n    </tr>\n    <tr>\n      <th>DEU</th>\n      <td>Germany</td>\n      <td>83.02</td>\n      <td>357.11</td>\n      <td>3693.20</td>\n      <td>Europe</td>\n      <td>(missing)</td>\n    </tr>\n    <tr>\n      <th>FRA</th>\n      <td>France</td>\n      <td>67.02</td>\n      <td>640.68</td>\n      <td>2582.49</td>\n      <td>Europe</td>\n      <td>1789-07-14</td>\n    </tr>\n    <tr>\n      <th>GBR</th>\n      <td>UK</td>\n      <td>66.44</td>\n      <td>242.50</td>\n      <td>2631.23</td>\n      <td>Europe</td>\n      <td>(missing)</td>\n    </tr>\n    <tr>\n      <th>ITA</th>\n      <td>Italy</td>\n      <td>60.36</td>\n      <td>301.34</td>\n      <td>1943.84</td>\n      <td>Europe</td>\n      <td>(missing)</td>\n    </tr>\n    <tr>\n      <th>ARG</th>\n      <td>Argentina</td>\n      <td>44.94</td>\n      <td>2780.40</td>\n      <td>637.49</td>\n      <td>S.America</td>\n      <td>1816-07-09</td>\n    </tr>\n    <tr>\n      <th>DZA</th>\n      <td>Algeria</td>\n      <td>43.38</td>\n      <td>2381.74</td>\n      <td>167.56</td>\n      <td>Africa</td>\n      <td>1962-07-05</td>\n    </tr>\n    <tr>\n      <th>CAN</th>\n      <td>Canada</td>\n      <td>37.59</td>\n      <td>9984.67</td>\n      <td>1647.12</td>\n      <td>N.America</td>\n      <td>1867-07-01</td>\n    </tr>\n    <tr>\n      <th>AUS</th>\n      <td>Australia</td>\n      <td>25.47</td>\n      <td>7692.02</td>\n      <td>1408.68</td>\n      <td>Oceania</td>\n      <td>(missing)</td>\n    </tr>\n    <tr>\n      <th>KAZ</th>\n      <td>Kazakhstan</td>\n      <td>18.53</td>\n      <td>2724.90</td>\n      <td>159.41</td>\n      <td>Asia</td>\n      <td>1991-12-16</td>\n    </tr>\n  </tbody>\n</table>\n</div>"
     },
     "metadata": {},
     "execution_count": 13
    }
   ],
   "source": [
    "pd.read_csv('new-data.csv', index_col=0, na_values='(missing0')"
   ]
  },
  {
   "cell_type": "code",
   "execution_count": 14,
   "metadata": {},
   "outputs": [
    {
     "output_type": "execute_result",
     "data": {
      "text/plain": [
       "COUNTRY     object\n",
       "POP        float64\n",
       "AREA       float64\n",
       "GDP        float64\n",
       "CONT        object\n",
       "IND_DAY     object\n",
       "dtype: object"
      ]
     },
     "metadata": {},
     "execution_count": 14
    }
   ],
   "source": [
    "df.dtypes"
   ]
  },
  {
   "cell_type": "code",
   "execution_count": 15,
   "metadata": {},
   "outputs": [],
   "source": [
    "# Forcing dtypes\n",
    "dtypes = {'POP': 'float32', 'AREA': 'float32', 'GDP': 'float32'}"
   ]
  },
  {
   "cell_type": "code",
   "execution_count": 16,
   "metadata": {},
   "outputs": [],
   "source": [
    "df = pd.read_csv('data.csv', index_col=0, dtype=dtypes,parse_dates=['IND_DAY'])"
   ]
  },
  {
   "cell_type": "code",
   "execution_count": 18,
   "metadata": {},
   "outputs": [
    {
     "output_type": "execute_result",
     "data": {
      "text/plain": [
       "COUNTRY            object\n",
       "POP               float32\n",
       "AREA              float32\n",
       "GDP               float32\n",
       "CONT               object\n",
       "IND_DAY    datetime64[ns]\n",
       "dtype: object"
      ]
     },
     "metadata": {},
     "execution_count": 18
    }
   ],
   "source": [
    "df.dtypes"
   ]
  },
  {
   "cell_type": "code",
   "execution_count": 19,
   "metadata": {},
   "outputs": [
    {
     "output_type": "execute_result",
     "data": {
      "text/plain": [
       "CHN          NaT\n",
       "IND   1947-08-15\n",
       "USA   1776-07-04\n",
       "IDN   1945-08-17\n",
       "BRA   1822-09-07\n",
       "PAK   1947-08-14\n",
       "NGA   1960-10-01\n",
       "BGD   1971-03-26\n",
       "RUS   1992-06-12\n",
       "MEX   1810-09-16\n",
       "JPN          NaT\n",
       "DEU          NaT\n",
       "FRA   1789-07-14\n",
       "GBR          NaT\n",
       "ITA          NaT\n",
       "ARG   1816-07-09\n",
       "DZA   1962-07-05\n",
       "CAN   1867-07-01\n",
       "AUS          NaT\n",
       "KAZ   1991-12-16\n",
       "Name: IND_DAY, dtype: datetime64[ns]"
      ]
     },
     "metadata": {},
     "execution_count": 19
    }
   ],
   "source": [
    "df['IND_DAY']"
   ]
  },
  {
   "cell_type": "code",
   "execution_count": 20,
   "metadata": {},
   "outputs": [],
   "source": [
    "df = pd.read_csv('data.csv', index_col=0, parse_dates=['IND_DAY'])"
   ]
  },
  {
   "cell_type": "code",
   "execution_count": 21,
   "metadata": {},
   "outputs": [],
   "source": [
    "df.to_csv('formatted-data.csv', date_format='%B %d, %Y')"
   ]
  },
  {
   "cell_type": "code",
   "execution_count": 22,
   "metadata": {},
   "outputs": [
    {
     "output_type": "stream",
     "name": "stdout",
     "text": [
      "CHN;China;1398.72;9596.96;12234.78;Asia;\nIND;India;1351.16;3287.26;2575.67;Asia;1947-08-15\nUSA;US;329.74;9833.52;19485.39;N.America;1776-07-04\nIDN;Indonesia;268.07;1910.93;1015.54;Asia;1945-08-17\nBRA;Brazil;210.32;8515.77;2055.51;S.America;1822-09-07\nPAK;Pakistan;205.71;881.91;302.14;Asia;1947-08-14\nNGA;Nigeria;200.96;923.77;375.77;Africa;1960-10-01\nBGD;Bangladesh;167.09;147.57;245.63;Asia;1971-03-26\nRUS;Russia;146.79;17098.25;1530.75;;1992-06-12\nMEX;Mexico;126.58;1964.38;1158.23;N.America;1810-09-16\nJPN;Japan;126.22;377.97;4872.42;Asia;\nDEU;Germany;83.02;357.11;3693.2;Europe;\nFRA;France;67.02;640.68;2582.49;Europe;1789-07-14\nGBR;UK;66.44;242.5;2631.23;Europe;\nITA;Italy;60.36;301.34;1943.84;Europe;\nARG;Argentina;44.94;2780.4;637.49;S.America;1816-07-09\nDZA;Algeria;43.38;2381.74;167.56;Africa;1962-07-05\nCAN;Canada;37.59;9984.67;1647.12;N.America;1867-07-01\nAUS;Australia;25.47;7692.02;1408.68;Oceania;\nKAZ;Kazakhstan;18.53;2724.9;159.41;Asia;1991-12-16\n\n"
     ]
    }
   ],
   "source": [
    "s = df.to_csv(sep=';', header=False)\n",
    "print(s)"
   ]
  },
  {
   "cell_type": "code",
   "execution_count": 24,
   "metadata": {},
   "outputs": [],
   "source": [
    "df = pd.read_csv('../data/data-text/01 Antonet - Four-Canals-Carocci.txt.dcorf.csv')"
   ]
  },
  {
   "cell_type": "code",
   "execution_count": 25,
   "metadata": {},
   "outputs": [
    {
     "output_type": "execute_result",
     "data": {
      "text/plain": [
       "            NOUN      VERB/PREP        NOUN.1\n",
       "0       engineer            had  construction\n",
       "1       engineer           plan  construction\n",
       "2       engineer        produce        energy\n",
       "3   construction             of          lake\n",
       "4    engineer_he        thought         canal\n",
       "5    engineer_he          build         canal\n",
       "6          canal     collecting        coming\n",
       "7         coming           from        valley\n",
       "8          mason        pointed       periods\n",
       "9          water             be          lake\n",
       "10         canal             be         areas\n",
       "11         canal         damage         areas\n",
       "12         water           feed          lake\n",
       "13         water  flowing_along         canal\n",
       "14         areas             by      contrast\n",
       "15      contrast         during       periods\n",
       "16        stream             of         water\n",
       "17         mason         during       periods\n",
       "18        stream             of         water\n",
       "19         mason      suggested         canal\n",
       "20         mason          build         canal\n",
       "21        canals            was          same\n",
       "22         mason        instead         canal\n",
       "23          same             as         canal\n",
       "24          they       conveyed         water\n",
       "25        canals  placed_around          lake\n",
       "26         water    coming_from       valleys\n",
       "27         water        flow_in         canal\n",
       "28         canal         during       periods\n",
       "29       amounts             of         water\n",
       "30       time_it            was   sufficiency\n",
       "31          lake         fed_by         water\n",
       "32         water           from         belts\n",
       "33         belts           also       periods\n",
       "34   sufficiency           that           fed"
      ],
      "text/html": "<div>\n<style scoped>\n    .dataframe tbody tr th:only-of-type {\n        vertical-align: middle;\n    }\n\n    .dataframe tbody tr th {\n        vertical-align: top;\n    }\n\n    .dataframe thead th {\n        text-align: right;\n    }\n</style>\n<table border=\"1\" class=\"dataframe\">\n  <thead>\n    <tr style=\"text-align: right;\">\n      <th></th>\n      <th>NOUN</th>\n      <th>VERB/PREP</th>\n      <th>NOUN.1</th>\n    </tr>\n  </thead>\n  <tbody>\n    <tr>\n      <th>0</th>\n      <td>engineer</td>\n      <td>had</td>\n      <td>construction</td>\n    </tr>\n    <tr>\n      <th>1</th>\n      <td>engineer</td>\n      <td>plan</td>\n      <td>construction</td>\n    </tr>\n    <tr>\n      <th>2</th>\n      <td>engineer</td>\n      <td>produce</td>\n      <td>energy</td>\n    </tr>\n    <tr>\n      <th>3</th>\n      <td>construction</td>\n      <td>of</td>\n      <td>lake</td>\n    </tr>\n    <tr>\n      <th>4</th>\n      <td>engineer_he</td>\n      <td>thought</td>\n      <td>canal</td>\n    </tr>\n    <tr>\n      <th>5</th>\n      <td>engineer_he</td>\n      <td>build</td>\n      <td>canal</td>\n    </tr>\n    <tr>\n      <th>6</th>\n      <td>canal</td>\n      <td>collecting</td>\n      <td>coming</td>\n    </tr>\n    <tr>\n      <th>7</th>\n      <td>coming</td>\n      <td>from</td>\n      <td>valley</td>\n    </tr>\n    <tr>\n      <th>8</th>\n      <td>mason</td>\n      <td>pointed</td>\n      <td>periods</td>\n    </tr>\n    <tr>\n      <th>9</th>\n      <td>water</td>\n      <td>be</td>\n      <td>lake</td>\n    </tr>\n    <tr>\n      <th>10</th>\n      <td>canal</td>\n      <td>be</td>\n      <td>areas</td>\n    </tr>\n    <tr>\n      <th>11</th>\n      <td>canal</td>\n      <td>damage</td>\n      <td>areas</td>\n    </tr>\n    <tr>\n      <th>12</th>\n      <td>water</td>\n      <td>feed</td>\n      <td>lake</td>\n    </tr>\n    <tr>\n      <th>13</th>\n      <td>water</td>\n      <td>flowing_along</td>\n      <td>canal</td>\n    </tr>\n    <tr>\n      <th>14</th>\n      <td>areas</td>\n      <td>by</td>\n      <td>contrast</td>\n    </tr>\n    <tr>\n      <th>15</th>\n      <td>contrast</td>\n      <td>during</td>\n      <td>periods</td>\n    </tr>\n    <tr>\n      <th>16</th>\n      <td>stream</td>\n      <td>of</td>\n      <td>water</td>\n    </tr>\n    <tr>\n      <th>17</th>\n      <td>mason</td>\n      <td>during</td>\n      <td>periods</td>\n    </tr>\n    <tr>\n      <th>18</th>\n      <td>stream</td>\n      <td>of</td>\n      <td>water</td>\n    </tr>\n    <tr>\n      <th>19</th>\n      <td>mason</td>\n      <td>suggested</td>\n      <td>canal</td>\n    </tr>\n    <tr>\n      <th>20</th>\n      <td>mason</td>\n      <td>build</td>\n      <td>canal</td>\n    </tr>\n    <tr>\n      <th>21</th>\n      <td>canals</td>\n      <td>was</td>\n      <td>same</td>\n    </tr>\n    <tr>\n      <th>22</th>\n      <td>mason</td>\n      <td>instead</td>\n      <td>canal</td>\n    </tr>\n    <tr>\n      <th>23</th>\n      <td>same</td>\n      <td>as</td>\n      <td>canal</td>\n    </tr>\n    <tr>\n      <th>24</th>\n      <td>they</td>\n      <td>conveyed</td>\n      <td>water</td>\n    </tr>\n    <tr>\n      <th>25</th>\n      <td>canals</td>\n      <td>placed_around</td>\n      <td>lake</td>\n    </tr>\n    <tr>\n      <th>26</th>\n      <td>water</td>\n      <td>coming_from</td>\n      <td>valleys</td>\n    </tr>\n    <tr>\n      <th>27</th>\n      <td>water</td>\n      <td>flow_in</td>\n      <td>canal</td>\n    </tr>\n    <tr>\n      <th>28</th>\n      <td>canal</td>\n      <td>during</td>\n      <td>periods</td>\n    </tr>\n    <tr>\n      <th>29</th>\n      <td>amounts</td>\n      <td>of</td>\n      <td>water</td>\n    </tr>\n    <tr>\n      <th>30</th>\n      <td>time_it</td>\n      <td>was</td>\n      <td>sufficiency</td>\n    </tr>\n    <tr>\n      <th>31</th>\n      <td>lake</td>\n      <td>fed_by</td>\n      <td>water</td>\n    </tr>\n    <tr>\n      <th>32</th>\n      <td>water</td>\n      <td>from</td>\n      <td>belts</td>\n    </tr>\n    <tr>\n      <th>33</th>\n      <td>belts</td>\n      <td>also</td>\n      <td>periods</td>\n    </tr>\n    <tr>\n      <th>34</th>\n      <td>sufficiency</td>\n      <td>that</td>\n      <td>fed</td>\n    </tr>\n  </tbody>\n</table>\n</div>"
     },
     "metadata": {},
     "execution_count": 25
    }
   ],
   "source": [
    "df"
   ]
  },
  {
   "cell_type": "code",
   "execution_count": 49,
   "metadata": {},
   "outputs": [
    {
     "output_type": "execute_result",
     "data": {
      "text/plain": [
       "0               An\n",
       "1         engineer\n",
       "2              had\n",
       "3               to\n",
       "4             plan\n",
       "          ...     \n",
       "174            was\n",
       "175    sufficiency\n",
       "176           that\n",
       "177            the\n",
       "178           fed.\n",
       "Name: 0, Length: 179, dtype: object"
      ]
     },
     "metadata": {},
     "execution_count": 49
    }
   ],
   "source": [
    "data = pd.read_csv('../data/data-text/01 Antonet - Four-Canals-Carocci.txt', sep=\" \", header=None)\n",
    "data.loc[0]"
   ]
  },
  {
   "cell_type": "code",
   "execution_count": 27,
   "metadata": {},
   "outputs": [
    {
     "output_type": "execute_result",
     "data": {
      "text/plain": [
       "                                                   0  \\\n",
       "0  An engineer had to plan the construction of an...   \n",
       "\n",
       "                                                   1  \\\n",
       "0   a mason pointed out that during the flood per...   \n",
       "\n",
       "                                                   2  \\\n",
       "0   during the drought periods a unique stream of...   \n",
       "\n",
       "                               3                                4  \\\n",
       "0   the mason suggested to build   instead of a unique wide canal   \n",
       "\n",
       "                                                   5  \\\n",
       "0   four small canals whose total flow was the sa...   \n",
       "\n",
       "                                               6  \\\n",
       "0   the lake was fed by water from various belts   \n",
       "\n",
       "                                                   7  \n",
       "0   so that also during drought periods it was su...  "
      ],
      "text/html": "<div>\n<style scoped>\n    .dataframe tbody tr th:only-of-type {\n        vertical-align: middle;\n    }\n\n    .dataframe tbody tr th {\n        vertical-align: top;\n    }\n\n    .dataframe thead th {\n        text-align: right;\n    }\n</style>\n<table border=\"1\" class=\"dataframe\">\n  <thead>\n    <tr style=\"text-align: right;\">\n      <th></th>\n      <th>0</th>\n      <th>1</th>\n      <th>2</th>\n      <th>3</th>\n      <th>4</th>\n      <th>5</th>\n      <th>6</th>\n      <th>7</th>\n    </tr>\n  </thead>\n  <tbody>\n    <tr>\n      <th>0</th>\n      <td>An engineer had to plan the construction of an...</td>\n      <td>a mason pointed out that during the flood per...</td>\n      <td>during the drought periods a unique stream of...</td>\n      <td>the mason suggested to build</td>\n      <td>instead of a unique wide canal</td>\n      <td>four small canals whose total flow was the sa...</td>\n      <td>the lake was fed by water from various belts</td>\n      <td>so that also during drought periods it was su...</td>\n    </tr>\n  </tbody>\n</table>\n</div>"
     },
     "metadata": {},
     "execution_count": 27
    }
   ],
   "source": [
    "data"
   ]
  },
  {
   "cell_type": "code",
   "execution_count": 33,
   "metadata": {},
   "outputs": [
    {
     "output_type": "execute_result",
     "data": {
      "text/plain": [
       "                                                   0  \\\n",
       "0  An engineer had to plan the construction of an...   \n",
       "\n",
       "                                                   1  \\\n",
       "0   a mason pointed out that during the flood per...   \n",
       "\n",
       "                                                   2  \\\n",
       "0   during the drought periods a unique stream of...   \n",
       "\n",
       "                               3                                4  \\\n",
       "0   the mason suggested to build   instead of a unique wide canal   \n",
       "\n",
       "                                                   5  \\\n",
       "0   four small canals whose total flow was the sa...   \n",
       "\n",
       "                                               6  \\\n",
       "0   the lake was fed by water from various belts   \n",
       "\n",
       "                                                   7  \n",
       "0   so that also during drought periods it was su...  "
      ],
      "text/html": "<div>\n<style scoped>\n    .dataframe tbody tr th:only-of-type {\n        vertical-align: middle;\n    }\n\n    .dataframe tbody tr th {\n        vertical-align: top;\n    }\n\n    .dataframe thead th {\n        text-align: right;\n    }\n</style>\n<table border=\"1\" class=\"dataframe\">\n  <thead>\n    <tr style=\"text-align: right;\">\n      <th></th>\n      <th>0</th>\n      <th>1</th>\n      <th>2</th>\n      <th>3</th>\n      <th>4</th>\n      <th>5</th>\n      <th>6</th>\n      <th>7</th>\n    </tr>\n  </thead>\n  <tbody>\n    <tr>\n      <th>0</th>\n      <td>An engineer had to plan the construction of an...</td>\n      <td>a mason pointed out that during the flood per...</td>\n      <td>during the drought periods a unique stream of...</td>\n      <td>the mason suggested to build</td>\n      <td>instead of a unique wide canal</td>\n      <td>four small canals whose total flow was the sa...</td>\n      <td>the lake was fed by water from various belts</td>\n      <td>so that also during drought periods it was su...</td>\n    </tr>\n  </tbody>\n</table>\n</div>"
     },
     "metadata": {},
     "execution_count": 33
    }
   ],
   "source": [
    "data"
   ]
  },
  {
   "cell_type": "code",
   "execution_count": 41,
   "metadata": {},
   "outputs": [
    {
     "output_type": "execute_result",
     "data": {
      "text/plain": [
       "179"
      ]
     },
     "metadata": {},
     "execution_count": 41
    }
   ],
   "source": [
    "text = 'An engineer had to plan the construction of an artificial lake to produce electric energy. To feed the lake he thought to build a unique wide canal collecting water coming from a near valley. However, a mason pointed out that during the flood periods the stream of water flowing along the canal might be too strong and might damage the surrounding areas; by contrast, during the drought periods a unique stream of water might be insufficient to feed the lake. In order to avoid these mishaps, the mason suggested to build, instead of a unique wide canal, four small canals whose total flow was the same as the unique wide canal previously planned. These small canals were placed around the lake so that they conveyed water coming from four different valleys. In this way only small amounts of water could flow in each canal and thus during flood periods dangerous overflowing might not occur. At the same time, the lake was fed by water from various belts, so that also during drought periods it was sufficiency that the fed.'\n",
    "len(text.split())"
   ]
  },
  {
   "cell_type": "code",
   "execution_count": null,
   "metadata": {},
   "outputs": [],
   "source": [
    "\n"
   ]
  }
 ]
}