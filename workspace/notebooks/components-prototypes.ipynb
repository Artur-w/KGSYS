{
 "cells": [
  {
   "cell_type": "code",
   "execution_count": 17,
   "metadata": {},
   "outputs": [],
   "source": [
    "import spacy\n",
    "from sentences import text\n",
    "from spacy import displacy\n",
    "nlp = spacy.load('en_core_web_sm')\n",
    "doc = nlp(text) # use doc by convention? - spacy documentation"
   ]
  },
  {
   "cell_type": "markdown",
   "metadata": {},
   "source": [
    "# Extract single sentence\n",
    "Split text into sentences"
   ]
  },
  {
   "cell_type": "code",
   "execution_count": 18,
   "metadata": {},
   "outputs": [
    {
     "output_type": "stream",
     "name": "stdout",
     "text": [
      "there is: 7 sentences in input text\n\nfirst sentnece: \nAn engineer had to plan the construction of an artificial lake to produce electric energy.\n"
     ]
    }
   ],
   "source": [
    "def get_sent(text):\n",
    "    \"\"\"\n",
    "    return:     list of sentences for given text,\n",
    "                you can extract single sentence using\n",
    "                indexing. It return str object.\n",
    "    \"\"\"\n",
    "    tokens = nlp(text)\n",
    "    sents = []\n",
    "    for sent in tokens.sents:\n",
    "        sents.append(sent.string.strip())\n",
    "    return sents\n",
    "\n",
    "print(f\"there is: {len(get_sent(text))} sentences in input text\")\n",
    "print(f\"\\nfirst sentnece: \\n{get_sent(text)[0]}\")"
   ]
  },
  {
   "source": [
    "### Sentence Analysis"
   ],
   "cell_type": "markdown",
   "metadata": {}
  },
  {
   "cell_type": "code",
   "execution_count": 25,
   "metadata": {},
   "outputs": [
    {
     "output_type": "stream",
     "name": "stdout",
     "text": [
      "Text\tPOS\tDEP\tExplained\nAn          DET       det       determiner\nengineer    NOUN      nsubj     noun      \nhad         AUX       ROOT      auxiliary \nto          PART      aux       particle  \nplan        VERB      xcomp     verb      \nthe         DET       det       determiner\nconstructionNOUN      dobj      noun      \nof          ADP       prep      adposition\nan          DET       det       determiner\nartificial  ADJ       amod      adjective \nlake        NOUN      pobj      noun      \nto          PART      aux       particle  \nproduce     VERB      advcl     verb      \nelectric    ADJ       amod      adjective \nenergy      NOUN      dobj      noun      \n.           PUNCT     punct     punctuation\n"
     ]
    }
   ],
   "source": [
    "def sent_(sent, dep=False):\n",
    "    \"\"\"\n",
    "    Analyse sentence, breaks sentence into text, pos, dep\n",
    "    part of speach\n",
    "    dependency\n",
    "\n",
    "    \"\"\"\n",
    "\n",
    "    sent = nlp(sent)\n",
    "    print(\"Text\\tPOS\\tDEP\\tExplained\")\n",
    "    for token in sent:\n",
    "        # Get the token text, part-of-speech tag and dependency label\n",
    "        token_text = token.text\n",
    "        token_pos = token.pos_\n",
    "        token_dep = token.dep_\n",
    "        # This is for formatting only\n",
    "    \n",
    "        print('{:<12}{:<10}{:<10}{:<10}'.format(token_text, token_pos, token_dep,spacy.explain(token_pos)))\n",
    "    if dep==True:\n",
    "        displacy.render(sent, style='dep')\n",
    "\n",
    "sent_(get_sent(text)[0])"
   ]
  },
  {
   "cell_type": "code",
   "execution_count": 24,
   "metadata": {},
   "outputs": [],
   "source": [
    "spacy.explain('PRE')"
   ]
  },
  {
   "cell_type": "code",
   "execution_count": 12,
   "metadata": {},
   "outputs": [],
   "source": [
    "## Looking for roots os sentence.\n",
    "def n_chunk():\n",
    "    roots = ''\n",
    "    for chunk in doc.noun_chunks:\n",
    "        print(f\"Text: {chunk.text}\\n-> Root: {chunk.root.text}\\n-> Arc label:{chunk.root.dep_}\\n-> Root head: {chunk.root.head.text}\\n\")\n",
    "        roots += chunk.root.text+ ' ' +chunk.root.head.text+' '\n",
    "\n",
    "\n",
    "    \"\"\"\n",
    "    EXPECTED OUTPUT:\n",
    "\n",
    "    engineer,had,construction\n",
    "    engineer,plan,construction\n",
    "    engineer,produce,energy\n",
    "\n",
    "    \"\"\"\n",
    "\n",
    "    return roots"
   ]
  },
  {
   "cell_type": "code",
   "execution_count": 35,
   "metadata": {},
   "outputs": [
    {
     "output_type": "display_data",
     "data": {
      "text/plain": "<IPython.core.display.HTML object>",
      "text/html": "<span class=\"tex2jax_ignore\"><svg xmlns=\"http://www.w3.org/2000/svg\" xmlns:xlink=\"http://www.w3.org/1999/xlink\" xml:lang=\"en\" id=\"4d5cd8cf7bed4fc794e6a68facee1e91-0\" class=\"displacy\" width=\"2675\" height=\"487.0\" direction=\"ltr\" style=\"max-width: none; height: 487.0px; color: #000000; background: #ffffff; font-family: Arial; direction: ltr\">\n<text class=\"displacy-token\" fill=\"currentColor\" text-anchor=\"middle\" y=\"397.0\">\n    <tspan class=\"displacy-word\" fill=\"currentColor\" x=\"50\">An</tspan>\n    <tspan class=\"displacy-tag\" dy=\"2em\" fill=\"currentColor\" x=\"50\">DET</tspan>\n</text>\n\n<text class=\"displacy-token\" fill=\"currentColor\" text-anchor=\"middle\" y=\"397.0\">\n    <tspan class=\"displacy-word\" fill=\"currentColor\" x=\"225\">engineer</tspan>\n    <tspan class=\"displacy-tag\" dy=\"2em\" fill=\"currentColor\" x=\"225\">NOUN</tspan>\n</text>\n\n<text class=\"displacy-token\" fill=\"currentColor\" text-anchor=\"middle\" y=\"397.0\">\n    <tspan class=\"displacy-word\" fill=\"currentColor\" x=\"400\">had</tspan>\n    <tspan class=\"displacy-tag\" dy=\"2em\" fill=\"currentColor\" x=\"400\">AUX</tspan>\n</text>\n\n<text class=\"displacy-token\" fill=\"currentColor\" text-anchor=\"middle\" y=\"397.0\">\n    <tspan class=\"displacy-word\" fill=\"currentColor\" x=\"575\">to</tspan>\n    <tspan class=\"displacy-tag\" dy=\"2em\" fill=\"currentColor\" x=\"575\">PART</tspan>\n</text>\n\n<text class=\"displacy-token\" fill=\"currentColor\" text-anchor=\"middle\" y=\"397.0\">\n    <tspan class=\"displacy-word\" fill=\"currentColor\" x=\"750\">plan</tspan>\n    <tspan class=\"displacy-tag\" dy=\"2em\" fill=\"currentColor\" x=\"750\">VERB</tspan>\n</text>\n\n<text class=\"displacy-token\" fill=\"currentColor\" text-anchor=\"middle\" y=\"397.0\">\n    <tspan class=\"displacy-word\" fill=\"currentColor\" x=\"925\">the</tspan>\n    <tspan class=\"displacy-tag\" dy=\"2em\" fill=\"currentColor\" x=\"925\">DET</tspan>\n</text>\n\n<text class=\"displacy-token\" fill=\"currentColor\" text-anchor=\"middle\" y=\"397.0\">\n    <tspan class=\"displacy-word\" fill=\"currentColor\" x=\"1100\">construction</tspan>\n    <tspan class=\"displacy-tag\" dy=\"2em\" fill=\"currentColor\" x=\"1100\">NOUN</tspan>\n</text>\n\n<text class=\"displacy-token\" fill=\"currentColor\" text-anchor=\"middle\" y=\"397.0\">\n    <tspan class=\"displacy-word\" fill=\"currentColor\" x=\"1275\">of</tspan>\n    <tspan class=\"displacy-tag\" dy=\"2em\" fill=\"currentColor\" x=\"1275\">ADP</tspan>\n</text>\n\n<text class=\"displacy-token\" fill=\"currentColor\" text-anchor=\"middle\" y=\"397.0\">\n    <tspan class=\"displacy-word\" fill=\"currentColor\" x=\"1450\">an</tspan>\n    <tspan class=\"displacy-tag\" dy=\"2em\" fill=\"currentColor\" x=\"1450\">DET</tspan>\n</text>\n\n<text class=\"displacy-token\" fill=\"currentColor\" text-anchor=\"middle\" y=\"397.0\">\n    <tspan class=\"displacy-word\" fill=\"currentColor\" x=\"1625\">artificial</tspan>\n    <tspan class=\"displacy-tag\" dy=\"2em\" fill=\"currentColor\" x=\"1625\">ADJ</tspan>\n</text>\n\n<text class=\"displacy-token\" fill=\"currentColor\" text-anchor=\"middle\" y=\"397.0\">\n    <tspan class=\"displacy-word\" fill=\"currentColor\" x=\"1800\">lake</tspan>\n    <tspan class=\"displacy-tag\" dy=\"2em\" fill=\"currentColor\" x=\"1800\">NOUN</tspan>\n</text>\n\n<text class=\"displacy-token\" fill=\"currentColor\" text-anchor=\"middle\" y=\"397.0\">\n    <tspan class=\"displacy-word\" fill=\"currentColor\" x=\"1975\">to</tspan>\n    <tspan class=\"displacy-tag\" dy=\"2em\" fill=\"currentColor\" x=\"1975\">PART</tspan>\n</text>\n\n<text class=\"displacy-token\" fill=\"currentColor\" text-anchor=\"middle\" y=\"397.0\">\n    <tspan class=\"displacy-word\" fill=\"currentColor\" x=\"2150\">produce</tspan>\n    <tspan class=\"displacy-tag\" dy=\"2em\" fill=\"currentColor\" x=\"2150\">VERB</tspan>\n</text>\n\n<text class=\"displacy-token\" fill=\"currentColor\" text-anchor=\"middle\" y=\"397.0\">\n    <tspan class=\"displacy-word\" fill=\"currentColor\" x=\"2325\">electric</tspan>\n    <tspan class=\"displacy-tag\" dy=\"2em\" fill=\"currentColor\" x=\"2325\">ADJ</tspan>\n</text>\n\n<text class=\"displacy-token\" fill=\"currentColor\" text-anchor=\"middle\" y=\"397.0\">\n    <tspan class=\"displacy-word\" fill=\"currentColor\" x=\"2500\">energy.</tspan>\n    <tspan class=\"displacy-tag\" dy=\"2em\" fill=\"currentColor\" x=\"2500\">NOUN</tspan>\n</text>\n\n<g class=\"displacy-arrow\">\n    <path class=\"displacy-arc\" id=\"arrow-4d5cd8cf7bed4fc794e6a68facee1e91-0-0\" stroke-width=\"2px\" d=\"M70,352.0 C70,264.5 210.0,264.5 210.0,352.0\" fill=\"none\" stroke=\"currentColor\"/>\n    <text dy=\"1.25em\" style=\"font-size: 0.8em; letter-spacing: 1px\">\n        <textPath xlink:href=\"#arrow-4d5cd8cf7bed4fc794e6a68facee1e91-0-0\" class=\"displacy-label\" startOffset=\"50%\" side=\"left\" fill=\"currentColor\" text-anchor=\"middle\">det</textPath>\n    </text>\n    <path class=\"displacy-arrowhead\" d=\"M70,354.0 L62,342.0 78,342.0\" fill=\"currentColor\"/>\n</g>\n\n<g class=\"displacy-arrow\">\n    <path class=\"displacy-arc\" id=\"arrow-4d5cd8cf7bed4fc794e6a68facee1e91-0-1\" stroke-width=\"2px\" d=\"M245,352.0 C245,264.5 385.0,264.5 385.0,352.0\" fill=\"none\" stroke=\"currentColor\"/>\n    <text dy=\"1.25em\" style=\"font-size: 0.8em; letter-spacing: 1px\">\n        <textPath xlink:href=\"#arrow-4d5cd8cf7bed4fc794e6a68facee1e91-0-1\" class=\"displacy-label\" startOffset=\"50%\" side=\"left\" fill=\"currentColor\" text-anchor=\"middle\">nsubj</textPath>\n    </text>\n    <path class=\"displacy-arrowhead\" d=\"M245,354.0 L237,342.0 253,342.0\" fill=\"currentColor\"/>\n</g>\n\n<g class=\"displacy-arrow\">\n    <path class=\"displacy-arc\" id=\"arrow-4d5cd8cf7bed4fc794e6a68facee1e91-0-2\" stroke-width=\"2px\" d=\"M595,352.0 C595,264.5 735.0,264.5 735.0,352.0\" fill=\"none\" stroke=\"currentColor\"/>\n    <text dy=\"1.25em\" style=\"font-size: 0.8em; letter-spacing: 1px\">\n        <textPath xlink:href=\"#arrow-4d5cd8cf7bed4fc794e6a68facee1e91-0-2\" class=\"displacy-label\" startOffset=\"50%\" side=\"left\" fill=\"currentColor\" text-anchor=\"middle\">aux</textPath>\n    </text>\n    <path class=\"displacy-arrowhead\" d=\"M595,354.0 L587,342.0 603,342.0\" fill=\"currentColor\"/>\n</g>\n\n<g class=\"displacy-arrow\">\n    <path class=\"displacy-arc\" id=\"arrow-4d5cd8cf7bed4fc794e6a68facee1e91-0-3\" stroke-width=\"2px\" d=\"M420,352.0 C420,177.0 740.0,177.0 740.0,352.0\" fill=\"none\" stroke=\"currentColor\"/>\n    <text dy=\"1.25em\" style=\"font-size: 0.8em; letter-spacing: 1px\">\n        <textPath xlink:href=\"#arrow-4d5cd8cf7bed4fc794e6a68facee1e91-0-3\" class=\"displacy-label\" startOffset=\"50%\" side=\"left\" fill=\"currentColor\" text-anchor=\"middle\">xcomp</textPath>\n    </text>\n    <path class=\"displacy-arrowhead\" d=\"M740.0,354.0 L748.0,342.0 732.0,342.0\" fill=\"currentColor\"/>\n</g>\n\n<g class=\"displacy-arrow\">\n    <path class=\"displacy-arc\" id=\"arrow-4d5cd8cf7bed4fc794e6a68facee1e91-0-4\" stroke-width=\"2px\" d=\"M945,352.0 C945,264.5 1085.0,264.5 1085.0,352.0\" fill=\"none\" stroke=\"currentColor\"/>\n    <text dy=\"1.25em\" style=\"font-size: 0.8em; letter-spacing: 1px\">\n        <textPath xlink:href=\"#arrow-4d5cd8cf7bed4fc794e6a68facee1e91-0-4\" class=\"displacy-label\" startOffset=\"50%\" side=\"left\" fill=\"currentColor\" text-anchor=\"middle\">det</textPath>\n    </text>\n    <path class=\"displacy-arrowhead\" d=\"M945,354.0 L937,342.0 953,342.0\" fill=\"currentColor\"/>\n</g>\n\n<g class=\"displacy-arrow\">\n    <path class=\"displacy-arc\" id=\"arrow-4d5cd8cf7bed4fc794e6a68facee1e91-0-5\" stroke-width=\"2px\" d=\"M770,352.0 C770,177.0 1090.0,177.0 1090.0,352.0\" fill=\"none\" stroke=\"currentColor\"/>\n    <text dy=\"1.25em\" style=\"font-size: 0.8em; letter-spacing: 1px\">\n        <textPath xlink:href=\"#arrow-4d5cd8cf7bed4fc794e6a68facee1e91-0-5\" class=\"displacy-label\" startOffset=\"50%\" side=\"left\" fill=\"currentColor\" text-anchor=\"middle\">dobj</textPath>\n    </text>\n    <path class=\"displacy-arrowhead\" d=\"M1090.0,354.0 L1098.0,342.0 1082.0,342.0\" fill=\"currentColor\"/>\n</g>\n\n<g class=\"displacy-arrow\">\n    <path class=\"displacy-arc\" id=\"arrow-4d5cd8cf7bed4fc794e6a68facee1e91-0-6\" stroke-width=\"2px\" d=\"M1120,352.0 C1120,264.5 1260.0,264.5 1260.0,352.0\" fill=\"none\" stroke=\"currentColor\"/>\n    <text dy=\"1.25em\" style=\"font-size: 0.8em; letter-spacing: 1px\">\n        <textPath xlink:href=\"#arrow-4d5cd8cf7bed4fc794e6a68facee1e91-0-6\" class=\"displacy-label\" startOffset=\"50%\" side=\"left\" fill=\"currentColor\" text-anchor=\"middle\">prep</textPath>\n    </text>\n    <path class=\"displacy-arrowhead\" d=\"M1260.0,354.0 L1268.0,342.0 1252.0,342.0\" fill=\"currentColor\"/>\n</g>\n\n<g class=\"displacy-arrow\">\n    <path class=\"displacy-arc\" id=\"arrow-4d5cd8cf7bed4fc794e6a68facee1e91-0-7\" stroke-width=\"2px\" d=\"M1470,352.0 C1470,177.0 1790.0,177.0 1790.0,352.0\" fill=\"none\" stroke=\"currentColor\"/>\n    <text dy=\"1.25em\" style=\"font-size: 0.8em; letter-spacing: 1px\">\n        <textPath xlink:href=\"#arrow-4d5cd8cf7bed4fc794e6a68facee1e91-0-7\" class=\"displacy-label\" startOffset=\"50%\" side=\"left\" fill=\"currentColor\" text-anchor=\"middle\">det</textPath>\n    </text>\n    <path class=\"displacy-arrowhead\" d=\"M1470,354.0 L1462,342.0 1478,342.0\" fill=\"currentColor\"/>\n</g>\n\n<g class=\"displacy-arrow\">\n    <path class=\"displacy-arc\" id=\"arrow-4d5cd8cf7bed4fc794e6a68facee1e91-0-8\" stroke-width=\"2px\" d=\"M1645,352.0 C1645,264.5 1785.0,264.5 1785.0,352.0\" fill=\"none\" stroke=\"currentColor\"/>\n    <text dy=\"1.25em\" style=\"font-size: 0.8em; letter-spacing: 1px\">\n        <textPath xlink:href=\"#arrow-4d5cd8cf7bed4fc794e6a68facee1e91-0-8\" class=\"displacy-label\" startOffset=\"50%\" side=\"left\" fill=\"currentColor\" text-anchor=\"middle\">amod</textPath>\n    </text>\n    <path class=\"displacy-arrowhead\" d=\"M1645,354.0 L1637,342.0 1653,342.0\" fill=\"currentColor\"/>\n</g>\n\n<g class=\"displacy-arrow\">\n    <path class=\"displacy-arc\" id=\"arrow-4d5cd8cf7bed4fc794e6a68facee1e91-0-9\" stroke-width=\"2px\" d=\"M1295,352.0 C1295,89.5 1795.0,89.5 1795.0,352.0\" fill=\"none\" stroke=\"currentColor\"/>\n    <text dy=\"1.25em\" style=\"font-size: 0.8em; letter-spacing: 1px\">\n        <textPath xlink:href=\"#arrow-4d5cd8cf7bed4fc794e6a68facee1e91-0-9\" class=\"displacy-label\" startOffset=\"50%\" side=\"left\" fill=\"currentColor\" text-anchor=\"middle\">pobj</textPath>\n    </text>\n    <path class=\"displacy-arrowhead\" d=\"M1795.0,354.0 L1803.0,342.0 1787.0,342.0\" fill=\"currentColor\"/>\n</g>\n\n<g class=\"displacy-arrow\">\n    <path class=\"displacy-arc\" id=\"arrow-4d5cd8cf7bed4fc794e6a68facee1e91-0-10\" stroke-width=\"2px\" d=\"M1995,352.0 C1995,264.5 2135.0,264.5 2135.0,352.0\" fill=\"none\" stroke=\"currentColor\"/>\n    <text dy=\"1.25em\" style=\"font-size: 0.8em; letter-spacing: 1px\">\n        <textPath xlink:href=\"#arrow-4d5cd8cf7bed4fc794e6a68facee1e91-0-10\" class=\"displacy-label\" startOffset=\"50%\" side=\"left\" fill=\"currentColor\" text-anchor=\"middle\">aux</textPath>\n    </text>\n    <path class=\"displacy-arrowhead\" d=\"M1995,354.0 L1987,342.0 2003,342.0\" fill=\"currentColor\"/>\n</g>\n\n<g class=\"displacy-arrow\">\n    <path class=\"displacy-arc\" id=\"arrow-4d5cd8cf7bed4fc794e6a68facee1e91-0-11\" stroke-width=\"2px\" d=\"M770,352.0 C770,2.0 2150.0,2.0 2150.0,352.0\" fill=\"none\" stroke=\"currentColor\"/>\n    <text dy=\"1.25em\" style=\"font-size: 0.8em; letter-spacing: 1px\">\n        <textPath xlink:href=\"#arrow-4d5cd8cf7bed4fc794e6a68facee1e91-0-11\" class=\"displacy-label\" startOffset=\"50%\" side=\"left\" fill=\"currentColor\" text-anchor=\"middle\">advcl</textPath>\n    </text>\n    <path class=\"displacy-arrowhead\" d=\"M2150.0,354.0 L2158.0,342.0 2142.0,342.0\" fill=\"currentColor\"/>\n</g>\n\n<g class=\"displacy-arrow\">\n    <path class=\"displacy-arc\" id=\"arrow-4d5cd8cf7bed4fc794e6a68facee1e91-0-12\" stroke-width=\"2px\" d=\"M2345,352.0 C2345,264.5 2485.0,264.5 2485.0,352.0\" fill=\"none\" stroke=\"currentColor\"/>\n    <text dy=\"1.25em\" style=\"font-size: 0.8em; letter-spacing: 1px\">\n        <textPath xlink:href=\"#arrow-4d5cd8cf7bed4fc794e6a68facee1e91-0-12\" class=\"displacy-label\" startOffset=\"50%\" side=\"left\" fill=\"currentColor\" text-anchor=\"middle\">amod</textPath>\n    </text>\n    <path class=\"displacy-arrowhead\" d=\"M2345,354.0 L2337,342.0 2353,342.0\" fill=\"currentColor\"/>\n</g>\n\n<g class=\"displacy-arrow\">\n    <path class=\"displacy-arc\" id=\"arrow-4d5cd8cf7bed4fc794e6a68facee1e91-0-13\" stroke-width=\"2px\" d=\"M2170,352.0 C2170,177.0 2490.0,177.0 2490.0,352.0\" fill=\"none\" stroke=\"currentColor\"/>\n    <text dy=\"1.25em\" style=\"font-size: 0.8em; letter-spacing: 1px\">\n        <textPath xlink:href=\"#arrow-4d5cd8cf7bed4fc794e6a68facee1e91-0-13\" class=\"displacy-label\" startOffset=\"50%\" side=\"left\" fill=\"currentColor\" text-anchor=\"middle\">dobj</textPath>\n    </text>\n    <path class=\"displacy-arrowhead\" d=\"M2490.0,354.0 L2498.0,342.0 2482.0,342.0\" fill=\"currentColor\"/>\n</g>\n</svg></span>"
     },
     "metadata": {}
    },
    {
     "output_type": "execute_result",
     "data": {
      "text/plain": [
       "[An engineer, the construction, an artificial lake, electric energy]"
      ]
     },
     "metadata": {},
     "execution_count": 35
    }
   ],
   "source": [
    "def noun_chunks_sent(sentence):\n",
    "    '''\n",
    "    Take in single sntence and output\n",
    "    nound chunks\n",
    "    '''\n",
    "    chunks = []\n",
    "    sent = nlp(sentence)\n",
    "    for chunk in sent.noun_chunks:\n",
    "        chunks.append(chunk)\n",
    "    displacy.render(sent,style='dep')\n",
    "    return chunks\n",
    "noun_chunks_sent(get_sent(text)[0])"
   ]
  },
  {
   "cell_type": "code",
   "execution_count": 56,
   "metadata": {},
   "outputs": [
    {
     "output_type": "stream",
     "name": "stdout",
     "text": [
      "An engineer\nan engineer\nan engineer\n0\n0\n<generator object at 0x11c9caaf0>\n<generator object at 0x11c9caaf0>\n<generator object at 0x11c9caaf0>\n<spacy.vocab.Vocab object at 0x11cb1a740>\n\n\nthe construction\nthe construction\nthe construction\n0\n1\n<generator object at 0x11f0f8c10>\n<generator object at 0x11f0f8c10>\n<generator object at 0x11f0f8c10>\n<spacy.vocab.Vocab object at 0x11cb1a740>\n\n\nan artificial lake\nan artificial lake\nan artificial lake\n0\n0\n<generator object at 0x11c9d1ee0>\n<generator object at 0x11c9d1ee0>\n<generator object at 0x11c9d1ee0>\n<spacy.vocab.Vocab object at 0x11cb1a740>\n\n\nelectric energy\nelectric energy\nelectric energy\n0\n0\n<generator object at 0x11f2ff3a0>\n<generator object at 0x11f2ff3a0>\n<generator object at 0x11f2ff3a0>\n<spacy.vocab.Vocab object at 0x11cb1a740>\n\n\nthe lake\nthe lake\nthe lake\n0\n1\n<generator object at 0x11f2ffee0>\n<generator object at 0x11f2ffee0>\n<generator object at 0x11f2ffee0>\n<spacy.vocab.Vocab object at 0x11cb1a740>\n\n\nhe\n-PRON-\nhe\n0\n0\n<generator object at 0x11f331a60>\n<generator object at 0x11f331a60>\n<generator object at 0x11f331a60>\n<spacy.vocab.Vocab object at 0x11cb1a740>\n\n\na unique wide canal collecting water\na unique wide canal collect water\na unique wide canal collecting water\n0\n1\n<generator object at 0x11ea6a5e0>\n<generator object at 0x11ea6a5e0>\n<generator object at 0x11ea6a5e0>\n<spacy.vocab.Vocab object at 0x11cb1a740>\n\n\na near valley\na near valley\na near valley\n0\n0\n<generator object at 0x11ea48e50>\n<generator object at 0x11ea48e50>\n<generator object at 0x11ea48e50>\n<spacy.vocab.Vocab object at 0x11cb1a740>\n\n\na mason\na mason\na mason\n0\n0\n<generator object at 0x11ea48310>\n<generator object at 0x11ea48310>\n<generator object at 0x11ea48310>\n<spacy.vocab.Vocab object at 0x11cb1a740>\n\n\nthe flood periods\nthe flood period\nthe flood periods\n0\n0\n<generator object at 0x11ea58820>\n<generator object at 0x11ea58820>\n<generator object at 0x11ea58820>\n<spacy.vocab.Vocab object at 0x11cb1a740>\n\n\nthe stream\nthe stream\nthe stream\n0\n2\n<generator object at 0x11e98d3a0>\n<generator object at 0x11e98d3a0>\n<generator object at 0x11e98d3a0>\n<spacy.vocab.Vocab object at 0x11cb1a740>\n\n\nwater\nwater\nwater\n0\n0\n<generator object at 0x11e98dee0>\n<generator object at 0x11e98dee0>\n<generator object at 0x11e98dee0>\n<spacy.vocab.Vocab object at 0x11cb1a740>\n\n\nthe canal\nthe canal\nthe canal\n0\n0\n<generator object at 0x11e98aa60>\n<generator object at 0x11e98aa60>\n<generator object at 0x11e98aa60>\n<spacy.vocab.Vocab object at 0x11cb1a740>\n\n\nthe surrounding areas\nthe surround area\nthe surrounding areas\n0\n0\n<generator object at 0x11e9ad550>\n<generator object at 0x11e9ad550>\n<generator object at 0x11e9ad550>\n<spacy.vocab.Vocab object at 0x11cb1a740>\n\n\ncontrast\ncontrast\ncontrast\n0\n0\n<generator object at 0x11e9b10d0>\n<generator object at 0x11e9b10d0>\n<generator object at 0x11e9b10d0>\n<spacy.vocab.Vocab object at 0x11cb1a740>\n\n\na unique stream\na unique stream\na unique stream\n0\n1\n<generator object at 0x11e9b1c10>\n<generator object at 0x11e9b1c10>\n<generator object at 0x11e9b1c10>\n<spacy.vocab.Vocab object at 0x11cb1a740>\n\n\nwater\nwater\nwater\n0\n0\n<generator object at 0x11e97b790>\n<generator object at 0x11e97b790>\n<generator object at 0x11e97b790>\n<spacy.vocab.Vocab object at 0x11cb1a740>\n\n\nthe lake\nthe lake\nthe lake\n0\n0\n<generator object at 0x11e982310>\n<generator object at 0x11e982310>\n<generator object at 0x11e982310>\n<spacy.vocab.Vocab object at 0x11cb1a740>\n\n\norder\norder\norder\n0\n1\n<generator object at 0x11e982e50>\n<generator object at 0x11e982e50>\n<generator object at 0x11e982e50>\n<spacy.vocab.Vocab object at 0x11cb1a740>\n\n\nthese mishaps\nthese mishap\nthese mishaps\n0\n0\n<generator object at 0x11e9659d0>\n<generator object at 0x11e9659d0>\n<generator object at 0x11e9659d0>\n<spacy.vocab.Vocab object at 0x11cb1a740>\n\n\nthe mason\nthe mason\nthe mason\n0\n0\n<generator object at 0x11e973550>\n<generator object at 0x11e973550>\n<generator object at 0x11e973550>\n<spacy.vocab.Vocab object at 0x11cb1a740>\n\n\na unique wide canal\na unique wide canal\na unique wide canal\n0\n2\n<generator object at 0x11e96a0d0>\n<generator object at 0x11e96a0d0>\n<generator object at 0x11e96a0d0>\n<spacy.vocab.Vocab object at 0x11cb1a740>\n\n\nfour small canals\nfour small canal\nfour small canals\n0\n1\n<generator object at 0x11e96ac10>\n<generator object at 0x11e96ac10>\n<generator object at 0x11e96ac10>\n<spacy.vocab.Vocab object at 0x11cb1a740>\n\n\nwhose total flow\nwhose total flow\nwhose total flow\n0\n0\n<generator object at 0x11e94b790>\n<generator object at 0x11e94b790>\n<generator object at 0x11e94b790>\n<spacy.vocab.Vocab object at 0x11cb1a740>\n\n\nthe unique wide canal\nthe unique wide canal\nthe unique wide canal\n0\n1\n<generator object at 0x11e948310>\n<generator object at 0x11e948310>\n<generator object at 0x11e948310>\n<spacy.vocab.Vocab object at 0x11cb1a740>\n\n\nThese small canals\nthese small canal\nthese small canals\n0\n0\n<generator object at 0x11e948e50>\n<generator object at 0x11e948e50>\n<generator object at 0x11e948e50>\n<spacy.vocab.Vocab object at 0x11cb1a740>\n\n\nthe lake\nthe lake\nthe lake\n0\n0\n<generator object at 0x11e9459d0>\n<generator object at 0x11e9459d0>\n<generator object at 0x11e9459d0>\n<spacy.vocab.Vocab object at 0x11cb1a740>\n\n\nthey\n-PRON-\nthey\n0\n0\n<generator object at 0x11e9424c0>\n<generator object at 0x11e9424c0>\n<generator object at 0x11e9424c0>\n<spacy.vocab.Vocab object at 0x11cb1a740>\n\n\nwater\nwater\nwater\n0\n0\n<generator object at 0x11c9d1940>\n<generator object at 0x11c9d1940>\n<generator object at 0x11c9d1940>\n<spacy.vocab.Vocab object at 0x11cb1a740>\n\n\nfour different valleys\nfour different valley\nfour different valleys\n0\n0\n<generator object at 0x11f0f8ee0>\n<generator object at 0x11f0f8ee0>\n<generator object at 0x11f0f8ee0>\n<spacy.vocab.Vocab object at 0x11cb1a740>\n\n\nthis way\nthis way\nthis way\n0\n0\n<generator object at 0x11c9d1160>\n<generator object at 0x11c9d1160>\n<generator object at 0x11c9d1160>\n<spacy.vocab.Vocab object at 0x11cb1a740>\n\n\nonly small amounts\nonly small amount\nonly small amounts\n0\n1\n<generator object at 0x11f0f8550>\n<generator object at 0x11f0f8550>\n<generator object at 0x11f0f8550>\n<spacy.vocab.Vocab object at 0x11cb1a740>\n\n\nwater\nwater\nwater\n0\n0\n<generator object at 0x11c9d18b0>\n<generator object at 0x11c9d18b0>\n<generator object at 0x11c9d18b0>\n<spacy.vocab.Vocab object at 0x11cb1a740>\n\n\neach canal\neach canal\neach canal\n0\n0\n<generator object at 0x11f0b3ca0>\n<generator object at 0x11f0b3ca0>\n<generator object at 0x11f0b3ca0>\n<spacy.vocab.Vocab object at 0x11cb1a740>\n\n\nflood periods dangerous overflowing\nflood period dangerous overflowing\nflood periods dangerous overflowing\n0\n0\n<generator object at 0x11c9d19d0>\n<generator object at 0x11c9d19d0>\n<generator object at 0x11c9d19d0>\n<spacy.vocab.Vocab object at 0x11cb1a740>\n\n\nthe same time\nthe same time\nthe same time\n0\n0\n<generator object at 0x11f0f8040>\n<generator object at 0x11f0f8040>\n<generator object at 0x11f0f8040>\n<spacy.vocab.Vocab object at 0x11cb1a740>\n\n\nthe lake\nthe lake\nthe lake\n0\n0\n<generator object at 0x11c9ca430>\n<generator object at 0x11c9ca430>\n<generator object at 0x11c9ca430>\n<spacy.vocab.Vocab object at 0x11cb1a740>\n\n\nwater\nwater\nwater\n0\n0\n<generator object at 0x11c8c3b80>\n<generator object at 0x11c8c3b80>\n<generator object at 0x11c8c3b80>\n<spacy.vocab.Vocab object at 0x11cb1a740>\n\n\nvarious belts\nvarious belt\nvarious belts\n0\n0\n<generator object at 0x11f0f8ee0>\n<generator object at 0x11f0f8ee0>\n<generator object at 0x11f0f8ee0>\n<spacy.vocab.Vocab object at 0x11cb1a740>\n\n\ndrought periods\ndrought period\ndrought periods\n0\n0\n<generator object at 0x11c9d1790>\n<generator object at 0x11c9d1790>\n<generator object at 0x11c9d1790>\n<spacy.vocab.Vocab object at 0x11cb1a740>\n\n\nit\n-PRON-\nit\n0\n0\n<generator object at 0x11ea58820>\n<generator object at 0x11ea58820>\n<generator object at 0x11ea58820>\n<spacy.vocab.Vocab object at 0x11cb1a740>\n\n\n"
     ]
    }
   ],
   "source": [
    "have_right = []\n",
    "for i in doc.noun_chunks:\n",
    "    print(i)\n",
    "    print(i.lower_)\n",
    "    print(i.lemma_)\n",
    "    print(i.n_lefts)\n",
    "    print(i.n_rights)\n",
    "    print(i.noun_chunks)\n",
    "    print(i.rights)\n",
    "    print(i.subtree)\n",
    "    print(i.vocab)\n",
    "    print(\"\\n\")\n",
    "    if (i.n_rights == 1):\n",
    "        have_right.append\n",
    "        "
   ]
  },
  {
   "cell_type": "markdown",
   "metadata": {},
   "source": [
    "# Dependency Parser\n",
    "spaCy features a fast and accurate syntactic dependency parser, and has a rich API for navigating the tree. The parser also powers the sentence boundary detection, and lets you iterate over base noun phrases, or “chunks”. You can check whether a Doc object has been parsed with the doc.is_parsed attribute, which returns a boolean value. If this attribute is False, the default sentence iterator will raise an exception.\n",
    "\n",
    "## Noun chunks\n",
    "Noun chunks are “base noun phrases” – flat phrases that have a noun as their head. You can think of noun chunks as a noun plus the words describing the noun – for example, “the lavish green grass” or “the world’s largest tech fund”. To get the noun chunks in a document, simply iterate over Doc.noun_chunks"
   ]
  },
  {
   "cell_type": "markdown",
   "metadata": {},
   "source": [
    "## Navigating the parse tree\n",
    "spaCy uses the terms head and child to describe the words connected by a single arc in the dependency tree. The term dep is used for the arc label, which describes the type of syntactic relation that connects the child to the head. As with other attributes, the value of .dep is a hash value. You can get the string value with .dep_."
   ]
  },
  {
   "cell_type": "code",
   "execution_count": 27,
   "metadata": {},
   "outputs": [
    {
     "output_type": "stream",
     "name": "stdout",
     "text": [
      "An det engineer NOUN []\nengineer nsubj had AUX [An]\nhad ROOT had AUX [engineer, plan, .]\nto aux plan VERB []\nplan xcomp had AUX [to, construction, produce]\nthe det construction NOUN []\nconstruction dobj plan VERB [the, of]\nof prep construction NOUN [lake]\nan det lake NOUN []\nartificial amod lake NOUN []\nlake pobj of ADP [an, artificial]\nto aux produce VERB []\nproduce advcl plan VERB [to, energy]\nelectric amod energy NOUN []\nenergy dobj produce VERB [electric]\n. punct had AUX []\n"
     ]
    }
   ],
   "source": [
    "doc = nlp(sents[0])\n",
    "for token in doc:\n",
    "    print(token.text, token.dep_, token.head.text, token.head.pos_,\n",
    "            [child for child in token.children])"
   ]
  },
  {
   "source": [
    "## Accessing token childrens\n",
    "first loop for iterate over tokens in nlp object, second if for accessing token childrens "
   ],
   "cell_type": "markdown",
   "metadata": {}
  },
  {
   "cell_type": "code",
   "execution_count": 37,
   "metadata": {},
   "outputs": [
    {
     "output_type": "stream",
     "name": "stdout",
     "text": [
      "An det engineer\nengineer nsubj had\nplan xcomp had\n. punct had\nto aux plan\nconstruction dobj plan\nproduce advcl plan\nthe det construction\nof prep construction\nlake pobj of\nan det lake\nartificial amod lake\nto aux produce\nenergy dobj produce\nelectric amod energy\n"
     ]
    }
   ],
   "source": [
    "for token in doc:\n",
    "    # print(token.text, token.dep_, token.head.text, token.head.pos_,[child for child in token.children])\n",
    "    # print(token)\n",
    "    for t in token.children:\n",
    "        print(t,t.dep_,t.head.text)"
   ]
  },
  {
   "cell_type": "markdown",
   "metadata": {},
   "source": [
    "Because the syntactic relations form a tree, every word has exactly one head. You can therefore iterate over the arcs in the tree by iterating over the words in the sentence. This is usually the best way to match an arc of interest — from below:"
   ]
  },
  {
   "cell_type": "code",
   "execution_count": 48,
   "metadata": {},
   "outputs": [
    {
     "output_type": "stream",
     "name": "stdout",
     "text": [
      "{thought}\n"
     ]
    }
   ],
   "source": [
    "verbs = set()\n",
    "for possible_subject in doc:\n",
    "    if possible_subject.dep == nsubj and possible_subject.head.pos == VERB:\n",
    "        verbs.add(possible_subject.head)\n",
    "        \n",
    "print(verbs)"
   ]
  },
  {
   "cell_type": "code",
   "execution_count": 49,
   "metadata": {},
   "outputs": [
    {
     "output_type": "stream",
     "name": "stdout",
     "text": [
      "[]\n[]\n0\n0\n"
     ]
    }
   ],
   "source": [
    "print([token.text for token in doc[2].lefts])  # ['bright', 'red']\n",
    "print([token.text for token in doc[2].rights])  # ['on']\n",
    "print(doc[2].n_lefts)  # 2\n",
    "print(doc[2].n_rights)  # 1"
   ]
  },
  {
   "cell_type": "markdown",
   "metadata": {},
   "source": [
    "## Verb Extraction"
   ]
  },
  {
   "cell_type": "code",
   "execution_count": 41,
   "metadata": {},
   "outputs": [
    {
     "output_type": "stream",
     "name": "stdout",
     "text": [
      "{thought}\n[thought]\n"
     ]
    }
   ],
   "source": [
    "from spacy.symbols import nsubj, VERB\n",
    "\n",
    "# nlp = spacy.load(\"en_core_web_sm\")\n",
    "doc = nlp(sents[1])\n",
    "\n",
    "# Finding a verb with a subject from below — good\n",
    "verbs = set()\n",
    "for possible_subject in doc:\n",
    "    if possible_subject.dep == nsubj and possible_subject.head.pos == VERB:\n",
    "        verbs.add(possible_subject.head)\n",
    "print(verbs)\n",
    "\n",
    "# Finding a verb with a subject from above — less good\n",
    "verbs = []\n",
    "for possible_verb in doc:\n",
    "    if possible_verb.pos == VERB:\n",
    "        for possible_subject in possible_verb.children:\n",
    "            if possible_subject.dep == nsubj:\n",
    "                verbs.append(possible_verb)\n",
    "                break\n",
    "print(verbs)"
   ]
  },
  {
   "cell_type": "code",
   "execution_count": null,
   "metadata": {},
   "outputs": [],
   "source": []
  }
 ],
 "metadata": {
  "kernelspec": {
   "display_name": "Python 3",
   "language": "python",
   "name": "python3"
  },
  "language_info": {
   "codemirror_mode": {
    "name": "ipython",
    "version": 3
   },
   "file_extension": ".py",
   "mimetype": "text/x-python",
   "name": "python",
   "nbconvert_exporter": "python",
   "pygments_lexer": "ipython3",
   "version": "3.8.6-final"
  },
  "varInspector": {
   "cols": {
    "lenName": 16,
    "lenType": 16,
    "lenVar": 40
   },
   "kernels_config": {
    "python": {
     "delete_cmd_postfix": "",
     "delete_cmd_prefix": "del ",
     "library": "var_list.py",
     "varRefreshCmd": "print(var_dic_list())"
    },
    "r": {
     "delete_cmd_postfix": ") ",
     "delete_cmd_prefix": "rm(",
     "library": "var_list.r",
     "varRefreshCmd": "cat(var_dic_list()) "
    }
   },
   "types_to_exclude": [
    "module",
    "function",
    "builtin_function_or_method",
    "instance",
    "_Feature"
   ],
   "window_display": false
  }
 },
 "nbformat": 4,
 "nbformat_minor": 2
}