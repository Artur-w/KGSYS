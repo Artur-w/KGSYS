{
 "metadata": {
  "language_info": {
   "codemirror_mode": {
    "name": "ipython",
    "version": 3
   },
   "file_extension": ".py",
   "mimetype": "text/x-python",
   "name": "python",
   "nbconvert_exporter": "python",
   "pygments_lexer": "ipython3",
   "version": "3.8.6-final"
  },
  "orig_nbformat": 2,
  "kernelspec": {
   "name": "python3",
   "display_name": "Python 3"
  }
 },
 "nbformat": 4,
 "nbformat_minor": 2,
 "cells": [
  {
   "cell_type": "code",
   "execution_count": 37,
   "metadata": {},
   "outputs": [],
   "source": [
    "import pandas as pd\n",
    "import spacy \n",
    "from pandas import DataFrame\n",
    "nlp = spacy.load('en_core_web_sm')"
   ]
  },
  {
   "cell_type": "code",
   "execution_count": 210,
   "metadata": {},
   "outputs": [
    {
     "output_type": "stream",
     "name": "stdout",
     "text": [
      "['An engineer', 'the construction', 'an artificial lake', 'electric energy']\n"
     ]
    },
    {
     "output_type": "execute_result",
     "data": {
      "text/plain": [
       "Index(['Sentence'], dtype='object')"
      ]
     },
     "metadata": {},
     "execution_count": 210
    }
   ],
   "source": [
    "text = \"An engineer had to plan the construction of an artificial lake to produce electric energy. To feed the lake he thought to build a unique wide canal collecting water coming from a near valley. However, a mason pointed out that during the flood periods the stream of water flowing along the canal might be too strong and might damage the surrounding areas; by contrast, during the drought periods a unique stream of water might be insufficient to feed the lake. In order to avoid these mishaps, the mason suggested to build, instead of a unique wide canal, four small canals whose total flow was the same as the unique wide canal previously planned. These small canals were placed around the lake so that they conveyed water coming from four different valleys. In this way only small amounts of water could flow in each canal and thus during flood periods dangerous overflowing might not occur. At the same time, the lake was fed by water from various belts, so that also during drought periods it was sufficiency that the fed.\"\n",
    "df = pd.DataFrame(columns=['Sentence','Verb','Object','Subject']) # create dataframe for storing and processing data.\n",
    "sent_list = [sent.text for sent in doc.sents]\n",
    "df = DataFrame(sent_list,columns=['Sentence'])\n",
    "# Nouns of the sentence\n",
    "doc = nlp(df['Sentence'][0])\n",
    "# Cunks of sentence\n",
    "print([chunk.text for chunk in doc.noun_chunks])\n",
    "dir(doc)\n",
    "# doc.cats\n",
    "df.columns"
   ]
  },
  {
   "cell_type": "code",
   "execution_count": 208,
   "metadata": {},
   "outputs": [
    {
     "output_type": "stream",
     "name": "stdout",
     "text": [
      "An DET\nengineer NOUN\nhad AUX\nto PART\nplan VERB\nthe DET\nconstruction NOUN\nof ADP\nan DET\nartificial ADJ\nlake NOUN\nto PART\nproduce VERB\nelectric ADJ\nenergy NOUN\n. PUNCT\nTo PART\nfeed VERB\nthe DET\nlake NOUN\nhe PRON\nthought VERB\nto PART\nbuild VERB\na DET\nunique ADJ\nwide ADJ\ncanal NOUN\ncollecting VERB\nwater NOUN\ncoming VERB\nfrom ADP\na DET\nnear ADJ\nvalley NOUN\n. PUNCT\nHowever ADV\n, PUNCT\na DET\nmason NOUN\npointed VERB\nout ADP\nthat SCONJ\nduring ADP\nthe DET\nflood NOUN\nperiods NOUN\nthe DET\nstream NOUN\nof ADP\nwater NOUN\nflowing VERB\nalong ADP\nthe DET\ncanal NOUN\nmight VERB\nbe AUX\ntoo ADV\nstrong ADJ\nand CCONJ\nmight VERB\ndamage VERB\nthe DET\nsurrounding VERB\nareas NOUN\n; PUNCT\nby ADP\ncontrast NOUN\n, PUNCT\nduring ADP\nthe DET\ndrought NOUN\nperiods VERB\na DET\nunique ADJ\nstream NOUN\nof ADP\nwater NOUN\nmight VERB\nbe AUX\ninsufficient ADJ\nto PART\nfeed VERB\nthe DET\nlake NOUN\n. PUNCT\nIn ADP\norder NOUN\nto PART\navoid VERB\nthese DET\nmishaps NOUN\n, PUNCT\nthe DET\nmason NOUN\nsuggested VERB\nto PART\nbuild VERB\n, PUNCT\ninstead ADV\nof ADP\na DET\nunique ADJ\nwide ADJ\ncanal NOUN\n, PUNCT\nfour NUM\nsmall ADJ\ncanals NOUN\nwhose DET\ntotal ADJ\nflow NOUN\nwas AUX\nthe DET\nsame ADJ\nas SCONJ\nthe DET\nunique ADJ\nwide ADJ\ncanal NOUN\npreviously ADV\nplanned VERB\n. PUNCT\nThese DET\nsmall ADJ\ncanals NOUN\nwere AUX\nplaced VERB\naround ADP\nthe DET\nlake NOUN\nso SCONJ\nthat SCONJ\nthey PRON\nconveyed VERB\nwater NOUN\ncoming VERB\nfrom ADP\nfour NUM\ndifferent ADJ\nvalleys NOUN\n. PUNCT\nIn ADP\nthis DET\nway NOUN\nonly ADV\nsmall ADJ\namounts NOUN\nof ADP\nwater NOUN\ncould VERB\nflow VERB\nin ADP\neach DET\ncanal NOUN\nand CCONJ\nthus ADV\nduring ADP\nflood NOUN\nperiods NOUN\ndangerous ADJ\noverflowing NOUN\nmight VERB\nnot PART\noccur VERB\n. PUNCT\nAt ADP\nthe DET\nsame ADJ\ntime NOUN\n, PUNCT\nthe DET\nlake NOUN\nwas AUX\nfed VERB\nby ADP\nwater NOUN\nfrom ADP\nvarious ADJ\nbelts NOUN\n, PUNCT\nso SCONJ\nthat SCONJ\nalso ADV\nduring ADP\ndrought NOUN\nperiods NOUN\nit PRON\nwas AUX\nsufficiency NOUN\nthat SCONJ\nthe DET\nfed PROPN\n. PUNCT\n"
     ]
    },
    {
     "output_type": "execute_result",
     "data": {
      "text/plain": [
       "['engineer',\n",
       " 'construction',\n",
       " 'lake',\n",
       " 'energy',\n",
       " 'lake',\n",
       " 'canal',\n",
       " 'water',\n",
       " 'valley',\n",
       " 'mason',\n",
       " 'flood',\n",
       " 'periods',\n",
       " 'stream',\n",
       " 'water',\n",
       " 'canal',\n",
       " 'areas',\n",
       " 'contrast',\n",
       " 'drought',\n",
       " 'stream',\n",
       " 'water',\n",
       " 'lake',\n",
       " 'order',\n",
       " 'mishaps',\n",
       " 'mason',\n",
       " 'canal',\n",
       " 'canals',\n",
       " 'flow',\n",
       " 'canal',\n",
       " 'canals',\n",
       " 'lake',\n",
       " 'water',\n",
       " 'valleys',\n",
       " 'way',\n",
       " 'amounts',\n",
       " 'water',\n",
       " 'canal',\n",
       " 'flood',\n",
       " 'periods',\n",
       " 'overflowing',\n",
       " 'time',\n",
       " 'lake',\n",
       " 'water',\n",
       " 'belts',\n",
       " 'drought',\n",
       " 'periods',\n",
       " 'sufficiency']"
      ]
     },
     "metadata": {},
     "execution_count": 208
    }
   ],
   "source": [
    "doc = nlp(text)\n",
    "# print(sents_list[3]) # get sentence of text bit.\n",
    "# dir(doc)\n",
    " # gives list of sentences.\n",
    "# for token in doc:\n",
    "#     # Get the token text, part-of-speech tag and dependency label\n",
    "#     token_text = token.text\n",
    "#     token_pos = token.pos_\n",
    "#     token_dep = token.dep_\n",
    "# print(f\"{token_pos}\\n{token_dep}\\n{token_text}\")\n",
    "nouns = []\n",
    "verbs = []\n",
    "for token in doc:\n",
    "    print(token,token.pos_)\n",
    "    if(token.pos_ == 'NOUN'):\n",
    "        nouns.append(token.text)\n",
    "    if(token.pos_ == 'VERB'):\n",
    "        verbs.append(token.text)\n",
    "\n",
    "nouns"
   ]
  },
  {
   "cell_type": "code",
   "execution_count": 192,
   "metadata": {},
   "outputs": [
    {
     "output_type": "execute_result",
     "data": {
      "text/plain": [
       "list"
      ]
     },
     "metadata": {},
     "execution_count": 192
    }
   ],
   "source": [
    "def brk_sent(sentence):\n",
    "    \"\"\"\n",
    "    Break sentence for analysis.\n",
    "    \"\"\"\n",
    "    doc = nlp(sentence)\n",
    "    for token in doc:\n",
    "        # Get the token text, part-of-speech tag and dependency label\n",
    "        token_text = token.text\n",
    "        token_pos = token.pos_\n",
    "        token_dep = token.dep_\n",
    "        # This is for formatting only\n",
    "        # print('{:<12}{:<10}{:<10}'.format(token_text, token_pos, token_dep))\n",
    "        return token_pos\n",
    "\n",
    "# [sent for sent in brk_sent(sentence)\n",
    "# for sent in sentence:\n",
    "#     brk_sent(sent)\n"
   ]
  },
  {
   "cell_type": "code",
   "execution_count": 167,
   "metadata": {},
   "outputs": [
    {
     "output_type": "stream",
     "name": "stdout",
     "text": [
      "An          DET       det       \nengineer    NOUN      nsubj     \nhad         AUX       ROOT      \nto          PART      aux       \nplan        VERB      xcomp     \nthe         DET       det       \nconstructionNOUN      dobj      \nof          ADP       prep      \nan          DET       det       \nartificial  ADJ       amod      \nlake        NOUN      pobj      \nto          PART      aux       \nproduce     VERB      advcl     \nelectric    ADJ       amod      \nenergy      NOUN      dobj      \n.           PUNCT     punct     \nTo          PART      aux       \nfeed        VERB      ROOT      \nthe         DET       det       \nlake        NOUN      dobj      \nhe          PRON      nsubj     \nthought     VERB      relcl     \nto          PART      aux       \nbuild       VERB      xcomp     \na           DET       det       \nunique      ADJ       amod      \nwide        ADJ       amod      \ncanal       NOUN      compound  \ncollecting  VERB      amod      \nwater       NOUN      dobj      \ncoming      VERB      acl       \nfrom        ADP       prep      \na           DET       det       \nnear        ADJ       amod      \nvalley      NOUN      pobj      \n.           PUNCT     punct     \nHowever     ADV       advmod    \n,           PUNCT     punct     \na           DET       det       \nmason       NOUN      nsubj     \npointed     VERB      ccomp     \nout         ADP       prt       \nthat        SCONJ     mark      \nduring      ADP       prep      \nthe         DET       det       \nflood       NOUN      compound  \nperiods     NOUN      pobj      \nthe         DET       det       \nstream      NOUN      nsubj     \nof          ADP       prep      \nwater       NOUN      pobj      \nflowing     VERB      acl       \nalong       ADP       prep      \nthe         DET       det       \ncanal       NOUN      pobj      \nmight       VERB      aux       \nbe          AUX       ccomp     \ntoo         ADV       advmod    \nstrong      ADJ       acomp     \nand         CCONJ     cc        \nmight       VERB      aux       \ndamage      VERB      conj      \nthe         DET       det       \nsurrounding VERB      amod      \nareas       NOUN      dobj      \n;           PUNCT     punct     \nby          ADP       prep      \ncontrast    NOUN      pobj      \n,           PUNCT     punct     \nduring      ADP       prep      \nthe         DET       det       \ndrought     NOUN      compound  \nperiods     VERB      pobj      \na           DET       det       \nunique      ADJ       amod      \nstream      NOUN      nsubj     \nof          ADP       prep      \nwater       NOUN      pobj      \nmight       VERB      aux       \nbe          AUX       ROOT      \ninsufficientADJ       acomp     \nto          PART      aux       \nfeed        VERB      xcomp     \nthe         DET       det       \nlake        NOUN      dobj      \n.           PUNCT     punct     \nIn          ADP       prep      \norder       NOUN      pobj      \nto          PART      aux       \navoid       VERB      acl       \nthese       DET       det       \nmishaps     NOUN      dobj      \n,           PUNCT     punct     \nthe         DET       det       \nmason       NOUN      nsubj     \nsuggested   VERB      ROOT      \nto          PART      aux       \nbuild       VERB      xcomp     \n,           PUNCT     punct     \ninstead     ADV       advmod    \nof          ADP       prep      \na           DET       det       \nunique      ADJ       amod      \nwide        ADJ       amod      \ncanal       NOUN      pobj      \n,           PUNCT     punct     \nfour        NUM       nummod    \nsmall       ADJ       amod      \ncanals      NOUN      appos     \nwhose       DET       poss      \ntotal       ADJ       amod      \nflow        NOUN      nsubj     \nwas         AUX       relcl     \nthe         DET       det       \nsame        ADJ       attr      \nas          SCONJ     prep      \nthe         DET       det       \nunique      ADJ       amod      \nwide        ADJ       amod      \ncanal       NOUN      pobj      \npreviously  ADV       advmod    \nplanned     VERB      acl       \n.           PUNCT     punct     \nThese       DET       det       \nsmall       ADJ       amod      \ncanals      NOUN      nsubjpass \nwere        AUX       auxpass   \nplaced      VERB      ROOT      \naround      ADP       prep      \nthe         DET       det       \nlake        NOUN      pobj      \nso          SCONJ     mark      \nthat        SCONJ     mark      \nthey        PRON      nsubj     \nconveyed    VERB      advcl     \nwater       NOUN      nsubj     \ncoming      VERB      ccomp     \nfrom        ADP       prep      \nfour        NUM       nummod    \ndifferent   ADJ       amod      \nvalleys     NOUN      pobj      \n.           PUNCT     punct     \nIn          ADP       prep      \nthis        DET       det       \nway         NOUN      pobj      \nonly        ADV       advmod    \nsmall       ADJ       amod      \namounts     NOUN      nsubj     \nof          ADP       prep      \nwater       NOUN      pobj      \ncould       VERB      aux       \nflow        VERB      ROOT      \nin          ADP       prep      \neach        DET       det       \ncanal       NOUN      pobj      \nand         CCONJ     cc        \nthus        ADV       advmod    \nduring      ADP       conj      \nflood       NOUN      compound  \nperiods     NOUN      compound  \ndangerous   ADJ       amod      \noverflowing NOUN      pobj      \nmight       VERB      aux       \nnot         PART      neg       \noccur       VERB      conj      \n.           PUNCT     punct     \nAt          ADP       prep      \nthe         DET       det       \nsame        ADJ       amod      \ntime        NOUN      pobj      \n,           PUNCT     punct     \nthe         DET       det       \nlake        NOUN      nsubjpass \nwas         AUX       auxpass   \nfed         VERB      ROOT      \nby          ADP       agent     \nwater       NOUN      pobj      \nfrom        ADP       prep      \nvarious     ADJ       amod      \nbelts       NOUN      pobj      \n,           PUNCT     punct     \nso          SCONJ     mark      \nthat        SCONJ     mark      \nalso        ADV       advmod    \nduring      ADP       prep      \ndrought     NOUN      compound  \nperiods     NOUN      pobj      \nit          PRON      nsubj     \nwas         AUX       advcl     \nsufficiency NOUN      acomp     \nthat        SCONJ     mark      \nthe         DET       det       \nfed         PROPN     ccomp     \n.           PUNCT     punct     \n"
     ]
    }
   ],
   "source": [
    "    for token in doc:\n",
    "        # Get the token text, part-of-speech tag and dependency label\n",
    "        token_text = token.text\n",
    "        token_pos = token.pos_\n",
    "        token_dep = token.dep_\n",
    "        # This is for formatting only\n",
    "        print('{:<12}{:<10}{:<10}'.format(token_text, token_pos, token_dep))"
   ]
  },
  {
   "cell_type": "code",
   "execution_count": 39,
   "metadata": {},
   "outputs": [],
   "source": [
    "# columns = ('sentence', 'Verb', 'subject', 'object')\n",
    "# Create empty dataframe with column names\n"
   ]
  },
  {
   "cell_type": "code",
   "execution_count": 185,
   "metadata": {},
   "outputs": [
    {
     "output_type": "stream",
     "name": "stdout",
     "text": [
      "['An engineer', 'the construction', 'an artificial lake', 'electric energy']\n"
     ]
    },
    {
     "output_type": "execute_result",
     "data": {
      "text/plain": [
       "                                            Sentence\n",
       "0  An engineer had to plan the construction of an...\n",
       "1  To feed the lake he thought to build a unique ...\n",
       "2  However, a mason pointed out that during the f...\n",
       "3  In order to avoid these mishaps, the mason sug...\n",
       "4  These small canals were placed around the lake...\n",
       "5  In this way only small amounts of water could ...\n",
       "6  At the same time, the lake was fed by water fr..."
      ],
      "text/html": "<div>\n<style scoped>\n    .dataframe tbody tr th:only-of-type {\n        vertical-align: middle;\n    }\n\n    .dataframe tbody tr th {\n        vertical-align: top;\n    }\n\n    .dataframe thead th {\n        text-align: right;\n    }\n</style>\n<table border=\"1\" class=\"dataframe\">\n  <thead>\n    <tr style=\"text-align: right;\">\n      <th></th>\n      <th>Sentence</th>\n    </tr>\n  </thead>\n  <tbody>\n    <tr>\n      <th>0</th>\n      <td>An engineer had to plan the construction of an...</td>\n    </tr>\n    <tr>\n      <th>1</th>\n      <td>To feed the lake he thought to build a unique ...</td>\n    </tr>\n    <tr>\n      <th>2</th>\n      <td>However, a mason pointed out that during the f...</td>\n    </tr>\n    <tr>\n      <th>3</th>\n      <td>In order to avoid these mishaps, the mason sug...</td>\n    </tr>\n    <tr>\n      <th>4</th>\n      <td>These small canals were placed around the lake...</td>\n    </tr>\n    <tr>\n      <th>5</th>\n      <td>In this way only small amounts of water could ...</td>\n    </tr>\n    <tr>\n      <th>6</th>\n      <td>At the same time, the lake was fed by water fr...</td>\n    </tr>\n  </tbody>\n</table>\n</div>"
     },
     "metadata": {},
     "execution_count": 185
    }
   ],
   "source": []
  },
  {
   "cell_type": "code",
   "execution_count": 96,
   "metadata": {},
   "outputs": [
    {
     "output_type": "execute_result",
     "data": {
      "text/plain": [
       "Index(['Sentence'], dtype='object')"
      ]
     },
     "metadata": {},
     "execution_count": 96
    }
   ],
   "source": []
  },
  {
   "cell_type": "code",
   "execution_count": 97,
   "metadata": {},
   "outputs": [
    {
     "output_type": "execute_result",
     "data": {
      "text/plain": [
       "                                            Sentence\n",
       "0  An engineer had to plan the construction of an...\n",
       "1  To feed the lake he thought to build a unique ...\n",
       "2  However, a mason pointed out that during the f...\n",
       "3  In order to avoid these mishaps, the mason sug...\n",
       "4  These small canals were placed around the lake...\n",
       "5  In this way only small amounts of water could ...\n",
       "6  At the same time, the lake was fed by water fr..."
      ],
      "text/html": "<div>\n<style scoped>\n    .dataframe tbody tr th:only-of-type {\n        vertical-align: middle;\n    }\n\n    .dataframe tbody tr th {\n        vertical-align: top;\n    }\n\n    .dataframe thead th {\n        text-align: right;\n    }\n</style>\n<table border=\"1\" class=\"dataframe\">\n  <thead>\n    <tr style=\"text-align: right;\">\n      <th></th>\n      <th>Sentence</th>\n    </tr>\n  </thead>\n  <tbody>\n    <tr>\n      <th>0</th>\n      <td>An engineer had to plan the construction of an...</td>\n    </tr>\n    <tr>\n      <th>1</th>\n      <td>To feed the lake he thought to build a unique ...</td>\n    </tr>\n    <tr>\n      <th>2</th>\n      <td>However, a mason pointed out that during the f...</td>\n    </tr>\n    <tr>\n      <th>3</th>\n      <td>In order to avoid these mishaps, the mason sug...</td>\n    </tr>\n    <tr>\n      <th>4</th>\n      <td>These small canals were placed around the lake...</td>\n    </tr>\n    <tr>\n      <th>5</th>\n      <td>In this way only small amounts of water could ...</td>\n    </tr>\n    <tr>\n      <th>6</th>\n      <td>At the same time, the lake was fed by water fr...</td>\n    </tr>\n  </tbody>\n</table>\n</div>"
     },
     "metadata": {},
     "execution_count": 97
    }
   ],
   "source": []
  },
  {
   "cell_type": "code",
   "execution_count": 101,
   "metadata": {},
   "outputs": [
    {
     "output_type": "stream",
     "name": "stdout",
     "text": [
      "['An engineer', 'the construction', 'an artificial lake', 'electric energy']\n"
     ]
    },
    {
     "output_type": "execute_result",
     "data": {
      "text/plain": [
       "['_',\n",
       " '__bytes__',\n",
       " '__class__',\n",
       " '__delattr__',\n",
       " '__dir__',\n",
       " '__doc__',\n",
       " '__eq__',\n",
       " '__format__',\n",
       " '__ge__',\n",
       " '__getattribute__',\n",
       " '__getitem__',\n",
       " '__gt__',\n",
       " '__hash__',\n",
       " '__init__',\n",
       " '__init_subclass__',\n",
       " '__iter__',\n",
       " '__le__',\n",
       " '__len__',\n",
       " '__lt__',\n",
       " '__ne__',\n",
       " '__new__',\n",
       " '__pyx_vtable__',\n",
       " '__reduce__',\n",
       " '__reduce_ex__',\n",
       " '__repr__',\n",
       " '__setattr__',\n",
       " '__setstate__',\n",
       " '__sizeof__',\n",
       " '__str__',\n",
       " '__subclasshook__',\n",
       " '__unicode__',\n",
       " '_bulk_merge',\n",
       " '_py_tokens',\n",
       " '_realloc',\n",
       " '_vector',\n",
       " '_vector_norm',\n",
       " 'cats',\n",
       " 'char_span',\n",
       " 'count_by',\n",
       " 'doc',\n",
       " 'ents',\n",
       " 'extend_tensor',\n",
       " 'from_array',\n",
       " 'from_bytes',\n",
       " 'from_disk',\n",
       " 'get_extension',\n",
       " 'get_lca_matrix',\n",
       " 'has_extension',\n",
       " 'has_vector',\n",
       " 'is_nered',\n",
       " 'is_parsed',\n",
       " 'is_sentenced',\n",
       " 'is_tagged',\n",
       " 'lang',\n",
       " 'lang_',\n",
       " 'mem',\n",
       " 'merge',\n",
       " 'noun_chunks',\n",
       " 'noun_chunks_iterator',\n",
       " 'print_tree',\n",
       " 'remove_extension',\n",
       " 'retokenize',\n",
       " 'sentiment',\n",
       " 'sents',\n",
       " 'set_extension',\n",
       " 'similarity',\n",
       " 'tensor',\n",
       " 'text',\n",
       " 'text_with_ws',\n",
       " 'to_array',\n",
       " 'to_bytes',\n",
       " 'to_disk',\n",
       " 'to_json',\n",
       " 'to_utf8_array',\n",
       " 'user_data',\n",
       " 'user_hooks',\n",
       " 'user_span_hooks',\n",
       " 'user_token_hooks',\n",
       " 'vector',\n",
       " 'vector_norm',\n",
       " 'vocab']"
      ]
     },
     "metadata": {},
     "execution_count": 101
    }
   ],
   "source": []
  },
  {
   "cell_type": "code",
   "execution_count": 177,
   "metadata": {},
   "outputs": [
    {
     "output_type": "error",
     "ename": "AttributeError",
     "evalue": "'list' object has no attribute 'pos_'",
     "traceback": [
      "\u001b[0;31m---------------------------------------------------------------------------\u001b[0m",
      "\u001b[0;31mAttributeError\u001b[0m                            Traceback (most recent call last)",
      "\u001b[0;32m<ipython-input-177-aa7a8a358589>\u001b[0m in \u001b[0;36m<module>\u001b[0;34m\u001b[0m\n\u001b[1;32m     10\u001b[0m \u001b[0;34m[\u001b[0m\u001b[0mchunk\u001b[0m\u001b[0;34m.\u001b[0m\u001b[0mtext\u001b[0m \u001b[0;32mfor\u001b[0m \u001b[0mchunk\u001b[0m \u001b[0;32min\u001b[0m \u001b[0mdoc\u001b[0m\u001b[0;34m.\u001b[0m\u001b[0mnoun_chunks\u001b[0m\u001b[0;34m]\u001b[0m \u001b[0;31m# ######\u001b[0m\u001b[0;34m\u001b[0m\u001b[0;34m\u001b[0m\u001b[0m\n\u001b[1;32m     11\u001b[0m \u001b[0mx\u001b[0m \u001b[0;34m=\u001b[0m \u001b[0;34m[\u001b[0m\u001b[0mchunk\u001b[0m \u001b[0;32mfor\u001b[0m \u001b[0mchunk\u001b[0m \u001b[0;32min\u001b[0m \u001b[0mdoc\u001b[0m\u001b[0;34m.\u001b[0m\u001b[0mnoun_chunks\u001b[0m\u001b[0;34m]\u001b[0m \u001b[0;31m# ######\u001b[0m\u001b[0;34m\u001b[0m\u001b[0;34m\u001b[0m\u001b[0m\n\u001b[0;32m---> 12\u001b[0;31m \u001b[0mx\u001b[0m\u001b[0;34m.\u001b[0m\u001b[0mpos_\u001b[0m\u001b[0;34m\u001b[0m\u001b[0;34m\u001b[0m\u001b[0m\n\u001b[0m",
      "\u001b[0;31mAttributeError\u001b[0m: 'list' object has no attribute 'pos_'"
     ]
    }
   ],
   "source": [
    "# [chunk.text for chunk in doc.verb_chunks]\n",
    "# for i in range(len(doc)):\n",
    "\n",
    "# [chunk.text for chunk in doc.sents]\n",
    "# [span for span in doc.count_by]\n",
    "# [chunk.text for chunk in doc.count_by]\n",
    "[chunk.text for chunk in doc.sents] # get sentence\n",
    "[chunk.text for chunk in doc.noun_chunks] # ######\n",
    "x = [chunk for chunk in doc.noun_chunks] # ######\n"
   ]
  },
  {
   "cell_type": "code",
   "execution_count": 92,
   "metadata": {},
   "outputs": [
    {
     "output_type": "execute_result",
     "data": {
      "text/plain": [
       "['DET',\n",
       " 'NOUN',\n",
       " 'AUX',\n",
       " 'PART',\n",
       " 'TRANVERB',\n",
       " 'DET',\n",
       " 'NOUN',\n",
       " 'ADP',\n",
       " 'DET',\n",
       " 'ADJ',\n",
       " 'NOUN',\n",
       " 'PART',\n",
       " 'TRANVERB',\n",
       " 'ADJ',\n",
       " 'NOUN',\n",
       " 'PUNCT']"
      ]
     },
     "metadata": {},
     "execution_count": 92
    }
   ],
   "source": [
    "def check_verb(token):\n",
    "    \"\"\"Check verb type given spacy token\"\"\"\n",
    "    if token.pos_ == 'VERB':\n",
    "        indirect_object = False\n",
    "        direct_object = False\n",
    "        for item in token.children:\n",
    "            if(item.dep_ == \"iobj\" or item.dep_ == \"pobj\"):\n",
    "                indirect_object = True\n",
    "            if (item.dep_ == \"dobj\" or item.dep_ == \"dative\"):\n",
    "                direct_object = True\n",
    "        if indirect_object and direct_object:\n",
    "            return 'DITRANVERB'\n",
    "        elif direct_object and not indirect_object:\n",
    "            return 'TRANVERB'\n",
    "        elif not direct_object and not indirect_object:\n",
    "            return 'INTRANVERB'\n",
    "        else:\n",
    "            return 'VERB'\n",
    "    else:\n",
    "        return token.pos_\n",
    "[check_verb(t) for t in doc]"
   ]
  },
  {
   "cell_type": "code",
   "execution_count": 126,
   "metadata": {},
   "outputs": [
    {
     "output_type": "stream",
     "name": "stdout",
     "text": [
      "An          DET       det       \nengineer    NOUN      nsubj     \nhad         AUX       ROOT      \nto          PART      aux       \nplan        VERB      xcomp     \nthe         DET       det       \nconstructionNOUN      dobj      \nof          ADP       prep      \nan          DET       det       \nartificial  ADJ       amod      \nlake        NOUN      pobj      \nto          PART      aux       \nproduce     VERB      advcl     \nelectric    ADJ       amod      \nenergy      NOUN      dobj      \n.           PUNCT     punct     \n\n\n"
     ]
    }
   ],
   "source": [
    "for token in doc:\n",
    "    # Get the token text, part-of-speech tag and dependency label\n",
    "    token_text = token.text\n",
    "    token_pos = token.pos_\n",
    "    token_dep = token.dep_\n",
    "    # This is for formatting only\n",
    "    print('{:<12}{:<10}{:<10}'.format(token_text, token_pos, token_dep))\n",
    "\n",
    "print('\\n')\n",
    "# Iterate over the predicted entities\n",
    "for ent in doc.ents:\n",
    "    # Print the entity text and its label\n",
    "    print(ent.text, ent.label_)"
   ]
  },
  {
   "source": [
    "# Break Sentence"
   ],
   "cell_type": "markdown",
   "metadata": {}
  },
  {
   "cell_type": "code",
   "execution_count": 186,
   "metadata": {},
   "outputs": [],
   "source": [
    "# sentence = 'An engineer had to plan the construction of an artificial lake to produce electric energy.'\n",
    "# sentence1 = 'These small canals were placed around the lake so that they conveyed water coming from four different valleys.'\n",
    "# doc = nlp(df['Sentence'][0])\n",
    "# doc"
   ]
  },
  {
   "cell_type": "code",
   "execution_count": null,
   "metadata": {},
   "outputs": [],
   "source": []
  }
 ]
}