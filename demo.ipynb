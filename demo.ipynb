{
 "cells": [
  {
   "cell_type": "code",
   "execution_count": 1,
   "metadata": {},
   "outputs": [
    {
     "name": "stdout",
     "output_type": "stream",
     "text": [
      "Psychology corpus 886 sentences\n"
     ]
    }
   ],
   "source": [
    "from Triple import Triple\n",
    "from tqdm import tqdm\n",
    "from spacy.matcher import Matcher\n",
    "from data import psychology_data\n",
    "import networkx as nx\n",
    "import matplotlib.pyplot as plt\n",
    "import spacy\n",
    "import scispacy\n",
    "import re\n",
    "import pandas as pd\n",
    "pd.set_option('display.max_colwidth', 200)\n",
    "%matplotlib qt\n",
    "nlp = spacy.load('en_core_web_lg')"
   ]
  },
  {
   "cell_type": "code",
   "execution_count": 3,
   "metadata": {},
   "outputs": [],
   "source": [
    "def knowledge_graph(triples):\n",
    "    G = nx.Graph()\n",
    "    for triple in triples:\n",
    "        G.add_node(triple[0])\n",
    "        G.add_node(triple[1])\n",
    "        G.add_node(triple[2])\n",
    "        G.add_edge(triple[0], triple[1])\n",
    "        G.add_edge(triple[1], triple[2])\n",
    "\n",
    "    pos = nx.spring_layout(G)\n",
    "    plt.figure()\n",
    "    nx.draw(G, pos, edge_color='black', width=1, linewidths=1,\n",
    "            node_size=500, node_color='#09a3d5', alpha=0.9,\n",
    "            labels={node: node for node in G.nodes()})\n",
    "    plt.axis('off')\n",
    "    plt.show()"
   ]
  },
  {
   "cell_type": "code",
   "execution_count": 4,
   "metadata": {},
   "outputs": [
    {
     "name": "stderr",
     "output_type": "stream",
     "text": [
      "100%|██████████| 886/886 [00:04<00:00, 186.09it/s]\n"
     ]
    }
   ],
   "source": [
    "triples = []\n",
    "\n",
    "for i, sent in enumerate(tqdm(psychology_data['sentence'])):\n",
    "    triples.append(Triple(sent).get_triple())\n",
    "\n",
    "#   # Graphs (uncomment to create artefacts)\n",
    "    # Triple(sent).tree('tree1'+str(i))\n",
    "    # Triple(sent).graph('tree1'+str(i))\n",
    "\n",
    "# # Knowleadge Graph\n",
    "knowledge_graph(triples)\n",
    "\n"
   ]
  },
  {
   "cell_type": "code",
   "execution_count": null,
   "metadata": {},
   "outputs": [],
   "source": [
    "\n",
    "# percy = \"Percy the mockingbird spent the whole warm season chirping and twittering\"\n"
   ]
  }
 ],
 "metadata": {
  "kernelspec": {
   "display_name": "Python 3.9.1 64-bit ('kgsys2': conda)",
   "metadata": {
    "interpreter": {
     "hash": "4ef060659159fbeb4441d8e36b456b29bba2f0d8bf3938743d35f5235f44b89c"
    }
   },
   "name": "python3"
  },
  "language_info": {
   "codemirror_mode": {
    "name": "ipython",
    "version": 3
   },
   "file_extension": ".py",
   "mimetype": "text/x-python",
   "name": "python",
   "nbconvert_exporter": "python",
   "pygments_lexer": "ipython3",
   "version": "3.9.1"
  },
  "orig_nbformat": 2
 },
 "nbformat": 4,
 "nbformat_minor": 2
}