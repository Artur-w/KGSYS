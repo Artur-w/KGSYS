{
 "cells": [
  {
   "cell_type": "code",
   "execution_count": 5,
   "metadata": {},
   "outputs": [],
   "source": [
    "# IMPORT\n",
    "import spacy\n",
    "# import scispacy\n",
    "from spacy import displacy\n",
    "from spacy.matcher import Matcher\n",
    "from spacy.tokens import Span\n",
    "import tqdm\n",
    "import pandas as pd\n",
    "import re\n",
    "import networkx as nx\n",
    "import matplotlib.pyplot as plt\n",
    "from spacy.lang.en import English # updated\n",
    "nlp = spacy.load('en_core_web_sm')\n",
    "from data import *\n",
    "from app import *"
   ]
  },
  {
   "cell_type": "code",
   "execution_count": 20,
   "metadata": {},
   "outputs": [
    {
     "data": {
      "text/plain": [
       "'An engineer had to plan the construction of an artificial lake to produce electric energy. To feed the lake he thought to build a unique wide canal collecting water coming from a near valley. However, a mason pointed out that during the flood periods the stream of water flowing along the canal might be too strong and might damage the surrounding areas; by contrast, during the drought periods a unique stream of water might be insufficient to feed the lake. In order to avoid these mishaps, the mason suggested to build, instead of a unique wide canal, four small canals whose total flow was the same as the unique wide canal previously planned. These small canals were placed around the lake so that they conveyed water coming from four different valleys. In this way only small amounts of water could flow in each canal and thus during flood periods dangerous overflowing might not occur. At the same time, the lake was fed by water from various belts, so that also during drought periods it was sufficiency that the fed.'"
      ]
     },
     "execution_count": 20,
     "metadata": {},
     "output_type": "execute_result"
    }
   ],
   "source": [
    "txt2"
   ]
  },
  {
   "cell_type": "code",
   "execution_count": 30,
   "metadata": {},
   "outputs": [],
   "source": [
    "# Get root of sentence\n",
    "def n_chunk(sent):\n",
    "    roots = ''\n",
    "    doc = nlp(sent)\n",
    "    for chunk in doc.noun_chunks:\n",
    "        print(f\"\\nChunk Text: {chunk.text}\\n-> Root: {chunk.root.text}\\n-> Arc label:{chunk.root.dep_}\\n-> Root head: {chunk.root.head.text}\\n\")\n",
    "        roots += chunk.root.text+ ' ' +chunk.root.head.text+' '\n",
    "\n",
    "    return roots"
   ]
  },
  {
   "cell_type": "code",
   "execution_count": null,
   "metadata": {},
   "outputs": [],
   "source": []
  },
  {
   "cell_type": "code",
   "execution_count": 50,
   "metadata": {},
   "outputs": [],
   "source": [
    "def noun_chunks_sent(sentence):\n",
    "    '''\n",
    "    Take in single sntence and output\n",
    "    nound chunks\n",
    "    '''\n",
    "    chunks = []\n",
    "    sent = nlp(sentence)\n",
    "    for chunk in sent.noun_chunks:\n",
    "        print(chunk.left())\n",
    "        chunks.append(chunk)\n",
    "#         print(\"Chunk: \",chunk)\n",
    "    return chunks"
   ]
  },
  {
   "cell_type": "code",
   "execution_count": 52,
   "metadata": {},
   "outputs": [
    {
     "ename": "AttributeError",
     "evalue": "'spacy.tokens.span.Span' object has no attribute 'left'",
     "output_type": "error",
     "traceback": [
      "\u001b[0;31m---------------------------------------------------------------------------\u001b[0m",
      "\u001b[0;31mAttributeError\u001b[0m                            Traceback (most recent call last)",
      "\u001b[0;32m<ipython-input-52-b265ef02ba3e>\u001b[0m in \u001b[0;36m<module>\u001b[0;34m\u001b[0m\n\u001b[0;32m----> 1\u001b[0;31m \u001b[0mchunks\u001b[0m \u001b[0;34m=\u001b[0m \u001b[0mnoun_chunks_sent\u001b[0m\u001b[0;34m(\u001b[0m\u001b[0mtxt2\u001b[0m\u001b[0;34m)\u001b[0m\u001b[0;34m\u001b[0m\u001b[0;34m\u001b[0m\u001b[0m\n\u001b[0m\u001b[1;32m      2\u001b[0m \u001b[0mlen\u001b[0m\u001b[0;34m(\u001b[0m\u001b[0mchunks\u001b[0m\u001b[0;34m)\u001b[0m\u001b[0;34m\u001b[0m\u001b[0;34m\u001b[0m\u001b[0m\n\u001b[1;32m      3\u001b[0m \u001b[0mchunks\u001b[0m\u001b[0;34m\u001b[0m\u001b[0;34m\u001b[0m\u001b[0m\n",
      "\u001b[0;32m<ipython-input-50-4c5d419b14dc>\u001b[0m in \u001b[0;36mnoun_chunks_sent\u001b[0;34m(sentence)\u001b[0m\n\u001b[1;32m      7\u001b[0m     \u001b[0msent\u001b[0m \u001b[0;34m=\u001b[0m \u001b[0mnlp\u001b[0m\u001b[0;34m(\u001b[0m\u001b[0msentence\u001b[0m\u001b[0;34m)\u001b[0m\u001b[0;34m\u001b[0m\u001b[0;34m\u001b[0m\u001b[0m\n\u001b[1;32m      8\u001b[0m     \u001b[0;32mfor\u001b[0m \u001b[0mchunk\u001b[0m \u001b[0;32min\u001b[0m \u001b[0msent\u001b[0m\u001b[0;34m.\u001b[0m\u001b[0mnoun_chunks\u001b[0m\u001b[0;34m:\u001b[0m\u001b[0;34m\u001b[0m\u001b[0;34m\u001b[0m\u001b[0m\n\u001b[0;32m----> 9\u001b[0;31m         \u001b[0mprint\u001b[0m\u001b[0;34m(\u001b[0m\u001b[0mchunk\u001b[0m\u001b[0;34m.\u001b[0m\u001b[0mleft\u001b[0m\u001b[0;34m(\u001b[0m\u001b[0;34m)\u001b[0m\u001b[0;34m)\u001b[0m\u001b[0;34m\u001b[0m\u001b[0;34m\u001b[0m\u001b[0m\n\u001b[0m\u001b[1;32m     10\u001b[0m         \u001b[0mchunks\u001b[0m\u001b[0;34m.\u001b[0m\u001b[0mappend\u001b[0m\u001b[0;34m(\u001b[0m\u001b[0mchunk\u001b[0m\u001b[0;34m)\u001b[0m\u001b[0;34m\u001b[0m\u001b[0;34m\u001b[0m\u001b[0m\n\u001b[1;32m     11\u001b[0m \u001b[0;31m#         print(\"Chunk: \",chunk)\u001b[0m\u001b[0;34m\u001b[0m\u001b[0;34m\u001b[0m\u001b[0;34m\u001b[0m\u001b[0m\n",
      "\u001b[0;31mAttributeError\u001b[0m: 'spacy.tokens.span.Span' object has no attribute 'left'"
     ]
    }
   ],
   "source": [
    "chunks = noun_chunks_sent(txt2)\n",
    "len(chunks)\n",
    "chunks"
   ]
  },
  {
   "cell_type": "code",
   "execution_count": 61,
   "metadata": {},
   "outputs": [
    {
     "name": "stdout",
     "output_type": "stream",
     "text": [
      "<class 'spacy.tokens.doc.Doc'>\n",
      "['engineer']\n",
      "['plan', '.']\n",
      "1\n",
      "2\n"
     ]
    },
    {
     "data": {
      "text/plain": [
       "0"
      ]
     },
     "execution_count": 61,
     "metadata": {},
     "output_type": "execute_result"
    }
   ],
   "source": [
    "doc = nlp(txt2)\n",
    "# nlp = spacy.load(\"en_core_web_sm\")\n",
    "# doc = nlp(\"bright red apples on the tree\")\n",
    "print(type(doc))\n",
    "print([token.text for token in doc[2].lefts])  # ['bright', 'red']\n",
    "print([token.text for token in doc[2].rights])  # ['on']\n",
    "print(doc[2].n_lefts)  # 2\n",
    "print(doc[2].n_rights)  # 1\n",
    "doc[3].n_rights"
   ]
  },
  {
   "cell_type": "code",
   "execution_count": 42,
   "metadata": {},
   "outputs": [],
   "source": [
    "def noun_component(text):\n",
    "    doc = nlp(text)\n",
    "    print(\"Noun phrases:\", [chunk.text for chunk in doc.noun_chunks])\n",
    "    print(\"Verbs:\", [token.lemma_ for token in doc if token.pos_ == \"VERB\"])"
   ]
  },
  {
   "cell_type": "code",
   "execution_count": 43,
   "metadata": {},
   "outputs": [
    {
     "name": "stdout",
     "output_type": "stream",
     "text": [
      "Noun phrases: ['An engineer', 'the construction', 'an artificial lake', 'electric energy', 'the lake', 'he', 'a unique wide canal collecting water', 'a near valley', 'a mason', 'the flood periods', 'the stream', 'water', 'the canal', 'the surrounding areas', 'contrast', 'a unique stream', 'water', 'the lake', 'order', 'these mishaps', 'the mason', 'a unique wide canal', 'four small canals', 'whose total flow', 'the unique wide canal', 'These small canals', 'the lake', 'they', 'water', 'four different valleys', 'this way', 'only small amounts', 'water', 'each canal', 'flood periods dangerous overflowing', 'the same time', 'the lake', 'water', 'various belts', 'drought periods', 'it']\n",
      "Verbs: ['plan', 'produce', 'feed', 'think', 'build', 'collect', 'come', 'point', 'flow', 'may', 'may', 'damage', 'surround', 'period', 'may', 'feed', 'avoid', 'suggest', 'build', 'plan', 'place', 'convey', 'come', 'could', 'flow', 'may', 'occur', 'feed']\n"
     ]
    }
   ],
   "source": [
    "noun_component(txt2)"
   ]
  },
  {
   "cell_type": "code",
   "execution_count": 44,
   "metadata": {},
   "outputs": [],
   "source": [
    "def noun_component_list(text):\n",
    "    doc = nlp(text)\n",
    "    chunks = list(doc.noun_chunks)\n",
    "    return chunks"
   ]
  },
  {
   "cell_type": "code",
   "execution_count": 45,
   "metadata": {},
   "outputs": [
    {
     "data": {
      "text/plain": [
       "[An engineer,\n",
       " the construction,\n",
       " an artificial lake,\n",
       " electric energy,\n",
       " the lake,\n",
       " he,\n",
       " a unique wide canal collecting water,\n",
       " a near valley,\n",
       " a mason,\n",
       " the flood periods,\n",
       " the stream,\n",
       " water,\n",
       " the canal,\n",
       " the surrounding areas,\n",
       " contrast,\n",
       " a unique stream,\n",
       " water,\n",
       " the lake,\n",
       " order,\n",
       " these mishaps,\n",
       " the mason,\n",
       " a unique wide canal,\n",
       " four small canals,\n",
       " whose total flow,\n",
       " the unique wide canal,\n",
       " These small canals,\n",
       " the lake,\n",
       " they,\n",
       " water,\n",
       " four different valleys,\n",
       " this way,\n",
       " only small amounts,\n",
       " water,\n",
       " each canal,\n",
       " flood periods dangerous overflowing,\n",
       " the same time,\n",
       " the lake,\n",
       " water,\n",
       " various belts,\n",
       " drought periods,\n",
       " it]"
      ]
     },
     "execution_count": 45,
     "metadata": {},
     "output_type": "execute_result"
    }
   ],
   "source": [
    "noun_component_list(txt2)"
   ]
  },
  {
   "cell_type": "code",
   "execution_count": null,
   "metadata": {},
   "outputs": [],
   "source": []
  }
 ],
 "metadata": {
  "kernelspec": {
   "display_name": "kgsys",
   "language": "python",
   "name": "kgsys"
  },
  "language_info": {
   "codemirror_mode": {
    "name": "ipython",
    "version": 3
   },
   "file_extension": ".py",
   "mimetype": "text/x-python",
   "name": "python",
   "nbconvert_exporter": "python",
   "pygments_lexer": "ipython3",
   "version": "3.8.5"
  }
 },
 "nbformat": 4,
 "nbformat_minor": 4
}
