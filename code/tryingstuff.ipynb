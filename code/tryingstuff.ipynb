{
 "cells": [
  {
   "cell_type": "code",
   "execution_count": 5,
   "metadata": {},
   "outputs": [],
   "source": [
    "# IMPORTS\n",
    "import spacy\n",
    "import scispacy\n",
    "from spacy import displacy\n",
    "from spacy.matcher import Matcher\n",
    "from spacy.tokens import Span\n",
    "import tqdm\n",
    "import pandas as pd\n",
    "import re\n",
    "# import neuralcoref\n",
    "import networkx as nx\n",
    "import matplotlib.pyplot as plt\n",
    "from spacy.lang.en import English\n",
    "\n",
    "nlp =spacy.load(\"en_core_web_sm\")"
   ]
  },
  {
   "cell_type": "code",
   "execution_count": 6,
   "metadata": {},
   "outputs": [],
   "source": [
    "def subtree_matcher(doc):\n",
    "  subjpass = 0\n",
    "\n",
    "  for i,tok in enumerate(doc):\n",
    "    # find dependency tag that contains the text \"subjpass\"    \n",
    "    if tok.dep_.find(\"subjpass\") == True:\n",
    "      subjpass = 1\n",
    "\n",
    "  x = ''\n",
    "  y = ''\n",
    "\n",
    "  # if subjpass == 1 then sentence is passive\n",
    "  if subjpass == 1:\n",
    "    for i,tok in enumerate(doc):\n",
    "      if tok.dep_.find(\"subjpass\") == True:\n",
    "        y = tok.text\n",
    "\n",
    "      if tok.dep_.endswith(\"obj\") == True:\n",
    "        x = tok.text\n",
    "  \n",
    "  # if subjpass == 0 then sentence is not passive\n",
    "  else:\n",
    "    for i,tok in enumerate(doc):\n",
    "      if tok.dep_.endswith(\"subj\") == True:\n",
    "        x = tok.text\n",
    "\n",
    "      if tok.dep_.endswith(\"obj\") == True:\n",
    "        y = tok.text\n",
    "\n",
    "  return x,y"
   ]
  },
  {
   "cell_type": "code",
   "execution_count": 23,
   "metadata": {},
   "outputs": [],
   "source": [
    "# Tags I've chosen for relations\n",
    "deps = [\"ROOT\", \"adj\", \"attr\", \"agent\", \"amod\"]\n",
    "\n",
    "# Tags I've chosen for entities(subjects and objects)\n",
    "deps = [\"compound\", \"prep\", \"conj\", \"mod\"]"
   ]
  },
  {
   "cell_type": "code",
   "execution_count": 28,
   "metadata": {},
   "outputs": [
    {
     "output_type": "stream",
     "name": "stdout",
     "text": [
      "London is the capital and largest city of England and the United Kingdom. Standing on the River Thames in the south-east of England, at the head of its 50-mile (80 km) estuary leading to the North Sea, London has been a major settlement for two millennia. Londinium was founded by the Romans. The City of London, London's ancient core − an area of just 1.12 square miles (2.9 km2) and colloquially known as the Square Mile − retains boundaries that follow closely its medieval limits.The City of Westminster is also an Inner London borough holding city status. Greater London is governed by the Mayor of London and the London Assembly.London is located in the southeast of England.Westminster is located in London.London is the biggest city in Britain. London has a population of 7,172,036.\nLondon -> nsubj\nis -> ROOT\nthe -> det\ncapital -> attr\nand -> cc\nlargest -> amod\ncity -> conj\nof -> prep\nEngland -> pobj\nand -> cc\nthe -> det\nUnited -> compound\nKingdom -> conj\n. -> punct\nLondon , be capital large , England\nStanding -> advcl\non -> prep\nthe -> det\nRiver -> compound\nThames -> pobj\nin -> prep\nthe -> det\nsouth -> compound\n- -> punct\neast -> pobj\nof -> prep\nEngland -> pobj\n, -> punct\nat -> prep\nthe -> det\nhead -> pobj\nof -> prep\nits -> poss\n50 -> nummod\n- -> punct\nmile -> nmod\n( -> punct\n80 -> nummod\nkm -> pobj\n) -> punct\nestuary -> dep\nleading -> xcomp\nto -> prep\nthe -> det\nNorth -> compound\nSea -> pobj\n, -> punct\nLondon -> nsubj\nhas -> aux\nbeen -> ROOT\na -> det\nmajor -> amod\nsettlement -> attr\nfor -> prep\ntwo -> nummod\nmillennia -> pobj\n. -> punct\nLondon , be major settlement , Thames east England head km Sea millennia\nLondinium -> nsubjpass\nwas -> auxpass\nfounded -> ROOT\nby -> agent\nthe -> det\nRomans -> pobj\n. -> punct\nLondinium , found by , Romans\nThe -> det\nCity -> nsubj\nof -> prep\nLondon -> pobj\n, -> punct\nLondon -> poss\n's -> case\nancient -> amod\ncore -> compound\n− -> appos\nan -> det\narea -> appos\nof -> prep\njust -> advmod\n1.12 -> nummod\nsquare -> amod\nmiles -> pobj\n( -> punct\n2.9 -> nummod\nkm2 -> appos\n) -> punct\nand -> cc\ncolloquially -> advmod\nknown -> conj\nas -> prep\nthe -> det\nSquare -> compound\nMile -> compound\n− -> pobj\nretains -> ROOT\nboundaries -> dobj\nthat -> nsubj\nfollow -> relcl\nclosely -> advmod\nits -> poss\nmedieval -> amod\nlimits -> dobj\n. -> punct\nCity that , ancient square retain medieval , London miles − boundaries limits\nThe -> det\nCity -> nsubj\nof -> prep\nWestminster -> pobj\nis -> ROOT\nalso -> advmod\nan -> det\nInner -> nmod\nLondon -> nmod\nborough -> npadvmod\nholding -> amod\ncity -> compound\nstatus -> attr\n. -> punct\nCity , be hold status , Westminster\nGreater -> compound\nLondon -> nsubjpass\nis -> auxpass\ngoverned -> ROOT\nby -> agent\nthe -> det\nMayor -> pobj\nof -> prep\nLondon -> pobj\nand -> cc\nthe -> det\nLondon -> compound\nAssembly -> conj\n. -> punct\nLondon , govern by , Mayor London\nLondon -> nsubjpass\nis -> auxpass\nlocated -> ROOT\nin -> prep\nthe -> det\nsoutheast -> pobj\nof -> prep\nEngland -> pobj\n. -> punct\nLondon , locate , southeast England\nWestminster -> nsubjpass\nis -> auxpass\nlocated -> ROOT\nin -> prep\nLondon -> pobj\n. -> punct\nWestminster , locate , London\nLondon -> nsubj\nis -> ROOT\nthe -> det\nbiggest -> amod\ncity -> attr\nin -> prep\nBritain -> pobj\n. -> punct\nLondon , be big city , Britain\nLondon -> nsubj\nhas -> ROOT\na -> det\npopulation -> dobj\nof -> prep\n7,172,036 -> pobj\n. -> punct\nLondon , have , population 7,172,036\n"
     ]
    },
    {
     "output_type": "display_data",
     "data": {
      "text/plain": "<Figure size 432x288 with 1 Axes>",
      "image/svg+xml": "<?xml version=\"1.0\" encoding=\"utf-8\" standalone=\"no\"?>\n<!DOCTYPE svg PUBLIC \"-//W3C//DTD SVG 1.1//EN\"\n  \"http://www.w3.org/Graphics/SVG/1.1/DTD/svg11.dtd\">\n<!-- Created with matplotlib (https://matplotlib.org/) -->\n<svg height=\"302.4pt\" version=\"1.1\" viewBox=\"0 0 446.4 302.4\" width=\"446.4pt\" xmlns=\"http://www.w3.org/2000/svg\" xmlns:xlink=\"http://www.w3.org/1999/xlink\">\n <metadata>\n  <rdf:RDF xmlns:cc=\"http://creativecommons.org/ns#\" xmlns:dc=\"http://purl.org/dc/elements/1.1/\" xmlns:rdf=\"http://www.w3.org/1999/02/22-rdf-syntax-ns#\">\n   <cc:Work>\n    <dc:type rdf:resource=\"http://purl.org/dc/dcmitype/StillImage\"/>\n    <dc:date>2021-03-04T12:45:28.308246</dc:date>\n    <dc:format>image/svg+xml</dc:format>\n    <dc:creator>\n     <cc:Agent>\n      <dc:title>Matplotlib v3.3.4, https://matplotlib.org/</dc:title>\n     </cc:Agent>\n    </dc:creator>\n   </cc:Work>\n  </rdf:RDF>\n </metadata>\n <defs>\n  <style type=\"text/css\">*{stroke-linecap:butt;stroke-linejoin:round;}</style>\n </defs>\n <g id=\"figure_1\">\n  <g id=\"patch_1\">\n   <path d=\"M 0 302.4 \nL 446.4 302.4 \nL 446.4 0 \nL 0 0 \nz\n\" style=\"fill:#ffffff;\"/>\n  </g>\n  <g id=\"axes_1\">\n   <g id=\"LineCollection_1\">\n    <path clip-path=\"url(#p555a31da01)\" d=\"M 175.466051 105.804471 \nL 210.358614 128.580268 \n\" style=\"fill:none;stroke:#000000;stroke-opacity:0.9;\"/>\n    <path clip-path=\"url(#p555a31da01)\" d=\"M 175.466051 105.804471 \nL 140.398591 125.726596 \n\" style=\"fill:none;stroke:#000000;stroke-opacity:0.9;\"/>\n    <path clip-path=\"url(#p555a31da01)\" d=\"M 175.466051 105.804471 \nL 147.824761 82.911509 \n\" style=\"fill:none;stroke:#000000;stroke-opacity:0.9;\"/>\n    <path clip-path=\"url(#p555a31da01)\" d=\"M 175.466051 105.804471 \nL 208.403539 89.427489 \n\" style=\"fill:none;stroke:#000000;stroke-opacity:0.9;\"/>\n    <path clip-path=\"url(#p555a31da01)\" d=\"M 175.466051 105.804471 \nL 230.625305 102.179933 \n\" style=\"fill:none;stroke:#000000;stroke-opacity:0.9;\"/>\n    <path clip-path=\"url(#p555a31da01)\" d=\"M 175.466051 105.804471 \nL 123.182953 102.312903 \n\" style=\"fill:none;stroke:#000000;stroke-opacity:0.9;\"/>\n    <path clip-path=\"url(#p555a31da01)\" d=\"M 210.358614 128.580268 \nL 242.109025 142.828361 \n\" style=\"fill:none;stroke:#000000;stroke-opacity:0.9;\"/>\n    <path clip-path=\"url(#p555a31da01)\" d=\"M 140.398591 125.726596 \nL 111.884239 140.175183 \n\" style=\"fill:none;stroke:#000000;stroke-opacity:0.9;\"/>\n    <path clip-path=\"url(#p555a31da01)\" d=\"M 48.019362 282.109091 \nL 45.888579 266.740196 \n\" style=\"fill:none;stroke:#000000;stroke-opacity:0.9;\"/>\n    <path clip-path=\"url(#p555a31da01)\" d=\"M 45.888579 266.740196 \nL 26.836364 256.289794 \n\" style=\"fill:none;stroke:#000000;stroke-opacity:0.9;\"/>\n    <path clip-path=\"url(#p555a31da01)\" d=\"M 419.563636 239.981526 \nL 390.338706 243.150892 \n\" style=\"fill:none;stroke:#000000;stroke-opacity:0.9;\"/>\n    <path clip-path=\"url(#p555a31da01)\" d=\"M 390.338706 243.150892 \nL 400.425104 259.866726 \n\" style=\"fill:none;stroke:#000000;stroke-opacity:0.9;\"/>\n    <path clip-path=\"url(#p555a31da01)\" d=\"M 270.049629 20.290909 \nL 254.028119 38.827481 \n\" style=\"fill:none;stroke:#000000;stroke-opacity:0.9;\"/>\n    <path clip-path=\"url(#p555a31da01)\" d=\"M 254.028119 38.827481 \nL 233.139375 62.708264 \n\" style=\"fill:none;stroke:#000000;stroke-opacity:0.9;\"/>\n    <path clip-path=\"url(#p555a31da01)\" d=\"M 233.139375 62.708264 \nL 208.403539 89.427489 \n\" style=\"fill:none;stroke:#000000;stroke-opacity:0.9;\"/>\n    <path clip-path=\"url(#p555a31da01)\" d=\"M 147.824761 82.911509 \nL 125.510464 65.587371 \n\" style=\"fill:none;stroke:#000000;stroke-opacity:0.9;\"/>\n    <path clip-path=\"url(#p555a31da01)\" d=\"M 208.403539 89.427489 \nL 204.829488 112.177082 \n\" style=\"fill:none;stroke:#000000;stroke-opacity:0.9;\"/>\n    <path clip-path=\"url(#p555a31da01)\" d=\"M 230.625305 102.179933 \nL 272.746175 99.245597 \n\" style=\"fill:none;stroke:#000000;stroke-opacity:0.9;\"/>\n    <path clip-path=\"url(#p555a31da01)\" d=\"M 123.182953 102.312903 \nL 82.380948 98.908115 \n\" style=\"fill:none;stroke:#000000;stroke-opacity:0.9;\"/>\n   </g>\n   <g id=\"PathCollection_1\">\n    <defs>\n     <path d=\"M 0 11.18034 \nC 2.965061 11.18034 5.80908 10.002309 7.905694 7.905694 \nC 10.002309 5.80908 11.18034 2.965061 11.18034 0 \nC 11.18034 -2.965061 10.002309 -5.80908 7.905694 -7.905694 \nC 5.80908 -10.002309 2.965061 -11.18034 0 -11.18034 \nC -2.965061 -11.18034 -5.80908 -10.002309 -7.905694 -7.905694 \nC -10.002309 -5.80908 -11.18034 -2.965061 -11.18034 0 \nC -11.18034 2.965061 -10.002309 5.80908 -7.905694 7.905694 \nC -5.80908 10.002309 -2.965061 11.18034 0 11.18034 \nz\n\" id=\"m2eaa6cb70f\" style=\"stroke:#2e8b57;stroke-opacity:0.9;\"/>\n    </defs>\n    <g clip-path=\"url(#p555a31da01)\">\n     <use style=\"fill:#2e8b57;fill-opacity:0.9;stroke:#2e8b57;stroke-opacity:0.9;\" x=\"175.466051\" xlink:href=\"#m2eaa6cb70f\" y=\"105.804471\"/>\n     <use style=\"fill:#2e8b57;fill-opacity:0.9;stroke:#2e8b57;stroke-opacity:0.9;\" x=\"210.358614\" xlink:href=\"#m2eaa6cb70f\" y=\"128.580268\"/>\n     <use style=\"fill:#2e8b57;fill-opacity:0.9;stroke:#2e8b57;stroke-opacity:0.9;\" x=\"242.109025\" xlink:href=\"#m2eaa6cb70f\" y=\"142.828361\"/>\n     <use style=\"fill:#2e8b57;fill-opacity:0.9;stroke:#2e8b57;stroke-opacity:0.9;\" x=\"140.398591\" xlink:href=\"#m2eaa6cb70f\" y=\"125.726596\"/>\n     <use style=\"fill:#2e8b57;fill-opacity:0.9;stroke:#2e8b57;stroke-opacity:0.9;\" x=\"111.884239\" xlink:href=\"#m2eaa6cb70f\" y=\"140.175183\"/>\n     <use style=\"fill:#2e8b57;fill-opacity:0.9;stroke:#2e8b57;stroke-opacity:0.9;\" x=\"48.019362\" xlink:href=\"#m2eaa6cb70f\" y=\"282.109091\"/>\n     <use style=\"fill:#2e8b57;fill-opacity:0.9;stroke:#2e8b57;stroke-opacity:0.9;\" x=\"45.888579\" xlink:href=\"#m2eaa6cb70f\" y=\"266.740196\"/>\n     <use style=\"fill:#2e8b57;fill-opacity:0.9;stroke:#2e8b57;stroke-opacity:0.9;\" x=\"26.836364\" xlink:href=\"#m2eaa6cb70f\" y=\"256.289794\"/>\n     <use style=\"fill:#2e8b57;fill-opacity:0.9;stroke:#2e8b57;stroke-opacity:0.9;\" x=\"419.563636\" xlink:href=\"#m2eaa6cb70f\" y=\"239.981526\"/>\n     <use style=\"fill:#2e8b57;fill-opacity:0.9;stroke:#2e8b57;stroke-opacity:0.9;\" x=\"390.338706\" xlink:href=\"#m2eaa6cb70f\" y=\"243.150892\"/>\n     <use style=\"fill:#2e8b57;fill-opacity:0.9;stroke:#2e8b57;stroke-opacity:0.9;\" x=\"400.425104\" xlink:href=\"#m2eaa6cb70f\" y=\"259.866726\"/>\n     <use style=\"fill:#2e8b57;fill-opacity:0.9;stroke:#2e8b57;stroke-opacity:0.9;\" x=\"270.049629\" xlink:href=\"#m2eaa6cb70f\" y=\"20.290909\"/>\n     <use style=\"fill:#2e8b57;fill-opacity:0.9;stroke:#2e8b57;stroke-opacity:0.9;\" x=\"254.028119\" xlink:href=\"#m2eaa6cb70f\" y=\"38.827481\"/>\n     <use style=\"fill:#2e8b57;fill-opacity:0.9;stroke:#2e8b57;stroke-opacity:0.9;\" x=\"233.139375\" xlink:href=\"#m2eaa6cb70f\" y=\"62.708264\"/>\n     <use style=\"fill:#2e8b57;fill-opacity:0.9;stroke:#2e8b57;stroke-opacity:0.9;\" x=\"147.824761\" xlink:href=\"#m2eaa6cb70f\" y=\"82.911509\"/>\n     <use style=\"fill:#2e8b57;fill-opacity:0.9;stroke:#2e8b57;stroke-opacity:0.9;\" x=\"125.510464\" xlink:href=\"#m2eaa6cb70f\" y=\"65.587371\"/>\n     <use style=\"fill:#2e8b57;fill-opacity:0.9;stroke:#2e8b57;stroke-opacity:0.9;\" x=\"208.403539\" xlink:href=\"#m2eaa6cb70f\" y=\"89.427489\"/>\n     <use style=\"fill:#2e8b57;fill-opacity:0.9;stroke:#2e8b57;stroke-opacity:0.9;\" x=\"204.829488\" xlink:href=\"#m2eaa6cb70f\" y=\"112.177082\"/>\n     <use style=\"fill:#2e8b57;fill-opacity:0.9;stroke:#2e8b57;stroke-opacity:0.9;\" x=\"230.625305\" xlink:href=\"#m2eaa6cb70f\" y=\"102.179933\"/>\n     <use style=\"fill:#2e8b57;fill-opacity:0.9;stroke:#2e8b57;stroke-opacity:0.9;\" x=\"272.746175\" xlink:href=\"#m2eaa6cb70f\" y=\"99.245597\"/>\n     <use style=\"fill:#2e8b57;fill-opacity:0.9;stroke:#2e8b57;stroke-opacity:0.9;\" x=\"123.182953\" xlink:href=\"#m2eaa6cb70f\" y=\"102.312903\"/>\n     <use style=\"fill:#2e8b57;fill-opacity:0.9;stroke:#2e8b57;stroke-opacity:0.9;\" x=\"82.380948\" xlink:href=\"#m2eaa6cb70f\" y=\"98.908115\"/>\n    </g>\n   </g>\n   <g id=\"text_1\">\n    <g clip-path=\"url(#p555a31da01)\">\n     <!-- London -->\n     <g style=\"opacity:0.9;\" transform=\"translate(153.471363 109.115721)scale(0.12 -0.12)\">\n      <defs>\n       <path d=\"M 9.8125 72.90625 \nL 19.671875 72.90625 \nL 19.671875 8.296875 \nL 55.171875 8.296875 \nL 55.171875 0 \nL 9.8125 0 \nz\n\" id=\"DejaVuSans-76\"/>\n       <path d=\"M 30.609375 48.390625 \nQ 23.390625 48.390625 19.1875 42.75 \nQ 14.984375 37.109375 14.984375 27.296875 \nQ 14.984375 17.484375 19.15625 11.84375 \nQ 23.34375 6.203125 30.609375 6.203125 \nQ 37.796875 6.203125 41.984375 11.859375 \nQ 46.1875 17.53125 46.1875 27.296875 \nQ 46.1875 37.015625 41.984375 42.703125 \nQ 37.796875 48.390625 30.609375 48.390625 \nz\nM 30.609375 56 \nQ 42.328125 56 49.015625 48.375 \nQ 55.71875 40.765625 55.71875 27.296875 \nQ 55.71875 13.875 49.015625 6.21875 \nQ 42.328125 -1.421875 30.609375 -1.421875 \nQ 18.84375 -1.421875 12.171875 6.21875 \nQ 5.515625 13.875 5.515625 27.296875 \nQ 5.515625 40.765625 12.171875 48.375 \nQ 18.84375 56 30.609375 56 \nz\n\" id=\"DejaVuSans-111\"/>\n       <path d=\"M 54.890625 33.015625 \nL 54.890625 0 \nL 45.90625 0 \nL 45.90625 32.71875 \nQ 45.90625 40.484375 42.875 44.328125 \nQ 39.84375 48.1875 33.796875 48.1875 \nQ 26.515625 48.1875 22.3125 43.546875 \nQ 18.109375 38.921875 18.109375 30.90625 \nL 18.109375 0 \nL 9.078125 0 \nL 9.078125 54.6875 \nL 18.109375 54.6875 \nL 18.109375 46.1875 \nQ 21.34375 51.125 25.703125 53.5625 \nQ 30.078125 56 35.796875 56 \nQ 45.21875 56 50.046875 50.171875 \nQ 54.890625 44.34375 54.890625 33.015625 \nz\n\" id=\"DejaVuSans-110\"/>\n       <path d=\"M 45.40625 46.390625 \nL 45.40625 75.984375 \nL 54.390625 75.984375 \nL 54.390625 0 \nL 45.40625 0 \nL 45.40625 8.203125 \nQ 42.578125 3.328125 38.25 0.953125 \nQ 33.9375 -1.421875 27.875 -1.421875 \nQ 17.96875 -1.421875 11.734375 6.484375 \nQ 5.515625 14.40625 5.515625 27.296875 \nQ 5.515625 40.1875 11.734375 48.09375 \nQ 17.96875 56 27.875 56 \nQ 33.9375 56 38.25 53.625 \nQ 42.578125 51.265625 45.40625 46.390625 \nz\nM 14.796875 27.296875 \nQ 14.796875 17.390625 18.875 11.75 \nQ 22.953125 6.109375 30.078125 6.109375 \nQ 37.203125 6.109375 41.296875 11.75 \nQ 45.40625 17.390625 45.40625 27.296875 \nQ 45.40625 37.203125 41.296875 42.84375 \nQ 37.203125 48.484375 30.078125 48.484375 \nQ 22.953125 48.484375 18.875 42.84375 \nQ 14.796875 37.203125 14.796875 27.296875 \nz\n\" id=\"DejaVuSans-100\"/>\n      </defs>\n      <use xlink:href=\"#DejaVuSans-76\"/>\n      <use x=\"53.962891\" xlink:href=\"#DejaVuSans-111\"/>\n      <use x=\"115.144531\" xlink:href=\"#DejaVuSans-110\"/>\n      <use x=\"178.523438\" xlink:href=\"#DejaVuSans-100\"/>\n      <use x=\"242\" xlink:href=\"#DejaVuSans-111\"/>\n      <use x=\"303.181641\" xlink:href=\"#DejaVuSans-110\"/>\n     </g>\n    </g>\n   </g>\n   <g id=\"text_2\">\n    <g clip-path=\"url(#p555a31da01)\">\n     <!-- be capital large -->\n     <g style=\"opacity:0.9;\" transform=\"translate(163.689864 131.891518)scale(0.12 -0.12)\">\n      <defs>\n       <path d=\"M 48.6875 27.296875 \nQ 48.6875 37.203125 44.609375 42.84375 \nQ 40.53125 48.484375 33.40625 48.484375 \nQ 26.265625 48.484375 22.1875 42.84375 \nQ 18.109375 37.203125 18.109375 27.296875 \nQ 18.109375 17.390625 22.1875 11.75 \nQ 26.265625 6.109375 33.40625 6.109375 \nQ 40.53125 6.109375 44.609375 11.75 \nQ 48.6875 17.390625 48.6875 27.296875 \nz\nM 18.109375 46.390625 \nQ 20.953125 51.265625 25.265625 53.625 \nQ 29.59375 56 35.59375 56 \nQ 45.5625 56 51.78125 48.09375 \nQ 58.015625 40.1875 58.015625 27.296875 \nQ 58.015625 14.40625 51.78125 6.484375 \nQ 45.5625 -1.421875 35.59375 -1.421875 \nQ 29.59375 -1.421875 25.265625 0.953125 \nQ 20.953125 3.328125 18.109375 8.203125 \nL 18.109375 0 \nL 9.078125 0 \nL 9.078125 75.984375 \nL 18.109375 75.984375 \nz\n\" id=\"DejaVuSans-98\"/>\n       <path d=\"M 56.203125 29.59375 \nL 56.203125 25.203125 \nL 14.890625 25.203125 \nQ 15.484375 15.921875 20.484375 11.0625 \nQ 25.484375 6.203125 34.421875 6.203125 \nQ 39.59375 6.203125 44.453125 7.46875 \nQ 49.3125 8.734375 54.109375 11.28125 \nL 54.109375 2.78125 \nQ 49.265625 0.734375 44.1875 -0.34375 \nQ 39.109375 -1.421875 33.890625 -1.421875 \nQ 20.796875 -1.421875 13.15625 6.1875 \nQ 5.515625 13.8125 5.515625 26.8125 \nQ 5.515625 40.234375 12.765625 48.109375 \nQ 20.015625 56 32.328125 56 \nQ 43.359375 56 49.78125 48.890625 \nQ 56.203125 41.796875 56.203125 29.59375 \nz\nM 47.21875 32.234375 \nQ 47.125 39.59375 43.09375 43.984375 \nQ 39.0625 48.390625 32.421875 48.390625 \nQ 24.90625 48.390625 20.390625 44.140625 \nQ 15.875 39.890625 15.1875 32.171875 \nz\n\" id=\"DejaVuSans-101\"/>\n       <path id=\"DejaVuSans-32\"/>\n       <path d=\"M 48.78125 52.59375 \nL 48.78125 44.1875 \nQ 44.96875 46.296875 41.140625 47.34375 \nQ 37.3125 48.390625 33.40625 48.390625 \nQ 24.65625 48.390625 19.8125 42.84375 \nQ 14.984375 37.3125 14.984375 27.296875 \nQ 14.984375 17.28125 19.8125 11.734375 \nQ 24.65625 6.203125 33.40625 6.203125 \nQ 37.3125 6.203125 41.140625 7.25 \nQ 44.96875 8.296875 48.78125 10.40625 \nL 48.78125 2.09375 \nQ 45.015625 0.34375 40.984375 -0.53125 \nQ 36.96875 -1.421875 32.421875 -1.421875 \nQ 20.0625 -1.421875 12.78125 6.34375 \nQ 5.515625 14.109375 5.515625 27.296875 \nQ 5.515625 40.671875 12.859375 48.328125 \nQ 20.21875 56 33.015625 56 \nQ 37.15625 56 41.109375 55.140625 \nQ 45.0625 54.296875 48.78125 52.59375 \nz\n\" id=\"DejaVuSans-99\"/>\n       <path d=\"M 34.28125 27.484375 \nQ 23.390625 27.484375 19.1875 25 \nQ 14.984375 22.515625 14.984375 16.5 \nQ 14.984375 11.71875 18.140625 8.90625 \nQ 21.296875 6.109375 26.703125 6.109375 \nQ 34.1875 6.109375 38.703125 11.40625 \nQ 43.21875 16.703125 43.21875 25.484375 \nL 43.21875 27.484375 \nz\nM 52.203125 31.203125 \nL 52.203125 0 \nL 43.21875 0 \nL 43.21875 8.296875 \nQ 40.140625 3.328125 35.546875 0.953125 \nQ 30.953125 -1.421875 24.3125 -1.421875 \nQ 15.921875 -1.421875 10.953125 3.296875 \nQ 6 8.015625 6 15.921875 \nQ 6 25.140625 12.171875 29.828125 \nQ 18.359375 34.515625 30.609375 34.515625 \nL 43.21875 34.515625 \nL 43.21875 35.40625 \nQ 43.21875 41.609375 39.140625 45 \nQ 35.0625 48.390625 27.6875 48.390625 \nQ 23 48.390625 18.546875 47.265625 \nQ 14.109375 46.140625 10.015625 43.890625 \nL 10.015625 52.203125 \nQ 14.9375 54.109375 19.578125 55.046875 \nQ 24.21875 56 28.609375 56 \nQ 40.484375 56 46.34375 49.84375 \nQ 52.203125 43.703125 52.203125 31.203125 \nz\n\" id=\"DejaVuSans-97\"/>\n       <path d=\"M 18.109375 8.203125 \nL 18.109375 -20.796875 \nL 9.078125 -20.796875 \nL 9.078125 54.6875 \nL 18.109375 54.6875 \nL 18.109375 46.390625 \nQ 20.953125 51.265625 25.265625 53.625 \nQ 29.59375 56 35.59375 56 \nQ 45.5625 56 51.78125 48.09375 \nQ 58.015625 40.1875 58.015625 27.296875 \nQ 58.015625 14.40625 51.78125 6.484375 \nQ 45.5625 -1.421875 35.59375 -1.421875 \nQ 29.59375 -1.421875 25.265625 0.953125 \nQ 20.953125 3.328125 18.109375 8.203125 \nz\nM 48.6875 27.296875 \nQ 48.6875 37.203125 44.609375 42.84375 \nQ 40.53125 48.484375 33.40625 48.484375 \nQ 26.265625 48.484375 22.1875 42.84375 \nQ 18.109375 37.203125 18.109375 27.296875 \nQ 18.109375 17.390625 22.1875 11.75 \nQ 26.265625 6.109375 33.40625 6.109375 \nQ 40.53125 6.109375 44.609375 11.75 \nQ 48.6875 17.390625 48.6875 27.296875 \nz\n\" id=\"DejaVuSans-112\"/>\n       <path d=\"M 9.421875 54.6875 \nL 18.40625 54.6875 \nL 18.40625 0 \nL 9.421875 0 \nz\nM 9.421875 75.984375 \nL 18.40625 75.984375 \nL 18.40625 64.59375 \nL 9.421875 64.59375 \nz\n\" id=\"DejaVuSans-105\"/>\n       <path d=\"M 18.3125 70.21875 \nL 18.3125 54.6875 \nL 36.8125 54.6875 \nL 36.8125 47.703125 \nL 18.3125 47.703125 \nL 18.3125 18.015625 \nQ 18.3125 11.328125 20.140625 9.421875 \nQ 21.96875 7.515625 27.59375 7.515625 \nL 36.8125 7.515625 \nL 36.8125 0 \nL 27.59375 0 \nQ 17.1875 0 13.234375 3.875 \nQ 9.28125 7.765625 9.28125 18.015625 \nL 9.28125 47.703125 \nL 2.6875 47.703125 \nL 2.6875 54.6875 \nL 9.28125 54.6875 \nL 9.28125 70.21875 \nz\n\" id=\"DejaVuSans-116\"/>\n       <path d=\"M 9.421875 75.984375 \nL 18.40625 75.984375 \nL 18.40625 0 \nL 9.421875 0 \nz\n\" id=\"DejaVuSans-108\"/>\n       <path d=\"M 41.109375 46.296875 \nQ 39.59375 47.171875 37.8125 47.578125 \nQ 36.03125 48 33.890625 48 \nQ 26.265625 48 22.1875 43.046875 \nQ 18.109375 38.09375 18.109375 28.8125 \nL 18.109375 0 \nL 9.078125 0 \nL 9.078125 54.6875 \nL 18.109375 54.6875 \nL 18.109375 46.1875 \nQ 20.953125 51.171875 25.484375 53.578125 \nQ 30.03125 56 36.53125 56 \nQ 37.453125 56 38.578125 55.875 \nQ 39.703125 55.765625 41.0625 55.515625 \nz\n\" id=\"DejaVuSans-114\"/>\n       <path d=\"M 45.40625 27.984375 \nQ 45.40625 37.75 41.375 43.109375 \nQ 37.359375 48.484375 30.078125 48.484375 \nQ 22.859375 48.484375 18.828125 43.109375 \nQ 14.796875 37.75 14.796875 27.984375 \nQ 14.796875 18.265625 18.828125 12.890625 \nQ 22.859375 7.515625 30.078125 7.515625 \nQ 37.359375 7.515625 41.375 12.890625 \nQ 45.40625 18.265625 45.40625 27.984375 \nz\nM 54.390625 6.78125 \nQ 54.390625 -7.171875 48.1875 -13.984375 \nQ 42 -20.796875 29.203125 -20.796875 \nQ 24.46875 -20.796875 20.265625 -20.09375 \nQ 16.0625 -19.390625 12.109375 -17.921875 \nL 12.109375 -9.1875 \nQ 16.0625 -11.328125 19.921875 -12.34375 \nQ 23.78125 -13.375 27.78125 -13.375 \nQ 36.625 -13.375 41.015625 -8.765625 \nQ 45.40625 -4.15625 45.40625 5.171875 \nL 45.40625 9.625 \nQ 42.625 4.78125 38.28125 2.390625 \nQ 33.9375 0 27.875 0 \nQ 17.828125 0 11.671875 7.65625 \nQ 5.515625 15.328125 5.515625 27.984375 \nQ 5.515625 40.671875 11.671875 48.328125 \nQ 17.828125 56 27.875 56 \nQ 33.9375 56 38.28125 53.609375 \nQ 42.625 51.21875 45.40625 46.390625 \nL 45.40625 54.6875 \nL 54.390625 54.6875 \nz\n\" id=\"DejaVuSans-103\"/>\n      </defs>\n      <use xlink:href=\"#DejaVuSans-98\"/>\n      <use x=\"63.476562\" xlink:href=\"#DejaVuSans-101\"/>\n      <use x=\"125\" xlink:href=\"#DejaVuSans-32\"/>\n      <use x=\"156.787109\" xlink:href=\"#DejaVuSans-99\"/>\n      <use x=\"211.767578\" xlink:href=\"#DejaVuSans-97\"/>\n      <use x=\"273.046875\" xlink:href=\"#DejaVuSans-112\"/>\n      <use x=\"336.523438\" xlink:href=\"#DejaVuSans-105\"/>\n      <use x=\"364.306641\" xlink:href=\"#DejaVuSans-116\"/>\n      <use x=\"403.515625\" xlink:href=\"#DejaVuSans-97\"/>\n      <use x=\"464.794922\" xlink:href=\"#DejaVuSans-108\"/>\n      <use x=\"492.578125\" xlink:href=\"#DejaVuSans-32\"/>\n      <use x=\"524.365234\" xlink:href=\"#DejaVuSans-108\"/>\n      <use x=\"552.148438\" xlink:href=\"#DejaVuSans-97\"/>\n      <use x=\"613.427734\" xlink:href=\"#DejaVuSans-114\"/>\n      <use x=\"652.791016\" xlink:href=\"#DejaVuSans-103\"/>\n      <use x=\"716.267578\" xlink:href=\"#DejaVuSans-101\"/>\n     </g>\n    </g>\n   </g>\n   <g id=\"text_3\">\n    <g clip-path=\"url(#p555a31da01)\">\n     <!-- England -->\n     <g style=\"opacity:0.9;\" transform=\"translate(217.7509 146.139611)scale(0.12 -0.12)\">\n      <defs>\n       <path d=\"M 9.8125 72.90625 \nL 55.90625 72.90625 \nL 55.90625 64.59375 \nL 19.671875 64.59375 \nL 19.671875 43.015625 \nL 54.390625 43.015625 \nL 54.390625 34.71875 \nL 19.671875 34.71875 \nL 19.671875 8.296875 \nL 56.78125 8.296875 \nL 56.78125 0 \nL 9.8125 0 \nz\n\" id=\"DejaVuSans-69\"/>\n      </defs>\n      <use xlink:href=\"#DejaVuSans-69\"/>\n      <use x=\"63.183594\" xlink:href=\"#DejaVuSans-110\"/>\n      <use x=\"126.5625\" xlink:href=\"#DejaVuSans-103\"/>\n      <use x=\"190.039062\" xlink:href=\"#DejaVuSans-108\"/>\n      <use x=\"217.822266\" xlink:href=\"#DejaVuSans-97\"/>\n      <use x=\"279.101562\" xlink:href=\"#DejaVuSans-110\"/>\n      <use x=\"342.480469\" xlink:href=\"#DejaVuSans-100\"/>\n     </g>\n    </g>\n   </g>\n   <g id=\"text_4\">\n    <g clip-path=\"url(#p555a31da01)\">\n     <!-- be major settlement -->\n     <g style=\"opacity:0.9;\" transform=\"translate(79.186404 129.037846)scale(0.12 -0.12)\">\n      <defs>\n       <path d=\"M 52 44.1875 \nQ 55.375 50.25 60.0625 53.125 \nQ 64.75 56 71.09375 56 \nQ 79.640625 56 84.28125 50.015625 \nQ 88.921875 44.046875 88.921875 33.015625 \nL 88.921875 0 \nL 79.890625 0 \nL 79.890625 32.71875 \nQ 79.890625 40.578125 77.09375 44.375 \nQ 74.3125 48.1875 68.609375 48.1875 \nQ 61.625 48.1875 57.5625 43.546875 \nQ 53.515625 38.921875 53.515625 30.90625 \nL 53.515625 0 \nL 44.484375 0 \nL 44.484375 32.71875 \nQ 44.484375 40.625 41.703125 44.40625 \nQ 38.921875 48.1875 33.109375 48.1875 \nQ 26.21875 48.1875 22.15625 43.53125 \nQ 18.109375 38.875 18.109375 30.90625 \nL 18.109375 0 \nL 9.078125 0 \nL 9.078125 54.6875 \nL 18.109375 54.6875 \nL 18.109375 46.1875 \nQ 21.1875 51.21875 25.484375 53.609375 \nQ 29.78125 56 35.6875 56 \nQ 41.65625 56 45.828125 52.96875 \nQ 50 49.953125 52 44.1875 \nz\n\" id=\"DejaVuSans-109\"/>\n       <path d=\"M 9.421875 54.6875 \nL 18.40625 54.6875 \nL 18.40625 -0.984375 \nQ 18.40625 -11.421875 14.421875 -16.109375 \nQ 10.453125 -20.796875 1.609375 -20.796875 \nL -1.8125 -20.796875 \nL -1.8125 -13.1875 \nL 0.59375 -13.1875 \nQ 5.71875 -13.1875 7.5625 -10.8125 \nQ 9.421875 -8.453125 9.421875 -0.984375 \nz\nM 9.421875 75.984375 \nL 18.40625 75.984375 \nL 18.40625 64.59375 \nL 9.421875 64.59375 \nz\n\" id=\"DejaVuSans-106\"/>\n       <path d=\"M 44.28125 53.078125 \nL 44.28125 44.578125 \nQ 40.484375 46.53125 36.375 47.5 \nQ 32.28125 48.484375 27.875 48.484375 \nQ 21.1875 48.484375 17.84375 46.4375 \nQ 14.5 44.390625 14.5 40.28125 \nQ 14.5 37.15625 16.890625 35.375 \nQ 19.28125 33.59375 26.515625 31.984375 \nL 29.59375 31.296875 \nQ 39.15625 29.25 43.1875 25.515625 \nQ 47.21875 21.78125 47.21875 15.09375 \nQ 47.21875 7.46875 41.1875 3.015625 \nQ 35.15625 -1.421875 24.609375 -1.421875 \nQ 20.21875 -1.421875 15.453125 -0.5625 \nQ 10.6875 0.296875 5.421875 2 \nL 5.421875 11.28125 \nQ 10.40625 8.6875 15.234375 7.390625 \nQ 20.0625 6.109375 24.8125 6.109375 \nQ 31.15625 6.109375 34.5625 8.28125 \nQ 37.984375 10.453125 37.984375 14.40625 \nQ 37.984375 18.0625 35.515625 20.015625 \nQ 33.0625 21.96875 24.703125 23.78125 \nL 21.578125 24.515625 \nQ 13.234375 26.265625 9.515625 29.90625 \nQ 5.8125 33.546875 5.8125 39.890625 \nQ 5.8125 47.609375 11.28125 51.796875 \nQ 16.75 56 26.8125 56 \nQ 31.78125 56 36.171875 55.265625 \nQ 40.578125 54.546875 44.28125 53.078125 \nz\n\" id=\"DejaVuSans-115\"/>\n      </defs>\n      <use xlink:href=\"#DejaVuSans-98\"/>\n      <use x=\"63.476562\" xlink:href=\"#DejaVuSans-101\"/>\n      <use x=\"125\" xlink:href=\"#DejaVuSans-32\"/>\n      <use x=\"156.787109\" xlink:href=\"#DejaVuSans-109\"/>\n      <use x=\"254.199219\" xlink:href=\"#DejaVuSans-97\"/>\n      <use x=\"315.478516\" xlink:href=\"#DejaVuSans-106\"/>\n      <use x=\"343.261719\" xlink:href=\"#DejaVuSans-111\"/>\n      <use x=\"404.443359\" xlink:href=\"#DejaVuSans-114\"/>\n      <use x=\"445.556641\" xlink:href=\"#DejaVuSans-32\"/>\n      <use x=\"477.34375\" xlink:href=\"#DejaVuSans-115\"/>\n      <use x=\"529.443359\" xlink:href=\"#DejaVuSans-101\"/>\n      <use x=\"590.966797\" xlink:href=\"#DejaVuSans-116\"/>\n      <use x=\"630.175781\" xlink:href=\"#DejaVuSans-116\"/>\n      <use x=\"669.384766\" xlink:href=\"#DejaVuSans-108\"/>\n      <use x=\"697.167969\" xlink:href=\"#DejaVuSans-101\"/>\n      <use x=\"758.691406\" xlink:href=\"#DejaVuSans-109\"/>\n      <use x=\"856.103516\" xlink:href=\"#DejaVuSans-101\"/>\n      <use x=\"917.626953\" xlink:href=\"#DejaVuSans-110\"/>\n      <use x=\"981.005859\" xlink:href=\"#DejaVuSans-116\"/>\n     </g>\n    </g>\n   </g>\n   <g id=\"text_5\">\n    <g clip-path=\"url(#p555a31da01)\">\n     <!-- Thames east England head km Sea millennia -->\n     <g style=\"opacity:0.9;\" transform=\"translate(-23.530136 143.486433)scale(0.12 -0.12)\">\n      <defs>\n       <path d=\"M -0.296875 72.90625 \nL 61.375 72.90625 \nL 61.375 64.59375 \nL 35.5 64.59375 \nL 35.5 0 \nL 25.59375 0 \nL 25.59375 64.59375 \nL -0.296875 64.59375 \nz\n\" id=\"DejaVuSans-84\"/>\n       <path d=\"M 54.890625 33.015625 \nL 54.890625 0 \nL 45.90625 0 \nL 45.90625 32.71875 \nQ 45.90625 40.484375 42.875 44.328125 \nQ 39.84375 48.1875 33.796875 48.1875 \nQ 26.515625 48.1875 22.3125 43.546875 \nQ 18.109375 38.921875 18.109375 30.90625 \nL 18.109375 0 \nL 9.078125 0 \nL 9.078125 75.984375 \nL 18.109375 75.984375 \nL 18.109375 46.1875 \nQ 21.34375 51.125 25.703125 53.5625 \nQ 30.078125 56 35.796875 56 \nQ 45.21875 56 50.046875 50.171875 \nQ 54.890625 44.34375 54.890625 33.015625 \nz\n\" id=\"DejaVuSans-104\"/>\n       <path d=\"M 9.078125 75.984375 \nL 18.109375 75.984375 \nL 18.109375 31.109375 \nL 44.921875 54.6875 \nL 56.390625 54.6875 \nL 27.390625 29.109375 \nL 57.625 0 \nL 45.90625 0 \nL 18.109375 26.703125 \nL 18.109375 0 \nL 9.078125 0 \nz\n\" id=\"DejaVuSans-107\"/>\n       <path d=\"M 53.515625 70.515625 \nL 53.515625 60.890625 \nQ 47.90625 63.578125 42.921875 64.890625 \nQ 37.9375 66.21875 33.296875 66.21875 \nQ 25.25 66.21875 20.875 63.09375 \nQ 16.5 59.96875 16.5 54.203125 \nQ 16.5 49.359375 19.40625 46.890625 \nQ 22.3125 44.4375 30.421875 42.921875 \nL 36.375 41.703125 \nQ 47.40625 39.59375 52.65625 34.296875 \nQ 57.90625 29 57.90625 20.125 \nQ 57.90625 9.515625 50.796875 4.046875 \nQ 43.703125 -1.421875 29.984375 -1.421875 \nQ 24.8125 -1.421875 18.96875 -0.25 \nQ 13.140625 0.921875 6.890625 3.21875 \nL 6.890625 13.375 \nQ 12.890625 10.015625 18.65625 8.296875 \nQ 24.421875 6.59375 29.984375 6.59375 \nQ 38.421875 6.59375 43.015625 9.90625 \nQ 47.609375 13.234375 47.609375 19.390625 \nQ 47.609375 24.75 44.3125 27.78125 \nQ 41.015625 30.8125 33.5 32.328125 \nL 27.484375 33.5 \nQ 16.453125 35.6875 11.515625 40.375 \nQ 6.59375 45.0625 6.59375 53.421875 \nQ 6.59375 63.09375 13.40625 68.65625 \nQ 20.21875 74.21875 32.171875 74.21875 \nQ 37.3125 74.21875 42.625 73.28125 \nQ 47.953125 72.359375 53.515625 70.515625 \nz\n\" id=\"DejaVuSans-83\"/>\n      </defs>\n      <use xlink:href=\"#DejaVuSans-84\"/>\n      <use x=\"61.083984\" xlink:href=\"#DejaVuSans-104\"/>\n      <use x=\"124.462891\" xlink:href=\"#DejaVuSans-97\"/>\n      <use x=\"185.742188\" xlink:href=\"#DejaVuSans-109\"/>\n      <use x=\"283.154297\" xlink:href=\"#DejaVuSans-101\"/>\n      <use x=\"344.677734\" xlink:href=\"#DejaVuSans-115\"/>\n      <use x=\"396.777344\" xlink:href=\"#DejaVuSans-32\"/>\n      <use x=\"428.564453\" xlink:href=\"#DejaVuSans-101\"/>\n      <use x=\"490.087891\" xlink:href=\"#DejaVuSans-97\"/>\n      <use x=\"551.367188\" xlink:href=\"#DejaVuSans-115\"/>\n      <use x=\"603.466797\" xlink:href=\"#DejaVuSans-116\"/>\n      <use x=\"642.675781\" xlink:href=\"#DejaVuSans-32\"/>\n      <use x=\"674.462891\" xlink:href=\"#DejaVuSans-69\"/>\n      <use x=\"737.646484\" xlink:href=\"#DejaVuSans-110\"/>\n      <use x=\"801.025391\" xlink:href=\"#DejaVuSans-103\"/>\n      <use x=\"864.501953\" xlink:href=\"#DejaVuSans-108\"/>\n      <use x=\"892.285156\" xlink:href=\"#DejaVuSans-97\"/>\n      <use x=\"953.564453\" xlink:href=\"#DejaVuSans-110\"/>\n      <use x=\"1016.943359\" xlink:href=\"#DejaVuSans-100\"/>\n      <use x=\"1080.419922\" xlink:href=\"#DejaVuSans-32\"/>\n      <use x=\"1112.207031\" xlink:href=\"#DejaVuSans-104\"/>\n      <use x=\"1175.585938\" xlink:href=\"#DejaVuSans-101\"/>\n      <use x=\"1237.109375\" xlink:href=\"#DejaVuSans-97\"/>\n      <use x=\"1298.388672\" xlink:href=\"#DejaVuSans-100\"/>\n      <use x=\"1361.865234\" xlink:href=\"#DejaVuSans-32\"/>\n      <use x=\"1393.652344\" xlink:href=\"#DejaVuSans-107\"/>\n      <use x=\"1451.5625\" xlink:href=\"#DejaVuSans-109\"/>\n      <use x=\"1548.974609\" xlink:href=\"#DejaVuSans-32\"/>\n      <use x=\"1580.761719\" xlink:href=\"#DejaVuSans-83\"/>\n      <use x=\"1644.238281\" xlink:href=\"#DejaVuSans-101\"/>\n      <use x=\"1705.761719\" xlink:href=\"#DejaVuSans-97\"/>\n      <use x=\"1767.041016\" xlink:href=\"#DejaVuSans-32\"/>\n      <use x=\"1798.828125\" xlink:href=\"#DejaVuSans-109\"/>\n      <use x=\"1896.240234\" xlink:href=\"#DejaVuSans-105\"/>\n      <use x=\"1924.023438\" xlink:href=\"#DejaVuSans-108\"/>\n      <use x=\"1951.806641\" xlink:href=\"#DejaVuSans-108\"/>\n      <use x=\"1979.589844\" xlink:href=\"#DejaVuSans-101\"/>\n      <use x=\"2041.113281\" xlink:href=\"#DejaVuSans-110\"/>\n      <use x=\"2104.492188\" xlink:href=\"#DejaVuSans-110\"/>\n      <use x=\"2167.871094\" xlink:href=\"#DejaVuSans-105\"/>\n      <use x=\"2195.654297\" xlink:href=\"#DejaVuSans-97\"/>\n     </g>\n    </g>\n   </g>\n   <g id=\"text_6\">\n    <g clip-path=\"url(#p555a31da01)\">\n     <!-- Londinium -->\n     <g style=\"opacity:0.9;\" transform=\"translate(16.715299 285.420341)scale(0.12 -0.12)\">\n      <defs>\n       <path d=\"M 8.5 21.578125 \nL 8.5 54.6875 \nL 17.484375 54.6875 \nL 17.484375 21.921875 \nQ 17.484375 14.15625 20.5 10.265625 \nQ 23.53125 6.390625 29.59375 6.390625 \nQ 36.859375 6.390625 41.078125 11.03125 \nQ 45.3125 15.671875 45.3125 23.6875 \nL 45.3125 54.6875 \nL 54.296875 54.6875 \nL 54.296875 0 \nL 45.3125 0 \nL 45.3125 8.40625 \nQ 42.046875 3.421875 37.71875 1 \nQ 33.40625 -1.421875 27.6875 -1.421875 \nQ 18.265625 -1.421875 13.375 4.4375 \nQ 8.5 10.296875 8.5 21.578125 \nz\nM 31.109375 56 \nz\n\" id=\"DejaVuSans-117\"/>\n      </defs>\n      <use xlink:href=\"#DejaVuSans-76\"/>\n      <use x=\"53.962891\" xlink:href=\"#DejaVuSans-111\"/>\n      <use x=\"115.144531\" xlink:href=\"#DejaVuSans-110\"/>\n      <use x=\"178.523438\" xlink:href=\"#DejaVuSans-100\"/>\n      <use x=\"242\" xlink:href=\"#DejaVuSans-105\"/>\n      <use x=\"269.783203\" xlink:href=\"#DejaVuSans-110\"/>\n      <use x=\"333.162109\" xlink:href=\"#DejaVuSans-105\"/>\n      <use x=\"360.945312\" xlink:href=\"#DejaVuSans-117\"/>\n      <use x=\"424.324219\" xlink:href=\"#DejaVuSans-109\"/>\n     </g>\n    </g>\n   </g>\n   <g id=\"text_7\">\n    <g clip-path=\"url(#p555a31da01)\">\n     <!-- found by -->\n     <g style=\"opacity:0.9;\" transform=\"translate(19.423891 270.051446)scale(0.12 -0.12)\">\n      <defs>\n       <path d=\"M 37.109375 75.984375 \nL 37.109375 68.5 \nL 28.515625 68.5 \nQ 23.6875 68.5 21.796875 66.546875 \nQ 19.921875 64.59375 19.921875 59.515625 \nL 19.921875 54.6875 \nL 34.71875 54.6875 \nL 34.71875 47.703125 \nL 19.921875 47.703125 \nL 19.921875 0 \nL 10.890625 0 \nL 10.890625 47.703125 \nL 2.296875 47.703125 \nL 2.296875 54.6875 \nL 10.890625 54.6875 \nL 10.890625 58.5 \nQ 10.890625 67.625 15.140625 71.796875 \nQ 19.390625 75.984375 28.609375 75.984375 \nz\n\" id=\"DejaVuSans-102\"/>\n       <path d=\"M 32.171875 -5.078125 \nQ 28.375 -14.84375 24.75 -17.8125 \nQ 21.140625 -20.796875 15.09375 -20.796875 \nL 7.90625 -20.796875 \nL 7.90625 -13.28125 \nL 13.1875 -13.28125 \nQ 16.890625 -13.28125 18.9375 -11.515625 \nQ 21 -9.765625 23.484375 -3.21875 \nL 25.09375 0.875 \nL 2.984375 54.6875 \nL 12.5 54.6875 \nL 29.59375 11.921875 \nL 46.6875 54.6875 \nL 56.203125 54.6875 \nz\n\" id=\"DejaVuSans-121\"/>\n      </defs>\n      <use xlink:href=\"#DejaVuSans-102\"/>\n      <use x=\"35.205078\" xlink:href=\"#DejaVuSans-111\"/>\n      <use x=\"96.386719\" xlink:href=\"#DejaVuSans-117\"/>\n      <use x=\"159.765625\" xlink:href=\"#DejaVuSans-110\"/>\n      <use x=\"223.144531\" xlink:href=\"#DejaVuSans-100\"/>\n      <use x=\"286.621094\" xlink:href=\"#DejaVuSans-32\"/>\n      <use x=\"318.408203\" xlink:href=\"#DejaVuSans-98\"/>\n      <use x=\"381.884766\" xlink:href=\"#DejaVuSans-121\"/>\n     </g>\n    </g>\n   </g>\n   <g id=\"text_8\">\n    <g clip-path=\"url(#p555a31da01)\">\n     <!-- Romans -->\n     <g style=\"opacity:0.9;\" transform=\"translate(2.816676 259.601044)scale(0.12 -0.12)\">\n      <defs>\n       <path d=\"M 44.390625 34.1875 \nQ 47.5625 33.109375 50.5625 29.59375 \nQ 53.5625 26.078125 56.59375 19.921875 \nL 66.609375 0 \nL 56 0 \nL 46.6875 18.703125 \nQ 43.0625 26.03125 39.671875 28.421875 \nQ 36.28125 30.8125 30.421875 30.8125 \nL 19.671875 30.8125 \nL 19.671875 0 \nL 9.8125 0 \nL 9.8125 72.90625 \nL 32.078125 72.90625 \nQ 44.578125 72.90625 50.734375 67.671875 \nQ 56.890625 62.453125 56.890625 51.90625 \nQ 56.890625 45.015625 53.6875 40.46875 \nQ 50.484375 35.9375 44.390625 34.1875 \nz\nM 19.671875 64.796875 \nL 19.671875 38.921875 \nL 32.078125 38.921875 \nQ 39.203125 38.921875 42.84375 42.21875 \nQ 46.484375 45.515625 46.484375 51.90625 \nQ 46.484375 58.296875 42.84375 61.546875 \nQ 39.203125 64.796875 32.078125 64.796875 \nz\n\" id=\"DejaVuSans-82\"/>\n      </defs>\n      <use xlink:href=\"#DejaVuSans-82\"/>\n      <use x=\"64.982422\" xlink:href=\"#DejaVuSans-111\"/>\n      <use x=\"126.164062\" xlink:href=\"#DejaVuSans-109\"/>\n      <use x=\"223.576172\" xlink:href=\"#DejaVuSans-97\"/>\n      <use x=\"284.855469\" xlink:href=\"#DejaVuSans-110\"/>\n      <use x=\"348.234375\" xlink:href=\"#DejaVuSans-115\"/>\n     </g>\n    </g>\n   </g>\n   <g id=\"text_9\">\n    <g clip-path=\"url(#p555a31da01)\">\n     <!-- City that -->\n     <g style=\"opacity:0.9;\" transform=\"translate(393.713011 243.292776)scale(0.12 -0.12)\">\n      <defs>\n       <path d=\"M 64.40625 67.28125 \nL 64.40625 56.890625 \nQ 59.421875 61.53125 53.78125 63.8125 \nQ 48.140625 66.109375 41.796875 66.109375 \nQ 29.296875 66.109375 22.65625 58.46875 \nQ 16.015625 50.828125 16.015625 36.375 \nQ 16.015625 21.96875 22.65625 14.328125 \nQ 29.296875 6.6875 41.796875 6.6875 \nQ 48.140625 6.6875 53.78125 8.984375 \nQ 59.421875 11.28125 64.40625 15.921875 \nL 64.40625 5.609375 \nQ 59.234375 2.09375 53.4375 0.328125 \nQ 47.65625 -1.421875 41.21875 -1.421875 \nQ 24.65625 -1.421875 15.125 8.703125 \nQ 5.609375 18.84375 5.609375 36.375 \nQ 5.609375 53.953125 15.125 64.078125 \nQ 24.65625 74.21875 41.21875 74.21875 \nQ 47.75 74.21875 53.53125 72.484375 \nQ 59.328125 70.75 64.40625 67.28125 \nz\n\" id=\"DejaVuSans-67\"/>\n      </defs>\n      <use xlink:href=\"#DejaVuSans-67\"/>\n      <use x=\"69.824219\" xlink:href=\"#DejaVuSans-105\"/>\n      <use x=\"97.607422\" xlink:href=\"#DejaVuSans-116\"/>\n      <use x=\"136.816406\" xlink:href=\"#DejaVuSans-121\"/>\n      <use x=\"195.996094\" xlink:href=\"#DejaVuSans-32\"/>\n      <use x=\"227.783203\" xlink:href=\"#DejaVuSans-116\"/>\n      <use x=\"266.992188\" xlink:href=\"#DejaVuSans-104\"/>\n      <use x=\"330.371094\" xlink:href=\"#DejaVuSans-97\"/>\n      <use x=\"391.650391\" xlink:href=\"#DejaVuSans-116\"/>\n     </g>\n    </g>\n   </g>\n   <g id=\"text_10\">\n    <g clip-path=\"url(#p555a31da01)\">\n     <!-- ancient square retain medieval -->\n     <g style=\"opacity:0.9;\" transform=\"translate(296.767769 246.462142)scale(0.12 -0.12)\">\n      <defs>\n       <path d=\"M 14.796875 27.296875 \nQ 14.796875 17.390625 18.875 11.75 \nQ 22.953125 6.109375 30.078125 6.109375 \nQ 37.203125 6.109375 41.296875 11.75 \nQ 45.40625 17.390625 45.40625 27.296875 \nQ 45.40625 37.203125 41.296875 42.84375 \nQ 37.203125 48.484375 30.078125 48.484375 \nQ 22.953125 48.484375 18.875 42.84375 \nQ 14.796875 37.203125 14.796875 27.296875 \nz\nM 45.40625 8.203125 \nQ 42.578125 3.328125 38.25 0.953125 \nQ 33.9375 -1.421875 27.875 -1.421875 \nQ 17.96875 -1.421875 11.734375 6.484375 \nQ 5.515625 14.40625 5.515625 27.296875 \nQ 5.515625 40.1875 11.734375 48.09375 \nQ 17.96875 56 27.875 56 \nQ 33.9375 56 38.25 53.625 \nQ 42.578125 51.265625 45.40625 46.390625 \nL 45.40625 54.6875 \nL 54.390625 54.6875 \nL 54.390625 -20.796875 \nL 45.40625 -20.796875 \nz\n\" id=\"DejaVuSans-113\"/>\n       <path d=\"M 2.984375 54.6875 \nL 12.5 54.6875 \nL 29.59375 8.796875 \nL 46.6875 54.6875 \nL 56.203125 54.6875 \nL 35.6875 0 \nL 23.484375 0 \nz\n\" id=\"DejaVuSans-118\"/>\n      </defs>\n      <use xlink:href=\"#DejaVuSans-97\"/>\n      <use x=\"61.279297\" xlink:href=\"#DejaVuSans-110\"/>\n      <use x=\"124.658203\" xlink:href=\"#DejaVuSans-99\"/>\n      <use x=\"179.638672\" xlink:href=\"#DejaVuSans-105\"/>\n      <use x=\"207.421875\" xlink:href=\"#DejaVuSans-101\"/>\n      <use x=\"268.945312\" xlink:href=\"#DejaVuSans-110\"/>\n      <use x=\"332.324219\" xlink:href=\"#DejaVuSans-116\"/>\n      <use x=\"371.533203\" xlink:href=\"#DejaVuSans-32\"/>\n      <use x=\"403.320312\" xlink:href=\"#DejaVuSans-115\"/>\n      <use x=\"455.419922\" xlink:href=\"#DejaVuSans-113\"/>\n      <use x=\"518.896484\" xlink:href=\"#DejaVuSans-117\"/>\n      <use x=\"582.275391\" xlink:href=\"#DejaVuSans-97\"/>\n      <use x=\"643.554688\" xlink:href=\"#DejaVuSans-114\"/>\n      <use x=\"682.417969\" xlink:href=\"#DejaVuSans-101\"/>\n      <use x=\"743.941406\" xlink:href=\"#DejaVuSans-32\"/>\n      <use x=\"775.728516\" xlink:href=\"#DejaVuSans-114\"/>\n      <use x=\"814.591797\" xlink:href=\"#DejaVuSans-101\"/>\n      <use x=\"876.115234\" xlink:href=\"#DejaVuSans-116\"/>\n      <use x=\"915.324219\" xlink:href=\"#DejaVuSans-97\"/>\n      <use x=\"976.603516\" xlink:href=\"#DejaVuSans-105\"/>\n      <use x=\"1004.386719\" xlink:href=\"#DejaVuSans-110\"/>\n      <use x=\"1067.765625\" xlink:href=\"#DejaVuSans-32\"/>\n      <use x=\"1099.552734\" xlink:href=\"#DejaVuSans-109\"/>\n      <use x=\"1196.964844\" xlink:href=\"#DejaVuSans-101\"/>\n      <use x=\"1258.488281\" xlink:href=\"#DejaVuSans-100\"/>\n      <use x=\"1321.964844\" xlink:href=\"#DejaVuSans-105\"/>\n      <use x=\"1349.748047\" xlink:href=\"#DejaVuSans-101\"/>\n      <use x=\"1411.271484\" xlink:href=\"#DejaVuSans-118\"/>\n      <use x=\"1470.451172\" xlink:href=\"#DejaVuSans-97\"/>\n      <use x=\"1531.730469\" xlink:href=\"#DejaVuSans-108\"/>\n     </g>\n    </g>\n   </g>\n   <g id=\"text_11\">\n    <g clip-path=\"url(#p555a31da01)\">\n     <!-- London miles − boundaries limits -->\n     <g style=\"opacity:0.9;\" transform=\"translate(299.934479 263.177976)scale(0.12 -0.12)\">\n      <defs>\n       <path d=\"M 10.59375 35.5 \nL 73.1875 35.5 \nL 73.1875 27.203125 \nL 10.59375 27.203125 \nz\n\" id=\"DejaVuSans-8722\"/>\n      </defs>\n      <use xlink:href=\"#DejaVuSans-76\"/>\n      <use x=\"53.962891\" xlink:href=\"#DejaVuSans-111\"/>\n      <use x=\"115.144531\" xlink:href=\"#DejaVuSans-110\"/>\n      <use x=\"178.523438\" xlink:href=\"#DejaVuSans-100\"/>\n      <use x=\"242\" xlink:href=\"#DejaVuSans-111\"/>\n      <use x=\"303.181641\" xlink:href=\"#DejaVuSans-110\"/>\n      <use x=\"366.560547\" xlink:href=\"#DejaVuSans-32\"/>\n      <use x=\"398.347656\" xlink:href=\"#DejaVuSans-109\"/>\n      <use x=\"495.759766\" xlink:href=\"#DejaVuSans-105\"/>\n      <use x=\"523.542969\" xlink:href=\"#DejaVuSans-108\"/>\n      <use x=\"551.326172\" xlink:href=\"#DejaVuSans-101\"/>\n      <use x=\"612.849609\" xlink:href=\"#DejaVuSans-115\"/>\n      <use x=\"664.949219\" xlink:href=\"#DejaVuSans-32\"/>\n      <use x=\"696.736328\" xlink:href=\"#DejaVuSans-8722\"/>\n      <use x=\"780.525391\" xlink:href=\"#DejaVuSans-32\"/>\n      <use x=\"812.3125\" xlink:href=\"#DejaVuSans-98\"/>\n      <use x=\"875.789062\" xlink:href=\"#DejaVuSans-111\"/>\n      <use x=\"936.970703\" xlink:href=\"#DejaVuSans-117\"/>\n      <use x=\"1000.349609\" xlink:href=\"#DejaVuSans-110\"/>\n      <use x=\"1063.728516\" xlink:href=\"#DejaVuSans-100\"/>\n      <use x=\"1127.205078\" xlink:href=\"#DejaVuSans-97\"/>\n      <use x=\"1188.484375\" xlink:href=\"#DejaVuSans-114\"/>\n      <use x=\"1229.597656\" xlink:href=\"#DejaVuSans-105\"/>\n      <use x=\"1257.380859\" xlink:href=\"#DejaVuSans-101\"/>\n      <use x=\"1318.904297\" xlink:href=\"#DejaVuSans-115\"/>\n      <use x=\"1371.003906\" xlink:href=\"#DejaVuSans-32\"/>\n      <use x=\"1402.791016\" xlink:href=\"#DejaVuSans-108\"/>\n      <use x=\"1430.574219\" xlink:href=\"#DejaVuSans-105\"/>\n      <use x=\"1458.357422\" xlink:href=\"#DejaVuSans-109\"/>\n      <use x=\"1555.769531\" xlink:href=\"#DejaVuSans-105\"/>\n      <use x=\"1583.552734\" xlink:href=\"#DejaVuSans-116\"/>\n      <use x=\"1622.761719\" xlink:href=\"#DejaVuSans-115\"/>\n     </g>\n    </g>\n   </g>\n   <g id=\"text_12\">\n    <g clip-path=\"url(#p555a31da01)\">\n     <!-- City -->\n     <g style=\"opacity:0.9;\" transform=\"translate(258.289629 23.602159)scale(0.12 -0.12)\">\n      <use xlink:href=\"#DejaVuSans-67\"/>\n      <use x=\"69.824219\" xlink:href=\"#DejaVuSans-105\"/>\n      <use x=\"97.607422\" xlink:href=\"#DejaVuSans-116\"/>\n      <use x=\"136.816406\" xlink:href=\"#DejaVuSans-121\"/>\n     </g>\n    </g>\n   </g>\n   <g id=\"text_13\">\n    <g clip-path=\"url(#p555a31da01)\">\n     <!-- be hold status -->\n     <g style=\"opacity:0.9;\" transform=\"translate(211.328744 42.138731)scale(0.12 -0.12)\">\n      <use xlink:href=\"#DejaVuSans-98\"/>\n      <use x=\"63.476562\" xlink:href=\"#DejaVuSans-101\"/>\n      <use x=\"125\" xlink:href=\"#DejaVuSans-32\"/>\n      <use x=\"156.787109\" xlink:href=\"#DejaVuSans-104\"/>\n      <use x=\"220.166016\" xlink:href=\"#DejaVuSans-111\"/>\n      <use x=\"281.347656\" xlink:href=\"#DejaVuSans-108\"/>\n      <use x=\"309.130859\" xlink:href=\"#DejaVuSans-100\"/>\n      <use x=\"372.607422\" xlink:href=\"#DejaVuSans-32\"/>\n      <use x=\"404.394531\" xlink:href=\"#DejaVuSans-115\"/>\n      <use x=\"456.494141\" xlink:href=\"#DejaVuSans-116\"/>\n      <use x=\"495.703125\" xlink:href=\"#DejaVuSans-97\"/>\n      <use x=\"556.982422\" xlink:href=\"#DejaVuSans-116\"/>\n      <use x=\"596.191406\" xlink:href=\"#DejaVuSans-117\"/>\n      <use x=\"659.570312\" xlink:href=\"#DejaVuSans-115\"/>\n     </g>\n    </g>\n   </g>\n   <g id=\"text_14\">\n    <g clip-path=\"url(#p555a31da01)\">\n     <!-- Westminster -->\n     <g style=\"opacity:0.9;\" transform=\"translate(195.439688 66.019514)scale(0.12 -0.12)\">\n      <defs>\n       <path d=\"M 3.328125 72.90625 \nL 13.28125 72.90625 \nL 28.609375 11.28125 \nL 43.890625 72.90625 \nL 54.984375 72.90625 \nL 70.3125 11.28125 \nL 85.59375 72.90625 \nL 95.609375 72.90625 \nL 77.296875 0 \nL 64.890625 0 \nL 49.515625 63.28125 \nL 33.984375 0 \nL 21.578125 0 \nz\n\" id=\"DejaVuSans-87\"/>\n      </defs>\n      <use xlink:href=\"#DejaVuSans-87\"/>\n      <use x=\"93.001953\" xlink:href=\"#DejaVuSans-101\"/>\n      <use x=\"154.525391\" xlink:href=\"#DejaVuSans-115\"/>\n      <use x=\"206.625\" xlink:href=\"#DejaVuSans-116\"/>\n      <use x=\"245.833984\" xlink:href=\"#DejaVuSans-109\"/>\n      <use x=\"343.246094\" xlink:href=\"#DejaVuSans-105\"/>\n      <use x=\"371.029297\" xlink:href=\"#DejaVuSans-110\"/>\n      <use x=\"434.408203\" xlink:href=\"#DejaVuSans-115\"/>\n      <use x=\"486.507812\" xlink:href=\"#DejaVuSans-116\"/>\n      <use x=\"525.716797\" xlink:href=\"#DejaVuSans-101\"/>\n      <use x=\"587.240234\" xlink:href=\"#DejaVuSans-114\"/>\n     </g>\n    </g>\n   </g>\n   <g id=\"text_15\">\n    <g clip-path=\"url(#p555a31da01)\">\n     <!-- govern by -->\n     <g style=\"opacity:0.9;\" transform=\"translate(117.670073 86.222759)scale(0.12 -0.12)\">\n      <use xlink:href=\"#DejaVuSans-103\"/>\n      <use x=\"63.476562\" xlink:href=\"#DejaVuSans-111\"/>\n      <use x=\"124.658203\" xlink:href=\"#DejaVuSans-118\"/>\n      <use x=\"183.837891\" xlink:href=\"#DejaVuSans-101\"/>\n      <use x=\"245.361328\" xlink:href=\"#DejaVuSans-114\"/>\n      <use x=\"284.724609\" xlink:href=\"#DejaVuSans-110\"/>\n      <use x=\"348.103516\" xlink:href=\"#DejaVuSans-32\"/>\n      <use x=\"379.890625\" xlink:href=\"#DejaVuSans-98\"/>\n      <use x=\"443.367188\" xlink:href=\"#DejaVuSans-121\"/>\n     </g>\n    </g>\n   </g>\n   <g id=\"text_16\">\n    <g clip-path=\"url(#p555a31da01)\">\n     <!-- Mayor London -->\n     <g style=\"opacity:0.9;\" transform=\"translate(83.066089 68.898621)scale(0.12 -0.12)\">\n      <defs>\n       <path d=\"M 9.8125 72.90625 \nL 24.515625 72.90625 \nL 43.109375 23.296875 \nL 61.8125 72.90625 \nL 76.515625 72.90625 \nL 76.515625 0 \nL 66.890625 0 \nL 66.890625 64.015625 \nL 48.09375 14.015625 \nL 38.1875 14.015625 \nL 19.390625 64.015625 \nL 19.390625 0 \nL 9.8125 0 \nz\n\" id=\"DejaVuSans-77\"/>\n      </defs>\n      <use xlink:href=\"#DejaVuSans-77\"/>\n      <use x=\"86.279297\" xlink:href=\"#DejaVuSans-97\"/>\n      <use x=\"147.558594\" xlink:href=\"#DejaVuSans-121\"/>\n      <use x=\"206.738281\" xlink:href=\"#DejaVuSans-111\"/>\n      <use x=\"267.919922\" xlink:href=\"#DejaVuSans-114\"/>\n      <use x=\"309.033203\" xlink:href=\"#DejaVuSans-32\"/>\n      <use x=\"340.820312\" xlink:href=\"#DejaVuSans-76\"/>\n      <use x=\"394.783203\" xlink:href=\"#DejaVuSans-111\"/>\n      <use x=\"455.964844\" xlink:href=\"#DejaVuSans-110\"/>\n      <use x=\"519.34375\" xlink:href=\"#DejaVuSans-100\"/>\n      <use x=\"582.820312\" xlink:href=\"#DejaVuSans-111\"/>\n      <use x=\"644.001953\" xlink:href=\"#DejaVuSans-110\"/>\n     </g>\n    </g>\n   </g>\n   <g id=\"text_17\">\n    <g clip-path=\"url(#p555a31da01)\">\n     <!-- locate -->\n     <g style=\"opacity:0.9;\" transform=\"translate(190.045414 92.738739)scale(0.12 -0.12)\">\n      <use xlink:href=\"#DejaVuSans-108\"/>\n      <use x=\"27.783203\" xlink:href=\"#DejaVuSans-111\"/>\n      <use x=\"88.964844\" xlink:href=\"#DejaVuSans-99\"/>\n      <use x=\"143.945312\" xlink:href=\"#DejaVuSans-97\"/>\n      <use x=\"205.224609\" xlink:href=\"#DejaVuSans-116\"/>\n      <use x=\"244.433594\" xlink:href=\"#DejaVuSans-101\"/>\n     </g>\n    </g>\n   </g>\n   <g id=\"text_18\">\n    <g clip-path=\"url(#p555a31da01)\">\n     <!-- southeast England -->\n     <g style=\"opacity:0.9;\" transform=\"translate(148.963863 115.488332)scale(0.12 -0.12)\">\n      <use xlink:href=\"#DejaVuSans-115\"/>\n      <use x=\"52.099609\" xlink:href=\"#DejaVuSans-111\"/>\n      <use x=\"113.28125\" xlink:href=\"#DejaVuSans-117\"/>\n      <use x=\"176.660156\" xlink:href=\"#DejaVuSans-116\"/>\n      <use x=\"215.869141\" xlink:href=\"#DejaVuSans-104\"/>\n      <use x=\"279.248047\" xlink:href=\"#DejaVuSans-101\"/>\n      <use x=\"340.771484\" xlink:href=\"#DejaVuSans-97\"/>\n      <use x=\"402.050781\" xlink:href=\"#DejaVuSans-115\"/>\n      <use x=\"454.150391\" xlink:href=\"#DejaVuSans-116\"/>\n      <use x=\"493.359375\" xlink:href=\"#DejaVuSans-32\"/>\n      <use x=\"525.146484\" xlink:href=\"#DejaVuSans-69\"/>\n      <use x=\"588.330078\" xlink:href=\"#DejaVuSans-110\"/>\n      <use x=\"651.708984\" xlink:href=\"#DejaVuSans-103\"/>\n      <use x=\"715.185547\" xlink:href=\"#DejaVuSans-108\"/>\n      <use x=\"742.96875\" xlink:href=\"#DejaVuSans-97\"/>\n      <use x=\"804.248047\" xlink:href=\"#DejaVuSans-110\"/>\n      <use x=\"867.626953\" xlink:href=\"#DejaVuSans-100\"/>\n     </g>\n    </g>\n   </g>\n   <g id=\"text_19\">\n    <g clip-path=\"url(#p555a31da01)\">\n     <!-- be big city -->\n     <g style=\"opacity:0.9;\" transform=\"translate(199.156242 105.491183)scale(0.12 -0.12)\">\n      <use xlink:href=\"#DejaVuSans-98\"/>\n      <use x=\"63.476562\" xlink:href=\"#DejaVuSans-101\"/>\n      <use x=\"125\" xlink:href=\"#DejaVuSans-32\"/>\n      <use x=\"156.787109\" xlink:href=\"#DejaVuSans-98\"/>\n      <use x=\"220.263672\" xlink:href=\"#DejaVuSans-105\"/>\n      <use x=\"248.046875\" xlink:href=\"#DejaVuSans-103\"/>\n      <use x=\"311.523438\" xlink:href=\"#DejaVuSans-32\"/>\n      <use x=\"343.310547\" xlink:href=\"#DejaVuSans-99\"/>\n      <use x=\"398.291016\" xlink:href=\"#DejaVuSans-105\"/>\n      <use x=\"426.074219\" xlink:href=\"#DejaVuSans-116\"/>\n      <use x=\"465.283203\" xlink:href=\"#DejaVuSans-121\"/>\n     </g>\n    </g>\n   </g>\n   <g id=\"text_20\">\n    <g clip-path=\"url(#p555a31da01)\">\n     <!-- Britain -->\n     <g style=\"opacity:0.9;\" transform=\"translate(252.997738 102.556847)scale(0.12 -0.12)\">\n      <defs>\n       <path d=\"M 19.671875 34.8125 \nL 19.671875 8.109375 \nL 35.5 8.109375 \nQ 43.453125 8.109375 47.28125 11.40625 \nQ 51.125 14.703125 51.125 21.484375 \nQ 51.125 28.328125 47.28125 31.5625 \nQ 43.453125 34.8125 35.5 34.8125 \nz\nM 19.671875 64.796875 \nL 19.671875 42.828125 \nL 34.28125 42.828125 \nQ 41.5 42.828125 45.03125 45.53125 \nQ 48.578125 48.25 48.578125 53.8125 \nQ 48.578125 59.328125 45.03125 62.0625 \nQ 41.5 64.796875 34.28125 64.796875 \nz\nM 9.8125 72.90625 \nL 35.015625 72.90625 \nQ 46.296875 72.90625 52.390625 68.21875 \nQ 58.5 63.53125 58.5 54.890625 \nQ 58.5 48.1875 55.375 44.234375 \nQ 52.25 40.28125 46.1875 39.3125 \nQ 53.46875 37.75 57.5 32.78125 \nQ 61.53125 27.828125 61.53125 20.40625 \nQ 61.53125 10.640625 54.890625 5.3125 \nQ 48.25 0 35.984375 0 \nL 9.8125 0 \nz\n\" id=\"DejaVuSans-66\"/>\n      </defs>\n      <use xlink:href=\"#DejaVuSans-66\"/>\n      <use x=\"68.603516\" xlink:href=\"#DejaVuSans-114\"/>\n      <use x=\"109.716797\" xlink:href=\"#DejaVuSans-105\"/>\n      <use x=\"137.5\" xlink:href=\"#DejaVuSans-116\"/>\n      <use x=\"176.708984\" xlink:href=\"#DejaVuSans-97\"/>\n      <use x=\"237.988281\" xlink:href=\"#DejaVuSans-105\"/>\n      <use x=\"265.771484\" xlink:href=\"#DejaVuSans-110\"/>\n     </g>\n    </g>\n   </g>\n   <g id=\"text_21\">\n    <g clip-path=\"url(#p555a31da01)\">\n     <!-- have -->\n     <g style=\"opacity:0.9;\" transform=\"translate(108.460453 105.624153)scale(0.12 -0.12)\">\n      <use xlink:href=\"#DejaVuSans-104\"/>\n      <use x=\"63.378906\" xlink:href=\"#DejaVuSans-97\"/>\n      <use x=\"124.658203\" xlink:href=\"#DejaVuSans-118\"/>\n      <use x=\"183.837891\" xlink:href=\"#DejaVuSans-101\"/>\n     </g>\n    </g>\n   </g>\n   <g id=\"text_22\">\n    <g clip-path=\"url(#p555a31da01)\">\n     <!-- population 7,172,036 -->\n     <g style=\"opacity:0.9;\" transform=\"translate(18.009385 102.219365)scale(0.12 -0.12)\">\n      <defs>\n       <path d=\"M 8.203125 72.90625 \nL 55.078125 72.90625 \nL 55.078125 68.703125 \nL 28.609375 0 \nL 18.3125 0 \nL 43.21875 64.59375 \nL 8.203125 64.59375 \nz\n\" id=\"DejaVuSans-55\"/>\n       <path d=\"M 11.71875 12.40625 \nL 22.015625 12.40625 \nL 22.015625 4 \nL 14.015625 -11.625 \nL 7.71875 -11.625 \nL 11.71875 4 \nz\n\" id=\"DejaVuSans-44\"/>\n       <path d=\"M 12.40625 8.296875 \nL 28.515625 8.296875 \nL 28.515625 63.921875 \nL 10.984375 60.40625 \nL 10.984375 69.390625 \nL 28.421875 72.90625 \nL 38.28125 72.90625 \nL 38.28125 8.296875 \nL 54.390625 8.296875 \nL 54.390625 0 \nL 12.40625 0 \nz\n\" id=\"DejaVuSans-49\"/>\n       <path d=\"M 19.1875 8.296875 \nL 53.609375 8.296875 \nL 53.609375 0 \nL 7.328125 0 \nL 7.328125 8.296875 \nQ 12.9375 14.109375 22.625 23.890625 \nQ 32.328125 33.6875 34.8125 36.53125 \nQ 39.546875 41.84375 41.421875 45.53125 \nQ 43.3125 49.21875 43.3125 52.78125 \nQ 43.3125 58.59375 39.234375 62.25 \nQ 35.15625 65.921875 28.609375 65.921875 \nQ 23.96875 65.921875 18.8125 64.3125 \nQ 13.671875 62.703125 7.8125 59.421875 \nL 7.8125 69.390625 \nQ 13.765625 71.78125 18.9375 73 \nQ 24.125 74.21875 28.421875 74.21875 \nQ 39.75 74.21875 46.484375 68.546875 \nQ 53.21875 62.890625 53.21875 53.421875 \nQ 53.21875 48.921875 51.53125 44.890625 \nQ 49.859375 40.875 45.40625 35.40625 \nQ 44.1875 33.984375 37.640625 27.21875 \nQ 31.109375 20.453125 19.1875 8.296875 \nz\n\" id=\"DejaVuSans-50\"/>\n       <path d=\"M 31.78125 66.40625 \nQ 24.171875 66.40625 20.328125 58.90625 \nQ 16.5 51.421875 16.5 36.375 \nQ 16.5 21.390625 20.328125 13.890625 \nQ 24.171875 6.390625 31.78125 6.390625 \nQ 39.453125 6.390625 43.28125 13.890625 \nQ 47.125 21.390625 47.125 36.375 \nQ 47.125 51.421875 43.28125 58.90625 \nQ 39.453125 66.40625 31.78125 66.40625 \nz\nM 31.78125 74.21875 \nQ 44.046875 74.21875 50.515625 64.515625 \nQ 56.984375 54.828125 56.984375 36.375 \nQ 56.984375 17.96875 50.515625 8.265625 \nQ 44.046875 -1.421875 31.78125 -1.421875 \nQ 19.53125 -1.421875 13.0625 8.265625 \nQ 6.59375 17.96875 6.59375 36.375 \nQ 6.59375 54.828125 13.0625 64.515625 \nQ 19.53125 74.21875 31.78125 74.21875 \nz\n\" id=\"DejaVuSans-48\"/>\n       <path d=\"M 40.578125 39.3125 \nQ 47.65625 37.796875 51.625 33 \nQ 55.609375 28.21875 55.609375 21.1875 \nQ 55.609375 10.40625 48.1875 4.484375 \nQ 40.765625 -1.421875 27.09375 -1.421875 \nQ 22.515625 -1.421875 17.65625 -0.515625 \nQ 12.796875 0.390625 7.625 2.203125 \nL 7.625 11.71875 \nQ 11.71875 9.328125 16.59375 8.109375 \nQ 21.484375 6.890625 26.8125 6.890625 \nQ 36.078125 6.890625 40.9375 10.546875 \nQ 45.796875 14.203125 45.796875 21.1875 \nQ 45.796875 27.640625 41.28125 31.265625 \nQ 36.765625 34.90625 28.71875 34.90625 \nL 20.21875 34.90625 \nL 20.21875 43.015625 \nL 29.109375 43.015625 \nQ 36.375 43.015625 40.234375 45.921875 \nQ 44.09375 48.828125 44.09375 54.296875 \nQ 44.09375 59.90625 40.109375 62.90625 \nQ 36.140625 65.921875 28.71875 65.921875 \nQ 24.65625 65.921875 20.015625 65.03125 \nQ 15.375 64.15625 9.8125 62.3125 \nL 9.8125 71.09375 \nQ 15.4375 72.65625 20.34375 73.4375 \nQ 25.25 74.21875 29.59375 74.21875 \nQ 40.828125 74.21875 47.359375 69.109375 \nQ 53.90625 64.015625 53.90625 55.328125 \nQ 53.90625 49.265625 50.4375 45.09375 \nQ 46.96875 40.921875 40.578125 39.3125 \nz\n\" id=\"DejaVuSans-51\"/>\n       <path d=\"M 33.015625 40.375 \nQ 26.375 40.375 22.484375 35.828125 \nQ 18.609375 31.296875 18.609375 23.390625 \nQ 18.609375 15.53125 22.484375 10.953125 \nQ 26.375 6.390625 33.015625 6.390625 \nQ 39.65625 6.390625 43.53125 10.953125 \nQ 47.40625 15.53125 47.40625 23.390625 \nQ 47.40625 31.296875 43.53125 35.828125 \nQ 39.65625 40.375 33.015625 40.375 \nz\nM 52.59375 71.296875 \nL 52.59375 62.3125 \nQ 48.875 64.0625 45.09375 64.984375 \nQ 41.3125 65.921875 37.59375 65.921875 \nQ 27.828125 65.921875 22.671875 59.328125 \nQ 17.53125 52.734375 16.796875 39.40625 \nQ 19.671875 43.65625 24.015625 45.921875 \nQ 28.375 48.1875 33.59375 48.1875 \nQ 44.578125 48.1875 50.953125 41.515625 \nQ 57.328125 34.859375 57.328125 23.390625 \nQ 57.328125 12.15625 50.6875 5.359375 \nQ 44.046875 -1.421875 33.015625 -1.421875 \nQ 20.359375 -1.421875 13.671875 8.265625 \nQ 6.984375 17.96875 6.984375 36.375 \nQ 6.984375 53.65625 15.1875 63.9375 \nQ 23.390625 74.21875 37.203125 74.21875 \nQ 40.921875 74.21875 44.703125 73.484375 \nQ 48.484375 72.75 52.59375 71.296875 \nz\n\" id=\"DejaVuSans-54\"/>\n      </defs>\n      <use xlink:href=\"#DejaVuSans-112\"/>\n      <use x=\"63.476562\" xlink:href=\"#DejaVuSans-111\"/>\n      <use x=\"124.658203\" xlink:href=\"#DejaVuSans-112\"/>\n      <use x=\"188.134766\" xlink:href=\"#DejaVuSans-117\"/>\n      <use x=\"251.513672\" xlink:href=\"#DejaVuSans-108\"/>\n      <use x=\"279.296875\" xlink:href=\"#DejaVuSans-97\"/>\n      <use x=\"340.576172\" xlink:href=\"#DejaVuSans-116\"/>\n      <use x=\"379.785156\" xlink:href=\"#DejaVuSans-105\"/>\n      <use x=\"407.568359\" xlink:href=\"#DejaVuSans-111\"/>\n      <use x=\"468.75\" xlink:href=\"#DejaVuSans-110\"/>\n      <use x=\"532.128906\" xlink:href=\"#DejaVuSans-32\"/>\n      <use x=\"563.916016\" xlink:href=\"#DejaVuSans-55\"/>\n      <use x=\"627.539062\" xlink:href=\"#DejaVuSans-44\"/>\n      <use x=\"659.326172\" xlink:href=\"#DejaVuSans-49\"/>\n      <use x=\"722.949219\" xlink:href=\"#DejaVuSans-55\"/>\n      <use x=\"786.572266\" xlink:href=\"#DejaVuSans-50\"/>\n      <use x=\"850.195312\" xlink:href=\"#DejaVuSans-44\"/>\n      <use x=\"881.982422\" xlink:href=\"#DejaVuSans-48\"/>\n      <use x=\"945.605469\" xlink:href=\"#DejaVuSans-51\"/>\n      <use x=\"1009.228516\" xlink:href=\"#DejaVuSans-54\"/>\n     </g>\n    </g>\n   </g>\n  </g>\n </g>\n <defs>\n  <clipPath id=\"p555a31da01\">\n   <rect height=\"288\" width=\"432\" x=\"7.2\" y=\"7.2\"/>\n  </clipPath>\n </defs>\n</svg>\n",
      "image/png": "[encoded data removed]"
     },
     "metadata": {}
    }
   ],
   "source": [
    "\n",
    "import spacy\n",
    "from spacy.lang.en import English\n",
    "import networkx as nx\n",
    "import matplotlib.pyplot as plt\n",
    "# If you created your component with `nlp.create_pipe('name')`: remove nlp.create_pipe and call `nlp.add_pipe('name')` instead.\n",
    "def getSentences(text):\n",
    "    nlp = English()\n",
    "    nlp.add_pipe('sentencizer')\n",
    "    document = nlp(text)\n",
    "    return [sent.text for sent in document.sents]\n",
    "\n",
    "def printToken(token):\n",
    "    print(token.text, \"->\", token.dep_)\n",
    "\n",
    "def appendChunk(original, chunk):\n",
    "    return original + ' ' + chunk\n",
    "\n",
    "def isRelationCandidate(token):\n",
    "    deps = [\"ROOT\", \"adj\", \"attr\", \"agent\", \"amod\"]\n",
    "    return any(subs in token.dep_ for subs in deps)\n",
    "\n",
    "def isConstructionCandidate(token):\n",
    "    deps = [\"compound\", \"prep\", \"conj\", \"mod\"]\n",
    "    return any(subs in token.dep_ for subs in deps)\n",
    "\n",
    "def processSubjectObjectPairs(tokens):\n",
    "    subject = ''\n",
    "    object = ''\n",
    "    relation = ''\n",
    "    subjectConstruction = ''\n",
    "    objectConstruction = ''\n",
    "    for token in tokens:\n",
    "        printToken(token)\n",
    "        if \"punct\" in token.dep_:\n",
    "            continue\n",
    "        if isRelationCandidate(token):\n",
    "            relation = appendChunk(relation, token.lemma_)\n",
    "        if isConstructionCandidate(token):\n",
    "            if subjectConstruction:\n",
    "                subjectConstruction = appendChunk(subjectConstruction, token.text)\n",
    "            if objectConstruction:\n",
    "                objectConstruction = appendChunk(objectConstruction, token.text)\n",
    "        if \"subj\" in token.dep_:\n",
    "            subject = appendChunk(subject, token.text)\n",
    "            subject = appendChunk(subjectConstruction, subject)\n",
    "            subjectConstruction = ''\n",
    "        if \"obj\" in token.dep_:\n",
    "            object = appendChunk(object, token.text)\n",
    "            object = appendChunk(objectConstruction, object)\n",
    "            objectConstruction = ''\n",
    "\n",
    "    print (subject.strip(), \",\", relation.strip(), \",\", object.strip())\n",
    "    return (subject.strip(), relation.strip(), object.strip())\n",
    "\n",
    "def processSentence(sentence):\n",
    "    tokens = nlp_model(sentence)\n",
    "    return processSubjectObjectPairs(tokens)\n",
    "\n",
    "def printGraph(triples):\n",
    "    G = nx.Graph()\n",
    "    for triple in triples:\n",
    "        G.add_node(triple[0])\n",
    "        G.add_node(triple[1])\n",
    "        G.add_node(triple[2])\n",
    "        G.add_edge(triple[0], triple[1])\n",
    "        G.add_edge(triple[1], triple[2])\n",
    "\n",
    "    pos = nx.spring_layout(G)\n",
    "    plt.figure()\n",
    "    nx.draw(G, pos, edge_color='black', width=1, linewidths=1,\n",
    "            node_size=500, node_color='seagreen', alpha=0.9,\n",
    "            labels={node: node for node in G.nodes()})\n",
    "    plt.axis('off')\n",
    "    plt.show()\n",
    "\n",
    "if __name__ == \"__main__\":\n",
    "\n",
    "    text = \"London is the capital and largest city of England and the United Kingdom. Standing on the River \" \\\n",
    "           \"Thames in the south-east of England, at the head of its 50-mile (80 km) estuary leading to \" \\\n",
    "           \"the North Sea, London has been a major settlement for two millennia. \" \\\n",
    "           \"Londinium was founded by the Romans. The City of London, \" \\\n",
    "           \"London's ancient core − an area of just 1.12 square miles (2.9 km2) and colloquially known as \" \\\n",
    "           \"the Square Mile − retains boundaries that follow closely its medieval limits.\" \\\n",
    "           \"The City of Westminster is also an Inner London borough holding city status. \" \\\n",
    "           \"Greater London is governed by the Mayor of London and the London Assembly.\" \\\n",
    "           \"London is located in the southeast of England.\" \\\n",
    "           \"Westminster is located in London.\" \\\n",
    "           \"London is the biggest city in Britain. London has a population of 7,172,036.\"\n",
    "\n",
    "    sentences = getSentences(text)\n",
    "    nlp_model = spacy.load('en_core_web_sm')\n",
    "\n",
    "    triples = []\n",
    "    print (text)\n",
    "    for sentence in sentences:\n",
    "        triples.append(processSentence(sentence))\n",
    "\n",
    "    printGraph(triples)"
   ]
  },
  {
   "cell_type": "code",
   "execution_count": 29,
   "metadata": {},
   "outputs": [
    {
     "output_type": "error",
     "ename": "AttributeError",
     "evalue": "'str' object has no attribute 'text'",
     "traceback": [
      "\u001b[0;31m---------------------------------------------------------------------------\u001b[0m",
      "\u001b[0;31mAttributeError\u001b[0m                            Traceback (most recent call last)",
      "\u001b[0;32m<ipython-input-29-c9b1b93ec749>\u001b[0m in \u001b[0;36m<module>\u001b[0;34m\u001b[0m\n\u001b[0;32m----> 1\u001b[0;31m \u001b[0mprocessSubjectObjectPairs\u001b[0m\u001b[0;34m(\u001b[0m\u001b[0;34m\"London is the capital and largest city of England and the United Kingdom.\"\u001b[0m\u001b[0;34m)\u001b[0m\u001b[0;34m\u001b[0m\u001b[0;34m\u001b[0m\u001b[0m\n\u001b[0m",
      "\u001b[0;32m<ipython-input-28-cfe8871fe350>\u001b[0m in \u001b[0;36mprocessSubjectObjectPairs\u001b[0;34m(tokens)\u001b[0m\n\u001b[1;32m     31\u001b[0m     \u001b[0mobjectConstruction\u001b[0m \u001b[0;34m=\u001b[0m \u001b[0;34m''\u001b[0m\u001b[0;34m\u001b[0m\u001b[0;34m\u001b[0m\u001b[0m\n\u001b[1;32m     32\u001b[0m     \u001b[0;32mfor\u001b[0m \u001b[0mtoken\u001b[0m \u001b[0;32min\u001b[0m \u001b[0mtokens\u001b[0m\u001b[0;34m:\u001b[0m\u001b[0;34m\u001b[0m\u001b[0;34m\u001b[0m\u001b[0m\n\u001b[0;32m---> 33\u001b[0;31m         \u001b[0mprintToken\u001b[0m\u001b[0;34m(\u001b[0m\u001b[0mtoken\u001b[0m\u001b[0;34m)\u001b[0m\u001b[0;34m\u001b[0m\u001b[0;34m\u001b[0m\u001b[0m\n\u001b[0m\u001b[1;32m     34\u001b[0m         \u001b[0;32mif\u001b[0m \u001b[0;34m\"punct\"\u001b[0m \u001b[0;32min\u001b[0m \u001b[0mtoken\u001b[0m\u001b[0;34m.\u001b[0m\u001b[0mdep_\u001b[0m\u001b[0;34m:\u001b[0m\u001b[0;34m\u001b[0m\u001b[0;34m\u001b[0m\u001b[0m\n\u001b[1;32m     35\u001b[0m             \u001b[0;32mcontinue\u001b[0m\u001b[0;34m\u001b[0m\u001b[0;34m\u001b[0m\u001b[0m\n",
      "\u001b[0;32m<ipython-input-28-cfe8871fe350>\u001b[0m in \u001b[0;36mprintToken\u001b[0;34m(token)\u001b[0m\n\u001b[1;32m     11\u001b[0m \u001b[0;34m\u001b[0m\u001b[0m\n\u001b[1;32m     12\u001b[0m \u001b[0;32mdef\u001b[0m \u001b[0mprintToken\u001b[0m\u001b[0;34m(\u001b[0m\u001b[0mtoken\u001b[0m\u001b[0;34m)\u001b[0m\u001b[0;34m:\u001b[0m\u001b[0;34m\u001b[0m\u001b[0;34m\u001b[0m\u001b[0m\n\u001b[0;32m---> 13\u001b[0;31m     \u001b[0mprint\u001b[0m\u001b[0;34m(\u001b[0m\u001b[0mtoken\u001b[0m\u001b[0;34m.\u001b[0m\u001b[0mtext\u001b[0m\u001b[0;34m,\u001b[0m \u001b[0;34m\"->\"\u001b[0m\u001b[0;34m,\u001b[0m \u001b[0mtoken\u001b[0m\u001b[0;34m.\u001b[0m\u001b[0mdep_\u001b[0m\u001b[0;34m)\u001b[0m\u001b[0;34m\u001b[0m\u001b[0;34m\u001b[0m\u001b[0m\n\u001b[0m\u001b[1;32m     14\u001b[0m \u001b[0;34m\u001b[0m\u001b[0m\n\u001b[1;32m     15\u001b[0m \u001b[0;32mdef\u001b[0m \u001b[0mappendChunk\u001b[0m\u001b[0;34m(\u001b[0m\u001b[0moriginal\u001b[0m\u001b[0;34m,\u001b[0m \u001b[0mchunk\u001b[0m\u001b[0;34m)\u001b[0m\u001b[0;34m:\u001b[0m\u001b[0;34m\u001b[0m\u001b[0;34m\u001b[0m\u001b[0m\n",
      "\u001b[0;31mAttributeError\u001b[0m: 'str' object has no attribute 'text'"
     ]
    }
   ],
   "source": []
  },
  {
   "cell_type": "code",
   "execution_count": 13,
   "metadata": {},
   "outputs": [
    {
     "output_type": "execute_result",
     "data": {
      "text/plain": [
       "('engineer', 'energy')"
      ]
     },
     "metadata": {},
     "execution_count": 13
    }
   ],
   "source": [
    "subtree_matcher(nlp(candidate_sentences['sentence'][0]))"
   ]
  },
  {
   "cell_type": "code",
   "execution_count": 8,
   "metadata": {},
   "outputs": [
    {
     "output_type": "stream",
     "name": "stdout",
     "text": [
      "(563, 1)\n248    Syd was concerned because the United States ha...\n123    The computer science department at Gordmont is...\n155    The genie was very excited and wanted to begin...\n238    The race began and the students rushed into th...\n460    He also realizes that during the drought perio...\nName: sentence, dtype: object\nAt the same time, the lake was fed by water from various belts, so that also during drought periods it was sufficiency that the fed.\n"
     ]
    }
   ],
   "source": [
    "path_to_csv = \"/Users/awenc/NUIM/CS440/KG_NLPSystem/data/sentences.csv\"\n",
    "candidate_sentences = pd.read_csv(path_to_csv)\n",
    "print(candidate_sentences.shape)\n",
    "print(candidate_sentences['sentence'].sample(5))\n",
    "print(candidate_sentences['sentence'][6])"
   ]
  },
  {
   "cell_type": "code",
   "execution_count": 3,
   "metadata": {},
   "outputs": [],
   "source": [
    "# nlp = spacy.load(\"en_core_sci_sm\")\n",
    "\n",
    "nlp =spacy.load(\"en_core_web_sm\")"
   ]
  },
  {
   "cell_type": "code",
   "execution_count": 49,
   "metadata": {},
   "outputs": [],
   "source": [
    "# nlpSci = spacy.load(\"en_core_sci_sm\")\n",
    "# nlpSci.add_pipe(nlp.create_pipe('sentencizer'))\n",
    "# doc = nlpSci(text)\n",
    "\n",
    "from data import *\n",
    "text = biosci01\n",
    "doc = nlp(text)\n",
    "sent01=candidate_sentences['sentence'][0]\n",
    "sent09=candidate_sentences['sentence'][8]"
   ]
  },
  {
   "cell_type": "code",
   "execution_count": 50,
   "metadata": {},
   "outputs": [
    {
     "output_type": "execute_result",
     "data": {
      "text/plain": [
       "'This era has clearly left its mark on the faculty.'"
      ]
     },
     "metadata": {},
     "execution_count": 50
    }
   ],
   "source": [
    "sent01\n",
    "sent09"
   ]
  },
  {
   "cell_type": "code",
   "execution_count": null,
   "metadata": {},
   "outputs": [],
   "source": [
    "# Matcher class object\n",
    "matcher = Matcher(nlp.vocab)\n",
    "\n",
    "#define the pattern\n",
    "pattern = [{'DEP':'amod', 'OP':\"?\"}, # adjectival modifier\n",
    "           {'POS':'NOUN'},\n",
    "           {'LOWER': 'such'},\n",
    "           {'LOWER': 'as'},\n",
    "           {'POS': 'PROPN'}]\n",
    "\n",
    "matcher.add(\"matching_1\", [pattern])\n",
    "matches = matcher(doc)\n",
    "\n",
    "span = doc[matches[0][1]:matches[0][2]]\n",
    "print(span.text)"
   ]
  },
  {
   "cell_type": "code",
   "execution_count": 52,
   "metadata": {
    "tags": [
     "outputPrepend"
    ]
   },
   "outputs": [
    {
     "output_type": "stream",
     "name": "stdout",
     "text": [
      ", Theme I:\nRonnie thought she had it made because she thought she had done well in the audition for a keyboard player.\nRonnie went to the music store, played some electric organs, and then purchased one.\nLater she got a message from the guitar player about playing keyboards.\nShe wasn't in a band.\nRonnie was depressed that she had run up her credit card.\nSet B, Theme 2:\nCindy was upset that she had blown her savings.\nShe wasn't employed.\nCindy was really happy about her tryout as dancer for a new musical.\nThat night she met the director about the dancer position.\nCindy got over to some stores, searched for, and bought some leotards.\nShe believed her troubles were over.\nThe computer science department at Gordmont is widely acknowledged to be one of the finest groups of its kind in the world.\nRecently, the department has begun to attract research funding from both federal granting agencies and private research foundations.\nCurrently, the department is one of the best funded departments on campus.\nDespite the focus on research, the faculty have bonded together in a spirit of social activism.\nThe members of the department often organize campus wide events like a recycling awareness day.\nFused Light bulb insufficient intensity\n�\nUltrasound\nIn a physics lab at a major university, a very expensive light bulb which would emit\nprecisely controlled quantities of light was being used in some experiments.\nRuth was the research assistant responsible for operating the sensitive light bulb.\nOne morning she came into the lab and found to her dismay that the light bulb no longer worked.\nShe realized that she had forgotten to tum it off the previous night.\nAs a result the light bulb overheated, and two wires in the filament inside the bulb fused together.\nThe surrounding glass bulb was completely sealed, so there was no way to open it.\nRuth knew that the light bulb could be repaired if a brief, high intensity ultrasound wave could be used to jar apart the fused parts.\nFurthermore, the lab had the necessary equipment to do the job.\nHowever, the ultrasound machines only generated low intensity waves that were not strong enough to fuse the filament.\nShe needed a much more intense ultrasound wave.\nSo it seemed that the light bulb could not be repaired, and a costly replacement would be required.\nRuth was about to give up when she had an idea.\nShe placed several ultrasound machines in a circle around the light bulb, and administered low intensity ultrasound waves from several directions all at once.\nThe waves all converged on the filament, where their combined effect was enough to jar apart the fused parts.\nRuth was greatly relieved that the light bulb was repaired, and she then went on to successfully complete the experiment.\nOnce there was a small country called Zerdia that learned to make the world smartest computer.\nZerdia sold one of its supercomputers to its neighbor, Gagrach, so Gagrach would promise never to attack Zerdia.\nBut one day Zerdia was overwhelmed by a surprise attach from Gagrach.\nAs it capitulated the crippled government of Zerdia realized that the attacker missiles had been guided by Zerdian supercomputers.\nThe Political Science department has an odd mix of faculty.\nAbout half of the professors have a strong interest in the role of Socialist and Marxist ideology in world government.\nThe other half of the faculty study the emergence of democratic republics, particularly in Third World nations.\nDespite these radically different orientations, most of the professors are quite open minded.\nIn fact, the department recently organized a conference at which both groups gave talks about their findings.\nThe conference was quite well received, and a favorable story about the meeting appeared in The Washington Post.\nThe faculty in Political Science are quite active researchers, and almost all of them have research grants from large government agencies.\nThese grants provide the department with money to hire personnel.\nBecause of the large number of grants, the department has been able to hire research assistants for every faculty member.\nA magpie named Sam sang all summer.\nWhen winter came he paid a visit to a chipmunk and performed a ballad for her, hoping she would give him some nuts in return.\nHowever, the chipmunk was not at all pleased.\nYou don't deserve any nuts of mine! she exclaimed.\nYour song was terrible.\nPercy the mockingbird spent the whole warm season chirping and twittering.\nWhen it began to get colder Percy visited a squirrel and sang a song for her, expecting to get some of the squirrel sunflower seeds in return.\nHowever, the squirrel was very disappointed in him.\nYou are a terrible singer!\nshe yel1ed. \nTm not giving you any of my wheat.\nA tear roUed down Percy cheek, and he vowed to give up singing for good.\nA magpie named Sam sang all summer.\nWhen winter came he paid a visit to a chipmunk.\nHowever, the chipmunk was not at all pleased with Sam.\nYou have wasted the summer while I have been hard at work!\nshe said.\nSam performed a ballad for her hoping she would give him some nuts in return.\nBut she was still not pleased.\nI will not give you any of my nuts! she exclaimed.\nThe English department at Fallsburg is one of the largest departments at the University.\nThe undergraduate students have consistently rated the faculty in this department as the best teachers on campus.\nTheir reputation as fine teachers has spread throughout the campus so that almost every student wants to take at least one English course during their studies.\nThis popularity has caused most of the English courses to be oversubscribed.\nStudents must often wait over a year to get into the course of their choice.\nUnfortunately, many of the faculty in the English department have strong personalities and big egos.\nInevitably, this has led to personality clashes among the faculty.\nIt is not uncommon for faculty meetings in this department to erupt into shouting matches.\nOne result of these arguments is that the faculty rarely go to their University offices, except during office hours to avoid running into their colleagues.\nFortress 2 Supply Route:\nA small country fell under the iron rule of a dictator.\nThe dictator ruled the country from a strong fortress.\nThe fortress was situated in the middle of the country, surrounded by farms and villages.\nMany roads radiated outward from the fortress like spokes on a wheel.\nA great general arose who raised a large army at the border and vowed to capture the fortress and free the country of the dictator.\nThe general knew that if his entire army could attack the fortress at once it could be captured.\nHis troops were poised at the head of one of the roads leading to the fortress, ready to attack.\nHowever, a spy brought the general a disturbing report.\nThe ruthless dictator had planted mines on each of the roads.\nThe mines were set so that small bodies of men could pass over them safely, since the dictator needed to be able to move troops and workers to and from the fortress.\nHowever, any large force would detonate the mines.\nNot only would this blow up the road and render it impassable, but the dictator would then destroy many villages in retaliation.\nThe general, however, was undaunted.\nHe knew that one major thoroughfare leading to the fortress was always kept open as a supply route.\nHe led his army to the head of the supply route.\nWhen all was ready he gave the signal, and the entire army charged down the open route.\nThe army avoided the mines and attacked the fortress in full strength.\nIn this way, the general was able to capture the fortress and overthrow the dictator.\nThe church was having trouble approaching local corporations for contributions to the shelter.  \nThe  executive  soothed  the priest.\nThe Birthday Party\nIt was Jane sixth birthday and her mother wanted to make it a very special day for her.\nSo she  organized a big surprise party and invited the neighborhood children without Jane knowing about  it.\nThe plan was that the mother who usually picked up Jane after school would be late in order  to allow the children time to arrive before Jane.\nThe big day finally arrived.\nEverything was  just about ready, and it was fifteen minutes before the children were supposed to come.\nJane  mother was putting the final touches on the decorations for the party room.\nShe was covering the  walls and ceiling with balloons and party streamers made of crepe paper and ribbons.\nJane  mother was finishing up a decoration pattern.\nTwo final pieces were left that were dangling from  the wood paneling above.\nShe had originally planned to knot these two pieces of ribbon together  in order to attach balloons to them.\nHowever, whenever she grabbed the end of one ribbon, colored  blue, she was not able to grasp the other ribbon, colored pink, at the same time.\nThe ribbons  simply were not long enough to be knotted together in this way.\nIt seemed that she would have to abandon her final bit of decoration.\nJane mother was just about to give up when she had an idea.\nShe took the pair of scissors that  she had been using to cut the various ribbons and crepe paper, and attached the scissors to the  end of the ribbon.\nNext, she took hold of the scissors, and pointing them in the direction of the  pink ribbon, swung them vigorously so that this blue ribbon now swayed alternately between the  pink ribbon and a nearby wall.\nShe then ran quickly and took the end of the dangling pink ribbon  and walked as close to the swinging blue ribbon as possible without letting go of the pink  ribbon.\nShe then waited until the swinging blue ribbon came her way and caught it on the upswing.  \nWhile still holding the pink ribbon, she then removed the scissors from the other blue ribbon and  knotted the two ribbons together.\nJane mother just managed to attach all her balloons on these  ribbons, completing her decorations, before the children started pouring in.\nSoon Jane arrived  and was genuinely surprised.\nThe party was a great success, and all the mothers complemented Jane mother on the decorations.\nAn engineer plans the construction of an artificial lake to produce electric energy.\nAccording to his first plan, a single wide canal collects water coming from a valley and conveys it into the lake.\nHowever, the engineer realizes that during the flood periods the stream of water flowing along the canal may be too strong and may damage the surrounding areas.\nHe also realizes that during the drought periods a single stream of water may be insufficient to feed the lake.\nIn order to avoid these mishaps, the engineer elaborates a second plan.\nAccording to this plan, the lake is fed by four small canals whose total flow is the same as the single wide canal previously planned.\nThese small canals are placed around the lake so that they convey water coming from four different valleys.\nIn this way only small amounts of water can flow in each canal and thus during flood periods dangerous overflowings might not occur.\nAt the same time, the lake is fed by water from various valleys, so that also during drought periods it is sufficiently fed.\nSam travelled all over the world buying beautiful things.\nWhen he ran out of money he paid a visit to his mother.\nHowever, she was not at all pleased with him.\nWhile I have been hard at work you have been wasting your time, she said.\nSam gave her a gift he bought in Tibet, hoping she would give him a loan in return.\nBut she was still not pleased.\nI will not give you any of my hard earned money! she exclaimed.\nOne unusually warm spell in February Sam the magpie thought ''\nThis is my chance.He stood up on the edge of his nest and trilled proudly.\nHis song was so loud and cheerful that it woke a nearby chipmunk.\nThe chipmunk asked for another song.\nHe was so moved by Sam talents that he forgot\nit was still winter and decided to go looking for nuts to store.\nAn engineer plans the construction of an artificial lake to produce electric energy.\nAccording to his first plan, a unique wide canal collects water coming from a valley and convey it into the lake.\nThe total labor cost for the construction of such canal is $17,664.\nHowever, the engineer realizes that the capacity of the lake is not sufficient to produce the needed amount of energy.\nHowever, it is`not possible to enlarge the lake because there are no free areas around it.\nIn order to avoid this mishap, the engineer elaborates a second plan.\nAccording to this plan, the lake must be deepened so that it contains a higher amount of water.\nTo implement the second plan 12 laborers have to work 8 hours daily for 23 days.\nEach laborer is paid $8 for each hour of work.\nThe total labor of the second plan is cheaper, equal or more expansive than the labor of the first plan?\nMiss Piggy most precious possessions were her jewels.\nShe kept them in a jewel box on top of her dresser.\nShe decided they weren't very safe there, so she wanted to move them to a strong safe on the other side of the room.\nMiss Piggy started to carry a few of her jewels across the room to the safe.\nBut just then Gonzo went running through the room, with Fozzy Bear chasing him.\nThey almost knocked Miss Piggy down.\nShe was afraid they would come back at any moment and make her drop some jewels and lose them.\nShe had so many jewels\n how could she get them all over to the safe quickly and safely?\nSuddenly Miss Piggy had a great idea.\nShe rolled up her carpet off the floor and picked it up.\nThe carpet just reached from her jewel box to the safe.\nThen Miss Piggy quickly rolled her jewels through the rolled carpet and into the safe.\nShe was finished in a jiffy, before Fozzy Bear and Gonzo came back.\nThe jewels were safe, and Miss Piggy was very happy.\nThe degree of animosity between members of the faculty in Anthropology is obvious to anyone who looks at the department.\nThis has not gone unnoticed at other Universities, where it has been viewed as a potential opportunity, and at least once per semester, a faculty member in the department is offered another job at a prestigious University.\nThe offers from outside schools has led a number of faculty members to leave in recent years.\nBecause of their work with people with people from other cultures, the Anthropology faculty tend to be politically active.\nIn particular, the faculty in this department are on the boards of many charities.\nIn their classes, they organize fund raising drives for multi cultural causes.\nThis activity has fostered a spirit of giving at the University, and has led to a strong community involvement among students.\nIn a university lab a very expensive lightbulb which would emit precisely controlled quantities of light was being used in some experiments.\nOne morning the research assistant responsible for operating the sensitive lightbulb came into the lab and found to her dismay that the lightbulb no longer worked.\nShe realized that, she had forgotten to turn it off the previous night.\nAs a result the lightbulb overheated, and the filament inside the bulb had broken into two parts.\nThe surrounding glass bulb was completely sealed, so there was no way to open It.\nThe lightbulb could be repaired if a brief, high intensity laser ray could be used to fuse the two parts of the filament into one.\nFurthermore the lab had the necessary equipment to do the job.\nHowever, a high intensity laser ray would also break the fragile glass surrounding the filament.\nAt lower intensity the laser ray would not break the glass, but neither would it fuse the filament.\nSo it seemed that the lightbulb could not be repaired.\nHow could you solve this situation?\nThe Annual Meeting Case The Sales and Marketing divisions of a large health maintenance corporation were trying to decide where to hold their annual meeting.\nThere were substantial disagreements between the two divisions that were beginning to create conflict between them.\nThe Sales division wanted to go to a lodge in the mountains.\nThey had researched this possibility already and were anxious to reserve a location as soon as possible.\nThe Marketing division, on the other hand, wanted to go a major city.\nThey had already generated materials on the potential exposure of their company in several urban markets in preparation.\nThe two divisions considered the compromise of holding two annual meetings, but both the added cost and the hectic travel schedules of the executives involved made this option unfeasible.\nThere was added pressure from company leaders to hold a single annual meeting given the potential benefits of building better working relationships across divisions which had a history of tense and competitive relations.\nIndeed, one objective of the annual meeting was to foster better relations between the two divisions.\nOne member of the Sales division was appointed to negotiate with one member of the Marketing division concerning the location of the annual meeting.\nAs the division planners gained trust in each other, important understandings emerged.\nThe Sales division desired to run the annual meeting as a retreat to talk about important company issues, which required having a location suitable to focusing on the work at hand.\nThe Marketing division saw the annual meeting as an opportunity to promote the company image.\nThe two divisions resolved to create a well publicized annual meeting located in the mountains, and they agreed to maintain open lines of communication between divisions.\nThe Two Poor Brothers Case Two fairly poor brothers, Ben and Jerry, had just inherited a working farm whose main crop has a volatile price.\nBen wanted to sell rights to the farm output under a long term contract for a fixed amount rather than depend upon shares of an uncertain revenue stream.\nIn short, Ben was risk averse.\nJerry, on the other hand, was confident that the next season would be spectacular and revenues would be high.\nIn short, Jerry was risk seeking.\nThe two argued for days and nights.\nBen wanted to sell immediately because he believed the price of the crop would fall; Jerry wanted to keep the farm because he believed the price of the crop would increase.\nJerry could not afford to buy Ben out at the time, but the strain on their family relationship over their disagreements was becoming too large.\nBen had always trusted Jerry instincts in the past, but this time felt Jerry was being overly optimistic.\nIn an effort to settle the matter and close up the growing rift between them, the two brothers agreed to meet with a family business advisor.\nFollowing the consultation, Jerry proposed a possible agreement to his brother: They would keep the farm for another season.\nIf the price of the crop fell below a certain price , then they would sell the farm and Ben would get 50% of the farm current value, adjusted for inflation; Jerry would get the rest.\nHowever, if the price of the crop were to rise , Jerry would buy Ben out for 50% of the farm current value, adjusted for inflation, and would get to keep all of the additional profits for himself.\nJerry was delighted when his brother told him he could agree to this arrangement, thereby avoiding further conflict.\nKarla the Hawk: Karla, an old hawk, lived at the top of a tall oak tree.\nOne afternoon, she saw a hunter on the ground with a bow and some crude arrows that had no feathers.\nThe hunter took aim and shot at the hawk but missed.\nKarla knew the hunter wanted her feathers so she glided down to the hunter and offered to give him a few.\nThe hunter was so grateful that he pledged never to shoot at a hawk again.\nHe went off and shot a deer instead.\nZerdia True Analogy:\nOnce there was a small country called Zerdia that learned to make the world smartest computer.\nOne day Zerdia was attacked by its warlike neighbor, Gagrach.\nBut the missiles were badly aimed and the attack failed.\nThe Zerdian government realized that Gagrach wanted Zerdian computers so it offered to sell some of its computers to the country.\nThe government of Gagrach was very pleased.\nIt promised never to attack Zerdia again.\n"
     ]
    }
   ],
   "source": [
    "from app import clean\n",
    "for s in candidate_sentences['sentence']:\n",
    "    print(clean(s))"
   ]
  },
  {
   "cell_type": "code",
   "execution_count": 21,
   "metadata": {},
   "outputs": [
    {
     "output_type": "execute_result",
     "data": {
      "text/plain": [
       "'placed around'"
      ]
     },
     "metadata": {},
     "execution_count": 21
    }
   ],
   "source": [
    "def get_relation(sentence):\n",
    "    \"\"\"\n",
    "    Get relation within input sentenceence based on pattern provided.\n",
    "    params: str - input of single sentenceence.\n",
    "    \"\"\"\n",
    "    doc = nlp(sentence)\n",
    "\n",
    "    # Matcher class object\n",
    "    matcher = Matcher(nlp.vocab, validate=True)\n",
    "\n",
    "    #define the pattern\n",
    "    # TODO: explore matcher\n",
    "\n",
    "    \"\"\"\n",
    "    Match 0 or more times / match 0 or 1 time(one relation in sencence?)\n",
    "    Dodałem PROPN ale jeszcze nie przetestowałem.\n",
    "    \"\"\"\n",
    "    # # define such as pattern\n",
    "    # suchaspattern = [{'POS':'NOUN'}, \n",
    "    #        {'LOWER': 'such'}, \n",
    "    #        {'LOWER': 'as'}, \n",
    "    #        {'POS': 'PROPN'} #proper noun]\n",
    "    # wrong pattern?\n",
    "    pattern = [{'DEP':'ROOT'},\n",
    "            {'DEP':'prep','OP':\"?\"},\n",
    "            {'DEP':'agent','OP':\"?\"},\n",
    "            {'POS':'PROPN','OP':'?'},\n",
    "            {'POS':'ADJ','OP':\"?\"}]\n",
    "    #define the pattern\n",
    "    suchas_pattern = [{'DEP':'amod', 'OP':\"?\"}, # adjectival modifier\n",
    "           {'POS':'NOUN'},\n",
    "           {'LOWER': 'such'},\n",
    "           {'LOWER': 'as'},\n",
    "           {'POS': 'PROPN'}]\n",
    "\n",
    "    andor_pattern = [{'DEP':'amod', 'OP':\"?\"}, \n",
    "           {'POS':'NOUN'}, \n",
    "           {'LOWER': 'and', 'OP':\"?\"}, \n",
    "           {'LOWER': 'or', 'OP':\"?\"}, \n",
    "           {'LOWER': 'other'}, \n",
    "           {'POS': 'NOUN'}] \n",
    "\n",
    "    es_pattern = [{'DEP':'nummod','OP':\"?\"}, \n",
    "           {'DEP':'amod','OP':\"?\"}, \n",
    "           {'POS':'NOUN'}, \n",
    "           {'IS_PUNCT':True}, \n",
    "           {'LOWER': 'especially'}, \n",
    "           {'DEP':'nummod','OP':\"?\"}, \n",
    "           {'DEP':'amod','OP':\"?\"}, \n",
    "           {'POS':'NOUN'}] \n",
    "    # TODO Add verb matcher? IDK\n",
    "\n",
    "    # matcher.add(\"matching_1\", None, pattern) \n",
    "\n",
    "    # TODO: obczaic kod.\n",
    "    # matches = matcher(doc) \n",
    "    \n",
    "    # print(span.text)\n",
    "    \n",
    "    # for matcher.add had to change for 2 arguments and second as list\n",
    "    # it happen after i had to downgrade python version to python=3.6\n",
    "    # now it gets 2 arguments instead of 3, latter is type list so we can\n",
    "    # add multiple patterns.\n",
    "    matcher.add(\"matching_1\", [pattern,suchas_pattern,andor_pattern,es_pattern])\n",
    "\n",
    "    matches = matcher(doc)\n",
    "    k = len(matches) - 1\n",
    "\n",
    "    # span = doc[matches[0][1]:matches[0][2]] \n",
    "    span = doc[matches[k][1]:matches[k][2]]\n",
    "\n",
    "    return(span.text)\n",
    "\n",
    "get_relation(candidate_sentences['sentence'][4])"
   ]
  },
  {
   "cell_type": "code",
   "execution_count": 20,
   "metadata": {},
   "outputs": [
    {
     "output_type": "execute_result",
     "data": {
      "text/plain": [
       "'watermelon such'"
      ]
     },
     "metadata": {},
     "execution_count": 20
    }
   ],
   "source": [
    "new_sent = candidate_sentences['sentence'][4]+\" watermelon such as melon\"\n",
    "get_relation(new_sent)\n",
    "# new_sent"
   ]
  },
  {
   "cell_type": "code",
   "execution_count": 53,
   "metadata": {},
   "outputs": [],
   "source": [
    "# print(get_sents(text)[0])\n",
    "# print(get_sents(text)[1])\n",
    "# print(get_sents(text)[2])\n",
    "# print('end of unclean\\n')\n",
    "\n",
    "# print(clean(get_sents(text)[0].strip()))\n",
    "# print(clean(get_sents(text)[1].strip()))\n",
    "# print(clean(get_sents(text)[2].strip()))\n"
   ]
  },
  {
   "cell_type": "code",
   "execution_count": 14,
   "metadata": {},
   "outputs": [
    {
     "output_type": "execute_result",
     "data": {
      "text/plain": [
       "'Myeloid derived suppressor cells (MDSC) are immatur myeloid cells with immunosuppressive activity They accumulate in tumor bearing mice and human with different types of cancer, including hepatocellula carcinoma (HCC).'"
      ]
     },
     "metadata": {},
     "execution_count": 14
    }
   ],
   "source": []
  },
  {
   "cell_type": "code",
   "execution_count": 37,
   "metadata": {},
   "outputs": [],
   "source": []
  },
  {
   "cell_type": "code",
   "execution_count": 13,
   "metadata": {},
   "outputs": [
    {
     "output_type": "stream",
     "name": "stdout",
     "text": [
      "Myeloid     ADJ       amod      adjective \nderived     VERB      amod      verb      \nsuppressor  NOUN      compound  noun      \ncells       NOUN      nsubj     noun      \n(           PUNCT     punct     punctuation\nMDSC        NOUN      appos     noun      \n)           PUNCT     punct     punctuation\nare         VERB      cop       verb      \nimmatur     ADJ       amod      adjective \nmyeloid     ADJ       amod      adjective \ncells       NOUN      ROOT      noun      \nwith        ADP       case      adposition\nimmunosuppressiveADJ       amod      adjective \nactivity    NOUN      nmod      noun      \nThey        PRON      nsubj     pronoun   \naccumulate  VERB      acl:relcl verb      \nin          ADP       case      adposition\ntumor       NOUN      compound  noun      \nbearing     VERB      amod      verb      \nmice        NOUN      nmod      noun      \nand         CCONJ     cc        coordinating conjunction\nhuman       ADJ       conj      adjective \nwith        ADP       case      adposition\ndifferent   ADJ       amod      adjective \ntypes       NOUN      nmod      noun      \nof          ADP       case      adposition\ncancer      NOUN      nmod      noun      \n,           PUNCT     punct     punctuation\nincluding   VERB      case      verb      \nhepatocellulaADJ       compound  adjective \ncarcinoma   NOUN      nmod      noun      \n(           PUNCT     punct     punctuation\nHCC         NOUN      appos     noun      \n)           PUNCT     punct     punctuation\n.           PUNCT     punct     punctuation\n"
     ]
    }
   ],
   "source": [
    "def sent_(text):\n",
    "    \"\"\"\n",
    "    This function sole pourpose is to represent look\n",
    "    of example docstring.\n",
    "    Parameters\n",
    "    ----------\n",
    "        text : str\n",
    "            Block of text with multiple sentences\n",
    "\n",
    "    Returns\n",
    "    -------\n",
    "    None\n",
    "    Prints attributes of token object.\n",
    "    text: Get the token text.\n",
    "    POS: part-of-speech tag.\n",
    "    DEP: dependency label.\n",
    "    \"\"\"\n",
    "    sent = nlp(text)\n",
    "    for token in sent:\n",
    "        # Get the token text, part-of-speech tag and dependency label\n",
    "        token_text = token.text\n",
    "        token_pos = token.pos_\n",
    "        token_dep = token.dep_\n",
    "        print('{:<12}{:<10}{:<10}{:<10}'.format(token_text, token_pos, token_dep,spacy.explain(token_pos)))\n",
    "\n",
    "sent_(fsent)"
   ]
  },
  {
   "cell_type": "code",
   "execution_count": 32,
   "metadata": {},
   "outputs": [],
   "source": [
    "def get_entities(sentence):\n",
    "    # store entities in variable - object subject\n",
    "    ent_1 = ''\n",
    "    ent_2 = ''\n",
    "    tok_dep = '' # dependency tag of previous token in the sentence\n",
    "    tok_txt = '' # previous token in the senetence\n",
    "    pfx = ''\n",
    "    mod = ''\n",
    "\n",
    "    for tok in nlp(sentence):\n",
    "        if tok.dep_ != 'punct':\n",
    "            if tok.dep_ == 'compound':\n",
    "                pfx = tok.text\n",
    "                if tok.dep_ == 'compound':\n",
    "                    pfx = tok_txt +\" \"+tok.text\n",
    "\n",
    "        if tok.dep_.endswith('mod') == True:\n",
    "            mod = tok.text\n",
    "            if tok.dep_ == 'compound':\n",
    "                mod = tok_txt+\" \"+tok.text\n",
    "\n",
    "        if tok.dep_.find(\"subj\") == True:\n",
    "            ent_1 = mod+\" \"+pfx+\" \"+tok.text\n",
    "            tok_txt =''\n",
    "            tok_dep=''\n",
    "            pfx = ''\n",
    "            mod =''\n",
    "\n",
    "        if tok.dep_.find(\"obj\") == True:\n",
    "            ent_2 = mod+\" \"+pfx+\" \"+tok.text\n",
    "\n",
    "        tok_dep = tok.dep_\n",
    "        tok_txt = tok.text\n",
    "    return [ent_1.strip(), ent_2.strip()]\n",
    "\n",
    "\n",
    "get_entities(text)"
   ]
  },
  {
   "cell_type": "code",
   "execution_count": 41,
   "metadata": {},
   "outputs": [
    {
     "output_type": "execute_result",
     "data": {
      "text/plain": [
       "'cells'"
      ]
     },
     "metadata": {},
     "execution_count": 41
    }
   ],
   "source": [
    "# get_sent3(text)\n",
    "# get_sents(text)\n",
    "# graph(text)\n",
    "# sent_(text)"
   ]
  },
  {
   "cell_type": "code",
   "execution_count": 1,
   "metadata": {},
   "outputs": [
    {
     "output_type": "error",
     "ename": "NameError",
     "evalue": "name 'get_triple' is not defined",
     "traceback": [
      "\u001b[0;31m---------------------------------------------------------------------------\u001b[0m",
      "\u001b[0;31mNameError\u001b[0m                                 Traceback (most recent call last)",
      "\u001b[0;32m<ipython-input-1-e99b470a6a84>\u001b[0m in \u001b[0;36m<module>\u001b[0;34m\u001b[0m\n\u001b[0;32m----> 1\u001b[0;31m \u001b[0mget_triple\u001b[0m\u001b[0;34m(\u001b[0m\u001b[0mfsent\u001b[0m\u001b[0;34m)\u001b[0m\u001b[0;34m\u001b[0m\u001b[0;34m\u001b[0m\u001b[0m\n\u001b[0m",
      "\u001b[0;31mNameError\u001b[0m: name 'get_triple' is not defined"
     ]
    }
   ],
   "source": [
    "def get_triple(text):\n",
    "\n",
    "    doc = nlp(text)\n",
    "    sent = []\n",
    "\n",
    "    for token in doc:\n",
    "        # if the token is a verb\n",
    "        if (token.pos_ in ['VERB','ROOT']):\n",
    "            phrase =''\n",
    "            # only extract noun or pronoun subjects\n",
    "            for sub_tok in token.lefts:\n",
    "                if (sub_tok.dep_ in ['nsubj','nsubjpass']) and (sub_tok.pos_ in ['NOUN','PROPN','PRON']):\n",
    "                    # add subject to the phrase\n",
    "                    phrase += sub_tok.text\n",
    "                    # save the root of the verb in phrase\n",
    "                    phrase += ' '+token.lemma_\n",
    "                    # check for noun or pronoun direct objects\n",
    "                    for sub_tok in token.rights:\n",
    "                        # save the object in the phrase\n",
    "                        if (sub_tok.dep_ in ['dobj']) and (sub_tok.pos_ in ['NOUN','PROPN']):\n",
    "                            phrase += ' '+sub_tok.text\n",
    "                            sent.append(phrase)\n",
    "\n",
    "    return sent\n",
    "get_triple(fsent) "
   ]
  },
  {
   "cell_type": "code",
   "execution_count": 44,
   "metadata": {},
   "outputs": [
    {
     "output_type": "execute_result",
     "data": {
      "text/plain": [
       "['activity  They', 'tumor  mice']"
      ]
     },
     "metadata": {},
     "execution_count": 44
    }
   ],
   "source": [
    "get_entities(clean(text))"
   ]
  },
  {
   "cell_type": "code",
   "execution_count": 12,
   "metadata": {},
   "outputs": [],
   "source": [
    "from spacy.matcher import DependencyMatcher\n",
    "\n",
    "# \"[subject] ... initially founded\"\n",
    "pattern = [\n",
    "  # anchor token: founded\n",
    "  {\n",
    "    \"RIGHT_ID\": \"founded\",\n",
    "    \"RIGHT_ATTRS\": {\"ORTH\": \"founded\"}\n",
    "  },\n",
    "  # founded -> subject\n",
    "  {\n",
    "    \"LEFT_ID\": \"founded\",\n",
    "    \"REL_OP\": \">\",\n",
    "    \"RIGHT_ID\": \"subject\",\n",
    "    \"RIGHT_ATTRS\": {\"DEP\": \"nsubj\"}\n",
    "  },\n",
    "  # \"founded\" follows \"initially\"\n",
    "  {\n",
    "    \"LEFT_ID\": \"founded\",\n",
    "    \"REL_OP\": \";\",\n",
    "    \"RIGHT_ID\": \"initially\",\n",
    "    \"RIGHT_ATTRS\": {\"ORTH\": \"initially\"}\n",
    "  }\n",
    "]\n",
    "\n",
    "matcher = DependencyMatcher(nlp.vocab)\n",
    "matcher.add(\"FOUNDED\", [pattern])\n",
    "matches = matcher(doc)"
   ]
  },
  {
   "cell_type": "code",
   "execution_count": 13,
   "metadata": {},
   "outputs": [
    {
     "output_type": "stream",
     "name": "stdout",
     "text": [
      "[(4851363122962674176, [1])]\n"
     ]
    }
   ],
   "source": [
    "import spacy\n",
    "from spacy.matcher import DependencyMatcher\n",
    "\n",
    "# nlp = spacy.load(\"en_core_web_sm\")\n",
    "matcher = DependencyMatcher(nlp.vocab)\n",
    "pattern = [\n",
    "    {\n",
    "        \"RIGHT_ID\": \"anchor_founded\",\n",
    "        \"RIGHT_ATTRS\": {\"ORTH\": \"founded\"}\n",
    "    },\n",
    "    {\n",
    "        \"LEFT_ID\": \"anchor_founded\",\n",
    "        \"REL_OP\": \">\",\n",
    "        \"RIGHT_ID\": \"founded_subject\",\n",
    "        \"RIGHT_ATTRS\": {\"DEP\": \"nsubj\"},\n",
    "    },\n",
    "    {\n",
    "        \"LEFT_ID\": \"anchor_founded\",\n",
    "        \"REL_OP\": \">\",\n",
    "        \"RIGHT_ID\": \"founded_object\",\n",
    "        \"RIGHT_ATTRS\": {\"DEP\": \"dobj\"},\n",
    "    },\n",
    "    {\n",
    "        \"LEFT_ID\": \"founded_object\",\n",
    "        \"REL_OP\": \">\",\n",
    "        \"RIGHT_ID\": \"founded_object_modifier\",\n",
    "        \"RIGHT_ATTRS\": {\"DEP\": {\"IN\": [\"amod\", \"compound\"]}},\n",
    "    }\n",
    "]\n",
    "pattern = [\n",
    "  {\n",
    "    \"RIGHT_ID\": \"anchor_founded\",       # unique name\n",
    "    \"RIGHT_ATTRS\": {\"ORTH\": \"founded\"}  # token pattern for \"founded\"\n",
    "  },\n",
    "    \n",
    "]\n",
    "matcher.add(\"FOUNDED\", [pattern])\n",
    "doc = nlp(\"Smith founded two companies.\")\n",
    "matches = matcher(doc)\n",
    "print(matches) # [(4851363122962674176, [1])]"
   ]
  },
  {
   "cell_type": "code",
   "execution_count": 14,
   "metadata": {},
   "outputs": [
    {
     "output_type": "stream",
     "name": "stdout",
     "text": [
      "[(4851363122962674176, [7, 0, 10, 9])]\nanchor_founded: founded\nfounded_subject: Lee\nfounded_object: startups\nfounded_object_modifier: AI\n"
     ]
    }
   ],
   "source": [
    "import spacy\n",
    "from spacy.matcher import DependencyMatcher\n",
    "\n",
    "nlp = spacy.load(\"en_core_web_sm\")\n",
    "matcher = DependencyMatcher(nlp.vocab)\n",
    "\n",
    "pattern = [\n",
    "    {\n",
    "        \"RIGHT_ID\": \"anchor_founded\",\n",
    "        \"RIGHT_ATTRS\": {\"ORTH\": \"founded\"}\n",
    "    },\n",
    "    {\n",
    "        \"LEFT_ID\": \"anchor_founded\",\n",
    "        \"REL_OP\": \">\",\n",
    "        \"RIGHT_ID\": \"founded_subject\",\n",
    "        \"RIGHT_ATTRS\": {\"DEP\": \"nsubj\"},\n",
    "    },\n",
    "    {\n",
    "        \"LEFT_ID\": \"anchor_founded\",\n",
    "        \"REL_OP\": \">\",\n",
    "        \"RIGHT_ID\": \"founded_object\",\n",
    "        \"RIGHT_ATTRS\": {\"DEP\": \"dobj\"},\n",
    "    },\n",
    "    {\n",
    "        \"LEFT_ID\": \"founded_object\",\n",
    "        \"REL_OP\": \">\",\n",
    "        \"RIGHT_ID\": \"founded_object_modifier\",\n",
    "        \"RIGHT_ATTRS\": {\"DEP\": {\"IN\": [\"amod\", \"compound\"]}},\n",
    "    }\n",
    "]\n",
    "\n",
    "matcher.add(\"FOUNDED\", [pattern])\n",
    "doc = nlp(\"Lee, an experienced CEO, has founded two AI startups.\")\n",
    "matches = matcher(doc)\n",
    "\n",
    "print(matches) # [(4851363122962674176, [6, 0, 10, 9])]\n",
    "# Each token_id corresponds to one pattern dict\n",
    "match_id, token_ids = matches[0]\n",
    "for i in range(len(token_ids)):\n",
    "    print(pattern[i][\"RIGHT_ID\"] + \":\", doc[token_ids[i]].text)"
   ]
  },
  {
   "cell_type": "code",
   "execution_count": 15,
   "metadata": {},
   "outputs": [
    {
     "output_type": "stream",
     "name": "stdout",
     "text": [
      "[('MyCorp Inc.', 'ORG'), ('U.S.', 'GPE')]\n"
     ]
    }
   ],
   "source": [
    "ruler = nlp.add_pipe(\"entity_ruler\")\n",
    "patterns = [{\"label\": \"ORG\", \"pattern\": \"MyCorp Inc.\"}]\n",
    "ruler.add_patterns(patterns)\n",
    "\n",
    "doc = nlp(\"MyCorp Inc. is a company in the U.S.\")\n",
    "print([(ent.text, ent.label_) for ent in doc.ents])"
   ]
  },
  {
   "cell_type": "code",
   "execution_count": 16,
   "metadata": {},
   "outputs": [
    {
     "output_type": "stream",
     "name": "stdout",
     "text": [
      "[MyCorp Inc. is a company in the U.S.]\n(MyCorp Inc., U.S.)\n"
     ]
    }
   ],
   "source": [
    "print(list(doc.sents))\n",
    "\n",
    "# Examine the entities extracted by the mention detector.\n",
    "# Note that they don't have types like in SpaCy, and they\n",
    "# are more general (e.g including verbs) - these are any\n",
    "# spans which might be an entity in UMLS, a large\n",
    "# biomedical database.\n",
    "print(doc.ents)"
   ]
  },
  {
   "cell_type": "code",
   "execution_count": 17,
   "metadata": {},
   "outputs": [
    {
     "output_type": "display_data",
     "data": {
      "text/plain": "<IPython.core.display.HTML object>",
      "text/html": "<span class=\"tex2jax_ignore\"><svg xmlns=\"http://www.w3.org/2000/svg\" xmlns:xlink=\"http://www.w3.org/1999/xlink\" xml:lang=\"en\" id=\"ee7c9f2a31ae4f8c90a1ae0645bec612-0\" class=\"displacy\" width=\"1450\" height=\"312.0\" direction=\"ltr\" style=\"max-width: none; height: 312.0px; color: #000000; background: #ffffff; font-family: Arial; direction: ltr\">\n<text class=\"displacy-token\" fill=\"currentColor\" text-anchor=\"middle\" y=\"222.0\">\n    <tspan class=\"displacy-word\" fill=\"currentColor\" x=\"50\">MyCorp</tspan>\n    <tspan class=\"displacy-tag\" dy=\"2em\" fill=\"currentColor\" x=\"50\">PROPN</tspan>\n</text>\n\n<text class=\"displacy-token\" fill=\"currentColor\" text-anchor=\"middle\" y=\"222.0\">\n    <tspan class=\"displacy-word\" fill=\"currentColor\" x=\"225\">Inc.</tspan>\n    <tspan class=\"displacy-tag\" dy=\"2em\" fill=\"currentColor\" x=\"225\">PROPN</tspan>\n</text>\n\n<text class=\"displacy-token\" fill=\"currentColor\" text-anchor=\"middle\" y=\"222.0\">\n    <tspan class=\"displacy-word\" fill=\"currentColor\" x=\"400\">is</tspan>\n    <tspan class=\"displacy-tag\" dy=\"2em\" fill=\"currentColor\" x=\"400\">AUX</tspan>\n</text>\n\n<text class=\"displacy-token\" fill=\"currentColor\" text-anchor=\"middle\" y=\"222.0\">\n    <tspan class=\"displacy-word\" fill=\"currentColor\" x=\"575\">a</tspan>\n    <tspan class=\"displacy-tag\" dy=\"2em\" fill=\"currentColor\" x=\"575\">DET</tspan>\n</text>\n\n<text class=\"displacy-token\" fill=\"currentColor\" text-anchor=\"middle\" y=\"222.0\">\n    <tspan class=\"displacy-word\" fill=\"currentColor\" x=\"750\">company</tspan>\n    <tspan class=\"displacy-tag\" dy=\"2em\" fill=\"currentColor\" x=\"750\">NOUN</tspan>\n</text>\n\n<text class=\"displacy-token\" fill=\"currentColor\" text-anchor=\"middle\" y=\"222.0\">\n    <tspan class=\"displacy-word\" fill=\"currentColor\" x=\"925\">in</tspan>\n    <tspan class=\"displacy-tag\" dy=\"2em\" fill=\"currentColor\" x=\"925\">ADP</tspan>\n</text>\n\n<text class=\"displacy-token\" fill=\"currentColor\" text-anchor=\"middle\" y=\"222.0\">\n    <tspan class=\"displacy-word\" fill=\"currentColor\" x=\"1100\">the</tspan>\n    <tspan class=\"displacy-tag\" dy=\"2em\" fill=\"currentColor\" x=\"1100\">DET</tspan>\n</text>\n\n<text class=\"displacy-token\" fill=\"currentColor\" text-anchor=\"middle\" y=\"222.0\">\n    <tspan class=\"displacy-word\" fill=\"currentColor\" x=\"1275\">U.S.</tspan>\n    <tspan class=\"displacy-tag\" dy=\"2em\" fill=\"currentColor\" x=\"1275\">PROPN</tspan>\n</text>\n\n<g class=\"displacy-arrow\">\n    <path class=\"displacy-arc\" id=\"arrow-ee7c9f2a31ae4f8c90a1ae0645bec612-0-0\" stroke-width=\"2px\" d=\"M70,177.0 C70,89.5 220.0,89.5 220.0,177.0\" fill=\"none\" stroke=\"currentColor\"/>\n    <text dy=\"1.25em\" style=\"font-size: 0.8em; letter-spacing: 1px\">\n        <textPath xlink:href=\"#arrow-ee7c9f2a31ae4f8c90a1ae0645bec612-0-0\" class=\"displacy-label\" startOffset=\"50%\" side=\"left\" fill=\"currentColor\" text-anchor=\"middle\">compound</textPath>\n    </text>\n    <path class=\"displacy-arrowhead\" d=\"M70,179.0 L62,167.0 78,167.0\" fill=\"currentColor\"/>\n</g>\n\n<g class=\"displacy-arrow\">\n    <path class=\"displacy-arc\" id=\"arrow-ee7c9f2a31ae4f8c90a1ae0645bec612-0-1\" stroke-width=\"2px\" d=\"M245,177.0 C245,89.5 395.0,89.5 395.0,177.0\" fill=\"none\" stroke=\"currentColor\"/>\n    <text dy=\"1.25em\" style=\"font-size: 0.8em; letter-spacing: 1px\">\n        <textPath xlink:href=\"#arrow-ee7c9f2a31ae4f8c90a1ae0645bec612-0-1\" class=\"displacy-label\" startOffset=\"50%\" side=\"left\" fill=\"currentColor\" text-anchor=\"middle\">nsubj</textPath>\n    </text>\n    <path class=\"displacy-arrowhead\" d=\"M245,179.0 L237,167.0 253,167.0\" fill=\"currentColor\"/>\n</g>\n\n<g class=\"displacy-arrow\">\n    <path class=\"displacy-arc\" id=\"arrow-ee7c9f2a31ae4f8c90a1ae0645bec612-0-2\" stroke-width=\"2px\" d=\"M595,177.0 C595,89.5 745.0,89.5 745.0,177.0\" fill=\"none\" stroke=\"currentColor\"/>\n    <text dy=\"1.25em\" style=\"font-size: 0.8em; letter-spacing: 1px\">\n        <textPath xlink:href=\"#arrow-ee7c9f2a31ae4f8c90a1ae0645bec612-0-2\" class=\"displacy-label\" startOffset=\"50%\" side=\"left\" fill=\"currentColor\" text-anchor=\"middle\">det</textPath>\n    </text>\n    <path class=\"displacy-arrowhead\" d=\"M595,179.0 L587,167.0 603,167.0\" fill=\"currentColor\"/>\n</g>\n\n<g class=\"displacy-arrow\">\n    <path class=\"displacy-arc\" id=\"arrow-ee7c9f2a31ae4f8c90a1ae0645bec612-0-3\" stroke-width=\"2px\" d=\"M420,177.0 C420,2.0 750.0,2.0 750.0,177.0\" fill=\"none\" stroke=\"currentColor\"/>\n    <text dy=\"1.25em\" style=\"font-size: 0.8em; letter-spacing: 1px\">\n        <textPath xlink:href=\"#arrow-ee7c9f2a31ae4f8c90a1ae0645bec612-0-3\" class=\"displacy-label\" startOffset=\"50%\" side=\"left\" fill=\"currentColor\" text-anchor=\"middle\">attr</textPath>\n    </text>\n    <path class=\"displacy-arrowhead\" d=\"M750.0,179.0 L758.0,167.0 742.0,167.0\" fill=\"currentColor\"/>\n</g>\n\n<g class=\"displacy-arrow\">\n    <path class=\"displacy-arc\" id=\"arrow-ee7c9f2a31ae4f8c90a1ae0645bec612-0-4\" stroke-width=\"2px\" d=\"M770,177.0 C770,89.5 920.0,89.5 920.0,177.0\" fill=\"none\" stroke=\"currentColor\"/>\n    <text dy=\"1.25em\" style=\"font-size: 0.8em; letter-spacing: 1px\">\n        <textPath xlink:href=\"#arrow-ee7c9f2a31ae4f8c90a1ae0645bec612-0-4\" class=\"displacy-label\" startOffset=\"50%\" side=\"left\" fill=\"currentColor\" text-anchor=\"middle\">prep</textPath>\n    </text>\n    <path class=\"displacy-arrowhead\" d=\"M920.0,179.0 L928.0,167.0 912.0,167.0\" fill=\"currentColor\"/>\n</g>\n\n<g class=\"displacy-arrow\">\n    <path class=\"displacy-arc\" id=\"arrow-ee7c9f2a31ae4f8c90a1ae0645bec612-0-5\" stroke-width=\"2px\" d=\"M1120,177.0 C1120,89.5 1270.0,89.5 1270.0,177.0\" fill=\"none\" stroke=\"currentColor\"/>\n    <text dy=\"1.25em\" style=\"font-size: 0.8em; letter-spacing: 1px\">\n        <textPath xlink:href=\"#arrow-ee7c9f2a31ae4f8c90a1ae0645bec612-0-5\" class=\"displacy-label\" startOffset=\"50%\" side=\"left\" fill=\"currentColor\" text-anchor=\"middle\">det</textPath>\n    </text>\n    <path class=\"displacy-arrowhead\" d=\"M1120,179.0 L1112,167.0 1128,167.0\" fill=\"currentColor\"/>\n</g>\n\n<g class=\"displacy-arrow\">\n    <path class=\"displacy-arc\" id=\"arrow-ee7c9f2a31ae4f8c90a1ae0645bec612-0-6\" stroke-width=\"2px\" d=\"M945,177.0 C945,2.0 1275.0,2.0 1275.0,177.0\" fill=\"none\" stroke=\"currentColor\"/>\n    <text dy=\"1.25em\" style=\"font-size: 0.8em; letter-spacing: 1px\">\n        <textPath xlink:href=\"#arrow-ee7c9f2a31ae4f8c90a1ae0645bec612-0-6\" class=\"displacy-label\" startOffset=\"50%\" side=\"left\" fill=\"currentColor\" text-anchor=\"middle\">pobj</textPath>\n    </text>\n    <path class=\"displacy-arrowhead\" d=\"M1275.0,179.0 L1283.0,167.0 1267.0,167.0\" fill=\"currentColor\"/>\n</g>\n</svg></span>"
     },
     "metadata": {}
    }
   ],
   "source": [
    "# We can also visualise dependency parses\n",
    "# (This renders automatically inside a jupyter notebook!):\n",
    "from spacy import displacy\n",
    "displacy.render(next(doc.sents), style='dep', jupyter=True)\n",
    "\n",
    "# See below for the generated SVG.\n",
    "# Zoom your browser in a bit!"
   ]
  },
  {
   "cell_type": "code",
   "execution_count": 18,
   "metadata": {},
   "outputs": [
    {
     "output_type": "stream",
     "name": "stdout",
     "text": [
      "True\nFalse\nFalse\nFalse\nFalse\nFalse\nFalse\nFalse\n"
     ]
    }
   ],
   "source": [
    "for i,_ in enumerate(doc):\n",
    "\n",
    "    # doc[i].is_sent_start\n",
    "    print(doc[i].is_sent_start)"
   ]
  },
  {
   "cell_type": "code",
   "execution_count": 19,
   "metadata": {},
   "outputs": [],
   "source": [
    "def clean(text):\n",
    "    # removing new line character\n",
    "    text = re.sub('\\n','', str(text))\n",
    "    text = re.sub('\\n ','',str(text))\n",
    "    # removing apostrophes\n",
    "    text = re.sub(\"'s\",'',str(text))\n",
    "    # removing hyphens\n",
    "    text = re.sub(\"-\",' ',str(text))\n",
    "    text = re.sub(\"- \",'',str(text))\n",
    "    # removing quotation marks\n",
    "    text = re.sub('\\\"','',str(text))\n",
    "    # removing this �, guessing it was apostrophe\n",
    "    text = re.sub(\"�s\",'',str(text))\n",
    "    text = re.sub('[a-z]+�','', str(text))\n",
    "    text = re.sub('�[a-z]+','', str(text))\n",
    "    text = re.sub('(','',str(text))\n",
    "    text = re.sub(')','',str(text))\n",
    "    # removing paragraph numbers\n",
    "    text = re.sub('[0-9]+.\\t','',str(text))\n",
    "    # removing new line characters\n",
    "    text = re.sub('\\n ','',str(text))\n",
    "    text = re.sub('\\n',' ',str(text))\n",
    "    # removing apostrophes\n",
    "    text = re.sub(\"'s\",'',str(text))\n",
    "    # removing hyphens\n",
    "    text = re.sub(\"-\",' ',str(text))\n",
    "    text = re.sub(\"- \",'',str(text))\n",
    "    # removing quotation marks\n",
    "    text = re.sub('\\\"','',str(text))\n",
    "    # removing salutations\n",
    "    text = re.sub(\"Mr\\.\",'Mr',str(text))\n",
    "    text = re.sub(\"Mrs\\.\",'Mrs',str(text))\n",
    "    # removing any reference to outside text\n",
    "    text = re.sub(\"[\\(\\[].*?[\\)\\]]\", \"\", str(text))\n",
    "    text = re.sub(' +',' ', str(text))\n",
    "\n",
    "    return text\n",
    "# type(clean(txt6))\n",
    "txt6 = clean(txt6)"
   ]
  },
  {
   "cell_type": "code",
   "execution_count": 20,
   "metadata": {},
   "outputs": [],
   "source": [
    "txt034=\"The fox jumped over the log.\""
   ]
  },
  {
   "cell_type": "code",
   "execution_count": 21,
   "metadata": {},
   "outputs": [
    {
     "output_type": "execute_result",
     "data": {
      "text/plain": [
       "'Not only are the faculty in this department extremely bright, they are able to enter the and present material in a clear engaging manner.'"
      ]
     },
     "metadata": {},
     "execution_count": 21
    }
   ],
   "source": [
    "txt6"
   ]
  },
  {
   "cell_type": "code",
   "execution_count": 22,
   "metadata": {},
   "outputs": [
    {
     "output_type": "stream",
     "name": "stdout",
     "text": [
      "Not         PART      preconj   particle  \nonly        ADV       advmod    adverb    \nare         VERB      advcl     verb      \nthe         DET       det       determiner\nfaculty     NOUN      nsubj     noun      \nin          ADP       prep      adposition\nthis        DET       det       determiner\ndepartment  NOUN      pobj      noun      \nextremely   ADV       advmod    adverb    \nbright      ADJ       acomp     adjective \n,           PUNCT     punct     punctuation\nthey        PRON      nsubj     pronoun   \nare         AUX       ROOT      auxiliary \nable        ADJ       acomp     adjective \nto          PART      aux       particle  \nenter       VERB      xcomp     verb      \nthe         DET       det       determiner\nand         CCONJ     cc        coordinating conjunction\npresent     ADJ       conj      adjective \nmaterial    NOUN      dobj      noun      \nin          ADP       prep      adposition\na           DET       det       determiner\nclear       ADJ       amod      adjective \nengaging    ADJ       amod      adjective \nmanner      NOUN      pobj      noun      \n.           PUNCT     punct     punctuation\n"
     ]
    }
   ],
   "source": [
    "sent_(txt6)"
   ]
  },
  {
   "cell_type": "code",
   "execution_count": 34,
   "metadata": {},
   "outputs": [
    {
     "output_type": "stream",
     "name": "stdout",
     "text": [
      "\nChunk Text: Myeloid derived suppressor cells\n-> Root: cells\n-> Arc label:nsubj\n-> Root head: cells\n\n\nChunk Text: (MDSC\n-> Root: MDSC\n-> Arc label:appos\n-> Root head: cells\n\n\nChunk Text: They\n-> Root: They\n-> Arc label:nsubj\n-> Root head: accumulate\n\n\nChunk Text: humans\n-> Root: humans\n-> Arc label:conj\n-> Root head: accumulate\n\n\nChunk Text: \n#\n-> Root: #\n-> Arc label:dobj\n-> Root head: humans\n\n\nChunk Text: (HCC\n-> Root: HCC\n-> Arc label:appos\n-> Root head: carcinoma\n\n"
     ]
    },
    {
     "output_type": "execute_result",
     "data": {
      "text/plain": [
       "'cells cells MDSC cells They accumulate humans accumulate # humans HCC carcinoma '"
      ]
     },
     "metadata": {},
     "execution_count": 34
    }
   ],
   "source": [
    "# Get root of sentence\n",
    "def n_chunk(sent):\n",
    "    roots = ''\n",
    "    doc = nlp(sent)\n",
    "    for chunk in doc.noun_chunks:\n",
    "        print(f\"\\nChunk Text: {chunk.text}\\n-> Root: {chunk.root.text}\\n-> Arc label:{chunk.root.dep_}\\n-> Root head: {chunk.root.head.text}\\n\")\n",
    "        roots += chunk.root.text+ ' ' +chunk.root.head.text+' '\n",
    "\n",
    "    return roots\n",
    "\n",
    "n_chunk(text)\n"
   ]
  },
  {
   "cell_type": "code",
   "execution_count": 24,
   "metadata": {},
   "outputs": [
    {
     "output_type": "error",
     "ename": "NameError",
     "evalue": "name 'n_chunk' is not defined",
     "traceback": [
      "\u001b[0;31m---------------------------------------------------------------------------\u001b[0m",
      "\u001b[0;31mNameError\u001b[0m                                 Traceback (most recent call last)",
      "\u001b[0;32m<ipython-input-24-38cf854a1358>\u001b[0m in \u001b[0;36m<module>\u001b[0;34m\u001b[0m\n\u001b[0;32m----> 1\u001b[0;31m \u001b[0mn_chunk\u001b[0m\u001b[0;34m(\u001b[0m\u001b[0mtxt2\u001b[0m\u001b[0;34m)\u001b[0m\u001b[0;34m\u001b[0m\u001b[0;34m\u001b[0m\u001b[0m\n\u001b[0m",
      "\u001b[0;31mNameError\u001b[0m: name 'n_chunk' is not defined"
     ]
    }
   ],
   "source": []
  },
  {
   "cell_type": "code",
   "execution_count": 25,
   "metadata": {},
   "outputs": [],
   "source": [
    "def noun_chunks_sent(sentence):\n",
    "    '''\n",
    "    Take in single sntence and output\n",
    "    nound chunks\n",
    "    '''\n",
    "    chunks = []\n",
    "    sent = nlp(sentence)\n",
    "    for chunk in sent.noun_chunks:\n",
    "#         print(chunk.left())\n",
    "        chunks.append(chunk)\n",
    "#         print(\"Chunk: \",chunk)\n",
    "    return chunks"
   ]
  },
  {
   "cell_type": "code",
   "execution_count": 26,
   "metadata": {},
   "outputs": [
    {
     "output_type": "execute_result",
     "data": {
      "text/plain": [
       "[An engineer,\n",
       " the construction,\n",
       " an artificial lake,\n",
       " electric energy,\n",
       " the lake,\n",
       " he,\n",
       " a unique wide canal,\n",
       " water,\n",
       " a near valley,\n",
       " a mason,\n",
       " the stream,\n",
       " water,\n",
       " the canal,\n",
       " the surrounding areas,\n",
       " contrast,\n",
       " the drought periods,\n",
       " a unique stream,\n",
       " water,\n",
       " the lake,\n",
       " order,\n",
       " these mishaps,\n",
       " the mason,\n",
       " a unique wide canal,\n",
       " four small canals,\n",
       " whose total flow,\n",
       " the unique wide canal,\n",
       " These small canals,\n",
       " the lake,\n",
       " they,\n",
       " water,\n",
       " four different valleys,\n",
       " this way,\n",
       " only small amounts,\n",
       " water,\n",
       " each canal,\n",
       " flood periods,\n",
       " dangerous overflowing,\n",
       " the same time,\n",
       " the lake,\n",
       " water,\n",
       " various belts,\n",
       " drought periods,\n",
       " it,\n",
       " sufficiency]"
      ]
     },
     "metadata": {},
     "execution_count": 26
    }
   ],
   "source": [
    "chunks = noun_chunks_sent(txt2)\n",
    "len(chunks)\n",
    "chunks\n",
    "\n",
    "\n"
   ]
  },
  {
   "cell_type": "code",
   "execution_count": 27,
   "metadata": {},
   "outputs": [
    {
     "output_type": "execute_result",
     "data": {
      "text/plain": [
       "'An engineer had to plan the construction of an artificial lake to produce electric energy. To feed the lake he thought to build a unique wide canal collecting water coming from a near valley. However, a mason pointed out that during the flood periods the stream of water flowing along the canal might be too strong and might damage the surrounding areas; by contrast, during the drought periods a unique stream of water might be insufficient to feed the lake. In order to avoid these mishaps, the mason suggested to build, instead of a unique wide canal, four small canals whose total flow was the same as the unique wide canal previously planned. These small canals were placed around the lake so that they conveyed water coming from four different valleys. In this way only small amounts of water could flow in each canal and thus during flood periods dangerous overflowing might not occur. At the same time, the lake was fed by water from various belts, so that also during drought periods it was sufficiency that the fed.'"
      ]
     },
     "metadata": {},
     "execution_count": 27
    }
   ],
   "source": [
    "txt2\n"
   ]
  },
  {
   "cell_type": "code",
   "execution_count": 28,
   "metadata": {},
   "outputs": [
    {
     "output_type": "stream",
     "name": "stdout",
     "text": [
      "<class 'spacy.tokens.doc.Doc'>\n2\n['an', 'artificial']\n3\n['a', 'unique', 'wide']\n2\n['a', 'near']\n3\n['However', ',', 'mason']\n2\n['the', 'flood']\n3\n['that', 'during', 'might']\n2\n['the', 'surrounding']\n2\n['the', 'drought']\n2\n['a', 'unique']\n6\n[';', 'by', ',', 'during', 'stream', 'might']\n3\n['In', ',', 'mason']\n3\n['a', 'unique', 'wide']\n2\n['four', 'small']\n2\n['whose', 'total']\n3\n['the', 'unique', 'wide']\n2\n['These', 'small']\n2\n['canals', 'were']\n3\n['so', 'that', 'they']\n2\n['four', 'different']\n2\n['only', 'small']\n3\n['In', 'amounts', 'could']\n4\n['during', 'overflowing', 'might', 'not']\n2\n['the', 'same']\n4\n['At', ',', 'lake', 'was']\n5\n['so', 'that', 'also', 'during', 'it']\n2\n['that', 'the']\n"
     ]
    }
   ],
   "source": [
    "def nnch():\n",
    "    doc = nlp(txt2)\n",
    "    # nlp = spacy.load(\"en_core_web_sm\")\n",
    "    # doc = nlp(\"bright red apples on the tree\")\n",
    "    print(type(doc))\n",
    "#     print(len(doc)+\" Words added \")\n",
    "    for i, token in enumerate(doc):\n",
    "        \n",
    "        if doc[i].n_lefts != 0:\n",
    "            if doc[i].n_lefts > 1:\n",
    "                print(doc[i].n_lefts)\n",
    "                print([token.text for token in doc[i].lefts])\n",
    "        \n",
    "#         print([token.text for token in doc[i].lefts])\n",
    "#         print(type(doc[i].lefts))\n",
    "#         print([token.text for token in doc[i].lefts if token !=None])\n",
    "#         print([token.text for token in doc[i].lefts])  \n",
    "#         print([token.text for token in doc[i].rights])\n",
    "#         print(doc[i].n_lefts)  # 2\n",
    "#         print(doc[i].n_rights)  # 1\n",
    "#         # TODO Lookup\n",
    "#         doc[i].n_rights # give int value of how many something is to left or right?\n",
    "nnch()\n",
    "\n"
   ]
  },
  {
   "cell_type": "code",
   "execution_count": 29,
   "metadata": {},
   "outputs": [
    {
     "output_type": "stream",
     "name": "stdout",
     "text": [
      "Noun phrases: ['An engineer', 'the construction', 'an artificial lake', 'electric energy', 'the lake', 'he', 'a unique wide canal', 'water', 'a near valley', 'a mason', 'the stream', 'water', 'the canal', 'the surrounding areas', 'contrast', 'the drought periods', 'a unique stream', 'water', 'the lake', 'order', 'these mishaps', 'the mason', 'a unique wide canal', 'four small canals', 'whose total flow', 'the unique wide canal', 'These small canals', 'the lake', 'they', 'water', 'four different valleys', 'this way', 'only small amounts', 'water', 'each canal', 'flood periods', 'dangerous overflowing', 'the same time', 'the lake', 'water', 'various belts', 'drought periods', 'it', 'sufficiency']\nVerbs: ['have', 'plan', 'produce', 'feed', 'think', 'build', 'collect', 'come', 'point', 'period', 'flow', 'be', 'damage', 'surround', 'be', 'feed', 'avoid', 'suggest', 'build', 'be', 'plan', 'place', 'convey', 'come', 'flow', 'occur', 'feed', 'be']\n"
     ]
    }
   ],
   "source": [
    "def noun_component(text):\n",
    "    doc = nlp(text)\n",
    "    print(\"Noun phrases:\", [chunk.text for chunk in doc.noun_chunks])\n",
    "    print(\"Verbs:\", [token.lemma_ for token in doc if token.pos_ == \"VERB\"])\n",
    "    \n",
    "noun_component(txt2)\n",
    "\n",
    "    \n",
    "    "
   ]
  },
  {
   "cell_type": "code",
   "execution_count": 29,
   "metadata": {},
   "outputs": [],
   "source": []
  },
  {
   "cell_type": "code",
   "execution_count": 30,
   "metadata": {},
   "outputs": [],
   "source": [
    "def noun_component_list(text):\n",
    "    doc = nlp(text)\n",
    "    chunks = list(doc.noun_chunks)\n",
    "    return chunks\n"
   ]
  },
  {
   "cell_type": "code",
   "execution_count": 31,
   "metadata": {},
   "outputs": [
    {
     "output_type": "execute_result",
     "data": {
      "text/plain": [
       "[An engineer,\n",
       " the construction,\n",
       " an artificial lake,\n",
       " electric energy,\n",
       " the lake,\n",
       " he,\n",
       " a unique wide canal,\n",
       " water,\n",
       " a near valley,\n",
       " a mason,\n",
       " the stream,\n",
       " water,\n",
       " the canal,\n",
       " the surrounding areas,\n",
       " contrast,\n",
       " the drought periods,\n",
       " a unique stream,\n",
       " water,\n",
       " the lake,\n",
       " order,\n",
       " these mishaps,\n",
       " the mason,\n",
       " a unique wide canal,\n",
       " four small canals,\n",
       " whose total flow,\n",
       " the unique wide canal,\n",
       " These small canals,\n",
       " the lake,\n",
       " they,\n",
       " water,\n",
       " four different valleys,\n",
       " this way,\n",
       " only small amounts,\n",
       " water,\n",
       " each canal,\n",
       " flood periods,\n",
       " dangerous overflowing,\n",
       " the same time,\n",
       " the lake,\n",
       " water,\n",
       " various belts,\n",
       " drought periods,\n",
       " it,\n",
       " sufficiency]"
      ]
     },
     "metadata": {},
     "execution_count": 31
    }
   ],
   "source": [
    "noun_component_list(txt2)"
   ]
  },
  {
   "cell_type": "code",
   "execution_count": 44,
   "metadata": {},
   "outputs": [
    {
     "output_type": "execute_result",
     "data": {
      "text/plain": [
       "['#  They', '#  carcinoma']"
      ]
     },
     "metadata": {},
     "execution_count": 44
    }
   ],
   "source": []
  },
  {
   "cell_type": "code",
   "execution_count": 10,
   "metadata": {},
   "outputs": [
    {
     "name": "stdout",
     "output_type": "stream",
     "text": [
      "Myeloid     ADJ       amod      adjective \n",
      "derived     VERB      amod      verb      \n",
      "suppressor  NOUN      compound  noun      \n",
      "cells       NOUN      nsubj     noun      \n",
      "(           PUNCT     punct     punctuation\n",
      "MDSC        PROPN     appos     proper noun\n",
      ")           PUNCT     punct     punctuation\n",
      "are         AUX       ROOT      auxiliary \n",
      "immature    ADJ       acomp     adjective \n",
      "\n",
      "           SPACE     nmod      space     \n",
      "#           PUNCT     case      punctuation\n",
      "myeloid     ADJ       amod      adjective \n",
      "cells       NOUN      attr      noun      \n",
      "with        ADP       prep      adposition\n",
      "immunosuppressiveADJ       amod      adjective \n",
      "activity    NOUN      pobj      noun      \n",
      ".           PUNCT     punct     punctuation\n",
      "\n",
      "           SPACE     ROOT      space     \n",
      "#           NOUN      nmod      noun      \n",
      "They        PRON      nsubj     pronoun   \n",
      "accumulate  VERB      relcl     verb      \n",
      "in          ADP       prep      adposition\n",
      "tumor       NOUN      npadvmod  noun      \n",
      "-           PUNCT     punct     punctuation\n",
      "bearing     VERB      amod      verb      \n",
      "mice        NOUN      pobj      noun      \n",
      "and         CCONJ     cc        coordinating conjunction\n",
      "humans      NOUN      conj      noun      \n",
      "\n",
      "           SPACE     punct     space     \n",
      "#           X         ROOT      other     \n",
      "with        ADP       prep      adposition\n",
      "different   ADJ       amod      adjective \n",
      "types       NOUN      pobj      noun      \n",
      "of          ADP       prep      adposition\n",
      "cancer      NOUN      pobj      noun      \n",
      ",           PUNCT     punct     punctuation\n",
      "including   VERB      prep      verb      \n",
      "hepatocellularADJ       amod      adjective \n",
      "\n",
      "           SPACE     punct     space     \n",
      "#           NUM       nummod    numeral   \n",
      "carcinoma   NOUN      pobj      noun      \n",
      "(           PUNCT     punct     punctuation\n",
      "HCC         PROPN     appos     proper noun\n",
      ")           PUNCT     punct     punctuation\n",
      ".           PUNCT     punct     punctuation\n"
     ]
    }
   ],
   "source": []
  },
  {
   "cell_type": "code",
   "execution_count": 3,
   "metadata": {},
   "outputs": [],
   "source": [
    "## For this i have installed python 3.6 and it do not work but, maybe I can make it to work later.\n",
    "# # Coreference resolution\n",
    "# import spacy\n",
    "# import neuralcoref\n",
    "\n",
    "# nlp = spacy.load('en')\n",
    "# neuralcoref.add_to_pipe(nlp)\n",
    "# doc1 = nlp('My sister has a dog. She loves him.')\n",
    "# print(doc1._.coref_clusters)\n",
    "\n",
    "# doc2 = nlp('Angela lives in Boston. She is quite happy in that city.')\n",
    "# for ent in doc2.ents:\n",
    "#     print(ent._.coref_cluster)"
   ]
  },
  {
   "cell_type": "code",
   "execution_count": null,
   "metadata": {},
   "outputs": [],
   "source": []
  },
  {
   "cell_type": "code",
   "execution_count": null,
   "metadata": {},
   "outputs": [],
   "source": []
  }
 ],
 "metadata": {
  "kernelspec": {
   "display_name": "kgsys2",
   "language": "python",
   "name": "kgsys2"
  },
  "language_info": {
   "codemirror_mode": {
    "name": "ipython",
    "version": 3
   },
   "file_extension": ".py",
   "mimetype": "text/x-python",
   "name": "python",
   "nbconvert_exporter": "python",
   "pygments_lexer": "ipython3",
   "version": "3.9.1-final"
  }
 },
 "nbformat": 4,
 "nbformat_minor": 4
}