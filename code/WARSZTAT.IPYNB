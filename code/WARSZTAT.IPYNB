{
 "cells": [
  {
   "cell_type": "code",
   "execution_count": 5,
   "metadata": {},
   "outputs": [],
   "source": [
    "import pandas as pd\n",
    "import spacy\n",
    "import scispacy\n",
    "from Triple import Triple\n",
    "from tqdm import tqdm\n",
    "from spacy.matcher import Matcher\n",
    "\n",
    "pd.set_option('display.max_colwidth', 200)\n",
    "%matplotlib inline\n",
    "\n",
    "nlp = spacy.load('en_core_web_sm')"
   ]
  },
  {
   "cell_type": "code",
   "execution_count": null,
   "metadata": {},
   "outputs": [],
   "source": [
    "from spacy.symbols import nsubj, VERB\n",
    "\n",
    "# nlp = spacy.load(\"en_core_web_sm\")\n",
    "doc = nlp()\n",
    "\n",
    "# Finding a verb with a subject from below — good\n",
    "verbs = set()\n",
    "for possible_subject in doc:\n",
    "    if possible_subject.dep == nsubj and possible_subject.head.pos == VERB:\n",
    "        verbs.add(possible_subject.head)\n",
    "print(verbs)\n",
    "\n",
    "# Finding a verb with a subject from above — less good\n",
    "verbs = []\n",
    "for possible_verb in doc:\n",
    "    if possible_verb.pos == VERB:\n",
    "        for possible_subject in possible_verb.children:\n",
    "            if possible_subject.dep == nsubj:\n",
    "                verbs.append(possible_verb)\n",
    "                break\n",
    "print(verbs)"
   ]
  },
  {
   "cell_type": "code",
   "execution_count": 2,
   "metadata": {},
   "outputs": [],
   "source": [
    "BIG_TEXT = \"Cardiovascular Magnetic Resonance Findings in Competitive Athletes Recovering From COVID-19 Infection Myocarditis is a significant cause of sudden cardiac death in competitive athletes and can occur with normal ventricular function.1 Recent studies have raised concerns of myocardial inflammation after recovery from coronavirus disease 2019 (COVID-19), even in asymptomatic or mildly symptomatic patients.2 Our objective was to investigate the use of cardiac magnetic resonance (CMR) imaging in competitive athletes recovered from COVID-19 to detect myocardial inflammation that would identify high-risk athletes for return to competitive play. We performed a comprehensive CMR examination including cine, T1 and T2 mapping, extracellular volume fraction, and late gadolinium enhancement (LGE), on a 1.5-T scanner (Magnetom Sola; Siemens Healthineers) using standardized protocols,3 in all competitive athletes referred to the sports medicine clinic after testing positive for COVID-19 (reverse transcriptase–polymerase chain reaction) between June and August 2020. The Ohio State University institutional review board approved the study, and informed consent in writing was obtained from participating athletes. Cardiac magnetic resonance imaging was performed after recommended quarantine (11-53 days). Electrocardiogram, serum troponin I, and transthoracic echocardiogram were performed on day of CMR imaging. We performed CMR imaging in 26 competitive college athletes (mean [SD] age, 19.5 [1.5] years; 15 male [57.7%]) from the following sports: football, soccer, lacrosse, basketball, and track. No athletes required hospitalization or received COVID-19–specific antiviral therapy. Twelve athletes (26.9%; including 7 female individuals) reported mild symptoms during the short-term infection (sore throat, shortness of breath, myalgias, fever), while others were asymptomatic. There were no diagnostic ST/T wave changes on electrocardiogram, and ventricular volumes and function were within the normal range in all athletes by transthoracic echocardiogram and CMR imaging. No athlete had elevated serum levels of troponin I. Four athletes (15%; all male individuals) had CMR findings consistent with myocarditis based on the presence of 2 main features of the updated Lake Louise Criteria: myocardial edema by elevated T2 signal and myocardial injury by presence of nonischemic LGE (~Figure~).4 Pericardial effusion was present in 2 athletes with CMR evidence of myocarditis. Two of these 4 athletes with evidence of myocardial inflammation had mild symptoms (shortness of breath), while the other 2 were asymptomatic. Twelve athletes (46%) had LGE (mean of 2 American Heart Association segments), of whom 8 (30.8%) had LGE without concomitant T2 elevation (~Table~). Mean (SD) T2 in those with suspected myocarditis was 59 (3) milliseconds compared with 51 (2) milliseconds in those without CMR evidence of myocarditis. Of 26 competitive athletes, 4 (15%) had CMR findings suggestive of myocarditis and 8 additional athletes (30.8%) exhibited LGE without T2 elevation suggestive of prior myocardial injury. COVID-19–related myocardial injury in competitive athletes and sports participation remains unclear. Cardiac magnetic resonance imaging has the potential to identify a high-risk cohort for adverse outcomes and may, importantly, risk stratify athletes for safe participation because CMR mapping techniques have a high negative predictive value to rule out myocarditis.4 A recent study by Puntmann et al2 demonstrated cardiac involvement in a significant number of patients who had recovered from COVID-19. A recent expert consensus article recommended 2-week convalescence followed by no diagnostic cardiac testing if asymptomatic and an electrocardiogram and transthoracic echocardiogram in mildly symptomatic athletes with COVID-19 to return to play for competitive sports.5 However, emerging knowledge and CMR observations question this recommendation. Cardiac magnetic resonance imaging evidence of myocardial inflammation has been associated with poor outcomes, including myocardial dysfunction and mortality.6 Study limitations include lack of baseline CMR imaging and variable timing of CMR imaging from a positive COVID-19 test result. Athletic cardiac adaptation could be responsible for these abnormalities; however, in this cohort, mean (SD) T2 in those with suspected myocarditis was 59 (3) milliseconds vs 51 (2) milliseconds in those without, favoring pathology. Additionally, the rate of LGE (42%) is higher than in previously described normative populations. To conclude, while long-term follow-up and large studies including control populations are required to understand CMR changes in competitive athletes, CMR may provide an excellent risk-stratification assessment for myocarditis in athletes who have recovered from COVID-19 to guide safe competitive sports participation.\"\n",
    "modifiers = \"The man with black beard was giving the speech.\"\n",
    "mod02 = \"We saw the man when we were entering the room.\"\n",
    "person01 = \"Lucy like big suprises.\"\n",
    "doc = nlp(person01)"
   ]
  },
  {
   "cell_type": "code",
   "execution_count": 6,
   "metadata": {},
   "outputs": [
    {
     "name": "stdout",
     "output_type": "stream",
     "text": [
      "Entities [('Mike', 0, 4, 'PERSON'), ('Lucy', 10, 14, 'PERSON')]\n",
      "2\n",
      "2\n",
      "['Mike', 'Lucy']\n",
      "my persons  ['Mike', 'Lucy']\n"
     ]
    },
    {
     "data": {
      "text/plain": "['Mike', 'Lucy']"
     },
     "execution_count": 6,
     "metadata": {},
     "output_type": "execute_result"
    }
   ],
   "source": [
    "\n",
    "Triple('Mike love Lucy').entities()"
   ]
  },
  {
   "cell_type": "code",
   "execution_count": 8,
   "metadata": {},
   "outputs": [
    {
     "ename": "TypeError",
     "evalue": "object of type 'Triple' has no len()",
     "output_type": "error",
     "traceback": [
      "\u001b[0;31m---------------------------------------------------------------------------\u001b[0m",
      "\u001b[0;31mTypeError\u001b[0m                                 Traceback (most recent call last)",
      "\u001b[0;32m<ipython-input-8-b3b6b7ee906e>\u001b[0m in \u001b[0;36m<module>\u001b[0;34m\u001b[0m\n\u001b[0;32m----> 1\u001b[0;31m \u001b[0mTriple\u001b[0m\u001b[0;34m(\u001b[0m\u001b[0;34m\"Mike love lucy\"\u001b[0m\u001b[0;34m)\u001b[0m\u001b[0;34m.\u001b[0m\u001b[0mrelation\u001b[0m\u001b[0;34m(\u001b[0m\u001b[0;34m)\u001b[0m\u001b[0;34m\u001b[0m\u001b[0;34m\u001b[0m\u001b[0m\n\u001b[0m",
      "\u001b[0;32m~/NUIM/CS440/KG_NLPSystem/code/Triple.py\u001b[0m in \u001b[0;36mrelation\u001b[0;34m(sentence)\u001b[0m\n\u001b[1;32m     70\u001b[0m         \u001b[0mparams\u001b[0m\u001b[0;34m:\u001b[0m \u001b[0mstr\u001b[0m \u001b[0;34m-\u001b[0m \u001b[0minput\u001b[0m \u001b[0mof\u001b[0m \u001b[0msingle\u001b[0m \u001b[0msentenceence\u001b[0m\u001b[0;34m.\u001b[0m\u001b[0;34m\u001b[0m\u001b[0;34m\u001b[0m\u001b[0m\n\u001b[1;32m     71\u001b[0m         \"\"\"\n\u001b[0;32m---> 72\u001b[0;31m         \u001b[0mdoc\u001b[0m \u001b[0;34m=\u001b[0m \u001b[0mnlp\u001b[0m\u001b[0;34m(\u001b[0m\u001b[0msentence\u001b[0m\u001b[0;34m)\u001b[0m\u001b[0;34m\u001b[0m\u001b[0;34m\u001b[0m\u001b[0m\n\u001b[0m\u001b[1;32m     73\u001b[0m \u001b[0;34m\u001b[0m\u001b[0m\n\u001b[1;32m     74\u001b[0m         \u001b[0;31m# Matcher class object\u001b[0m\u001b[0;34m\u001b[0m\u001b[0;34m\u001b[0m\u001b[0;34m\u001b[0m\u001b[0m\n",
      "\u001b[0;32m/usr/local/Caskroom/miniconda/base/envs/kgsys2/lib/python3.9/site-packages/spacy/language.py\u001b[0m in \u001b[0;36m__call__\u001b[0;34m(self, text, disable, component_cfg)\u001b[0m\n\u001b[1;32m    975\u001b[0m         \u001b[0mDOCS\u001b[0m\u001b[0;34m:\u001b[0m \u001b[0mhttps\u001b[0m\u001b[0;34m:\u001b[0m\u001b[0;34m//\u001b[0m\u001b[0mspacy\u001b[0m\u001b[0;34m.\u001b[0m\u001b[0mio\u001b[0m\u001b[0;34m/\u001b[0m\u001b[0mapi\u001b[0m\u001b[0;34m/\u001b[0m\u001b[0mlanguage\u001b[0m\u001b[0;31m#call\u001b[0m\u001b[0;34m\u001b[0m\u001b[0;34m\u001b[0m\u001b[0m\n\u001b[1;32m    976\u001b[0m         \"\"\"\n\u001b[0;32m--> 977\u001b[0;31m         \u001b[0mdoc\u001b[0m \u001b[0;34m=\u001b[0m \u001b[0mself\u001b[0m\u001b[0;34m.\u001b[0m\u001b[0mmake_doc\u001b[0m\u001b[0;34m(\u001b[0m\u001b[0mtext\u001b[0m\u001b[0;34m)\u001b[0m\u001b[0;34m\u001b[0m\u001b[0;34m\u001b[0m\u001b[0m\n\u001b[0m\u001b[1;32m    978\u001b[0m         \u001b[0;32mif\u001b[0m \u001b[0mcomponent_cfg\u001b[0m \u001b[0;32mis\u001b[0m \u001b[0;32mNone\u001b[0m\u001b[0;34m:\u001b[0m\u001b[0;34m\u001b[0m\u001b[0;34m\u001b[0m\u001b[0m\n\u001b[1;32m    979\u001b[0m             \u001b[0mcomponent_cfg\u001b[0m \u001b[0;34m=\u001b[0m \u001b[0;34m{\u001b[0m\u001b[0;34m}\u001b[0m\u001b[0;34m\u001b[0m\u001b[0;34m\u001b[0m\u001b[0m\n",
      "\u001b[0;32m/usr/local/Caskroom/miniconda/base/envs/kgsys2/lib/python3.9/site-packages/spacy/language.py\u001b[0m in \u001b[0;36mmake_doc\u001b[0;34m(self, text)\u001b[0m\n\u001b[1;32m   1053\u001b[0m         \u001b[0mRETURNS\u001b[0m \u001b[0;34m(\u001b[0m\u001b[0mDoc\u001b[0m\u001b[0;34m)\u001b[0m\u001b[0;34m:\u001b[0m \u001b[0mThe\u001b[0m \u001b[0mprocessed\u001b[0m \u001b[0mdoc\u001b[0m\u001b[0;34m.\u001b[0m\u001b[0;34m\u001b[0m\u001b[0;34m\u001b[0m\u001b[0m\n\u001b[1;32m   1054\u001b[0m         \"\"\"\n\u001b[0;32m-> 1055\u001b[0;31m         \u001b[0;32mif\u001b[0m \u001b[0mlen\u001b[0m\u001b[0;34m(\u001b[0m\u001b[0mtext\u001b[0m\u001b[0;34m)\u001b[0m \u001b[0;34m>\u001b[0m \u001b[0mself\u001b[0m\u001b[0;34m.\u001b[0m\u001b[0mmax_length\u001b[0m\u001b[0;34m:\u001b[0m\u001b[0;34m\u001b[0m\u001b[0;34m\u001b[0m\u001b[0m\n\u001b[0m\u001b[1;32m   1056\u001b[0m             raise ValueError(\n\u001b[1;32m   1057\u001b[0m                 \u001b[0mErrors\u001b[0m\u001b[0;34m.\u001b[0m\u001b[0mE088\u001b[0m\u001b[0;34m.\u001b[0m\u001b[0mformat\u001b[0m\u001b[0;34m(\u001b[0m\u001b[0mlength\u001b[0m\u001b[0;34m=\u001b[0m\u001b[0mlen\u001b[0m\u001b[0;34m(\u001b[0m\u001b[0mtext\u001b[0m\u001b[0;34m)\u001b[0m\u001b[0;34m,\u001b[0m \u001b[0mmax_length\u001b[0m\u001b[0;34m=\u001b[0m\u001b[0mself\u001b[0m\u001b[0;34m.\u001b[0m\u001b[0mmax_length\u001b[0m\u001b[0;34m)\u001b[0m\u001b[0;34m\u001b[0m\u001b[0;34m\u001b[0m\u001b[0m\n",
      "\u001b[0;31mTypeError\u001b[0m: object of type 'Triple' has no len()"
     ]
    }
   ],
   "source": [
    "Triple(\"Mike love lucy\").relation()"
   ]
  },
  {
   "cell_type": "code",
   "execution_count": 3,
   "metadata": {},
   "outputs": [
    {
     "name": "stdout",
     "output_type": "stream",
     "text": [
      "Lucy PERSON\n",
      "this is my person Lucy\n"
     ]
    }
   ],
   "source": [
    "for item in doc.ents:\n",
    "    print(item.text,item.label_)\n",
    "    if item.label_ == 'PERSON':\n",
    "        print(f\"this is my person {item.text}\")"
   ]
  },
  {
   "cell_type": "code",
   "execution_count": 4,
   "metadata": {},
   "outputs": [
    {
     "name": "stdout",
     "output_type": "stream",
     "text": [
      "['', '']\n",
      "Before [('Mike', 0, 4, 'PERSON'), ('Lucy', 10, 14, 'PERSON')]\n",
      "Mike PERSON\n",
      "We got 2 in ['Mike', 'Mike']\n",
      "Lucy PERSON\n",
      "We got 4 in ['Mike', 'Mike', 'Lucy', 'Lucy']\n"
     ]
    },
    {
     "data": {
      "text/plain": "['Mike', 'Lucy']"
     },
     "execution_count": 4,
     "metadata": {},
     "output_type": "execute_result"
    }
   ],
   "source": [
    "print(entities.entities(\"Mike and Lucy\"))\n",
    "# \"fb is hiring a new vice president of global policy\"\n",
    "# \"Susan and July love red wine.\"\n",
    "entities.new_entities(\"Mike like Lucy\")"
   ]
  },
  {
   "cell_type": "code",
   "execution_count": null,
   "metadata": {},
   "outputs": [],
   "source": [
    "from main import sent_\n",
    "sent_(mod02)"
   ]
  },
  {
   "cell_type": "code",
   "execution_count": null,
   "metadata": {},
   "outputs": [],
   "source": [
    "doc = nlp(\"Mark crosed the street really fast.\")\n",
    "spacy.displacy.render(doc, style=\"ent\")\n",
    "spacy.displacy.render(doc, style=\"dep\")"
   ]
  },
  {
   "cell_type": "code",
   "execution_count": null,
   "metadata": {},
   "outputs": [],
   "source": [
    "def get_triple(self):\n",
    "    doc = nlp(self.text)\n",
    "    sent = []\n",
    "    reldeps = [\"ROOT\", \"adj\", \"attr\", \"agent\", \"amod\"]\n",
    "    # TODO: change doc to nlp()\n",
    "    for token in doc:\n",
    "        # if the token is a verb\n",
    "        if (token.pos_ in ['VERB','ROOT']):\n",
    "            phrase = ''\n",
    "            # only extract noun or pronoun subjects\n",
    "            for sub_tok in token.lefts:\n",
    "                if (sub_tok.dep_ in ['nsubj','nsubjpass']) and (sub_tok.pos_ in ['NOUN','PROPN','PRON']):\n",
    "                    # add subject to the phrase\n",
    "                    phrase += sub_tok.text\n",
    "                    # save the root of the verb in phrase\n",
    "                    phrase += ' '+token.lemma_\n",
    "                    # check for noun or pronoun direct objects\n",
    "                    for sub_tok in token.rights:\n",
    "                        # save the object in the phrase\n",
    "                        if (sub_tok.dep_ in ['dobj']) and (sub_tok.pos_ in ['NOUN','PROPN']):\n",
    "                            phrase += ' '+sub_tok.text\n",
    "                            sent.append(phrase)"
   ]
  },
  {
   "cell_type": "code",
   "execution_count": null,
   "metadata": {},
   "outputs": [],
   "source": []
  },
  {
   "cell_type": "code",
   "execution_count": null,
   "metadata": {},
   "outputs": [],
   "source": []
  },
  {
   "cell_type": "code",
   "execution_count": null,
   "metadata": {},
   "outputs": [],
   "source": [
    "nlp = spacy.load('en_core_web_sm')\n",
    "# nlp = spacy.load('en_core_sci_sm')"
   ]
  },
  {
   "cell_type": "code",
   "execution_count": null,
   "metadata": {},
   "outputs": [],
   "source": [
    "path_to_folder = '/Users/awenc/NUIM/CS440/KG_NLPSystem/data/Psychology Test Materials'\n",
    "path_to_csv_output = '/Users/awenc/NUIM/CS440/KG_NLPSystem/workspace/sentences_psychology.csv'\n",
    "fileconvert(path_to_folder, path_to_csv_output)"
   ]
  },
  {
   "cell_type": "code",
   "execution_count": null,
   "metadata": {},
   "outputs": [],
   "source": []
  },
  {
   "cell_type": "code",
   "execution_count": null,
   "metadata": {},
   "outputs": [],
   "source": [
    "path_to_csv = \"/Users/awenc/NUIM/CS440/KG_NLPSystem/data/sentences.csv\"\n",
    "candidate_sentences = pd.read_csv(path_to_csv)\n",
    "path_to_csv = \"/Users/awenc/NUIM/CS440/KG_NLPSystem/workspace/sentences_psychology.csv\"\n",
    "psycho_sentences = pd.read_csv(path_to_csv)\n",
    "print(len(psycho_sentences['sentences']))\n",
    "print(len(candidate_sentences['sentences']))"
   ]
  },
  {
   "cell_type": "code",
   "execution_count": null,
   "metadata": {},
   "outputs": [],
   "source": [
    "entity_pairs = []\n",
    "relations = []\n",
    "for i in tqdm(psycho_sentences['sentences']):\n",
    "    entity_pairs.append(get_entities(i))\n",
    "    relations.append(get_relation(i))"
   ]
  },
  {
   "cell_type": "code",
   "execution_count": null,
   "metadata": {},
   "outputs": [],
   "source": [
    "a=Triple(psycho_sentences['sentences'][5]).get_entities()\n",
    "b=Triple(psycho_sentences['sentences'][5]).get_relation()\n",
    "c = Triple(psycho_sentences['sentences'][5]).get_triple()\n",
    "f\"{a[0]} {b} {a[1]} Triple: {c}\""
   ]
  },
  {
   "cell_type": "code",
   "execution_count": null,
   "metadata": {},
   "outputs": [],
   "source": []
  },
  {
   "cell_type": "code",
   "execution_count": null,
   "metadata": {},
   "outputs": [],
   "source": [
    "relations_ = [relation(i) for i in psycho_sentences['sentences']]\n",
    "object_ = [i[0] for i in entity_pairs]\n",
    "subject_ = [i[1] for i in entity_pairs]"
   ]
  },
  {
   "cell_type": "code",
   "execution_count": null,
   "metadata": {},
   "outputs": [],
   "source": [
    "# ['VERB','ROOT']\n",
    "\n",
    "def get_triple(self):\n",
    "    doc = nlp(self.text)\n",
    "    sent = []\n",
    "    # Tags relations dependencies\n",
    "    reldeps = [\"ROOT\", \"adj\", \"attr\", \"agent\", \"amod\"]\n",
    "    # Tags for entities(subjects and objects)\n",
    "    deps = [\"compound\", \"prep\", \"conj\", \"mod\"]\n",
    "    # TODO: change doc to nlp()\n",
    "    for token in doc:\n",
    "        # if the token is a verb\n",
    "        if (token.pos_ in reldeps):\n",
    "            phrase = ''\n",
    "            # only extract noun or pronoun subjects\n",
    "            for sub_tok in token.lefts:\n",
    "                if (sub_tok.dep_ in ['nsubj','nsubjpass']) and (sub_tok.pos_ in ['NOUN','PROPN','PRON']):\n",
    "                    # add subject to the phrase\n",
    "                    phrase += sub_tok.text\n",
    "                    # save the root of the verb in phrase\n",
    "                    phrase += ' '+token.lemma_\n",
    "                    # check for noun or pronoun direct objects\n",
    "                    for sub_tok in token.rights:\n",
    "                        # save the object in the phrase\n",
    "                        if (sub_tok.dep_ in ['dobj']) and (sub_tok.pos_ in ['NOUN','PROPN']):\n",
    "                            phrase += ' '+sub_tok.text\n",
    "                            sent.append(phrase)\n",
    "\n",
    "    # print(sent)\n",
    "    return sent\n"
   ]
  },
  {
   "cell_type": "code",
   "execution_count": null,
   "metadata": {},
   "outputs": [],
   "source": [
    "def sent_(sentence):\n",
    "    \"\"\"\n",
    "    Analyse sentence, breaks sentence into: text, pos, dep\n",
    "    part of speach\n",
    "    dependency\n",
    "\n",
    "    \"\"\"\n",
    "\n",
    "    sent = nlp(sentence)\n",
    "    for token in sent:\n",
    "        # Get the token text, part-of-speech tag and dependency label\n",
    "        token_text = token.text\n",
    "        token_pos = token.pos_\n",
    "        token_dep = token.dep_\n",
    "        # This is for formatting only\n",
    "        x = '{:<12}{:<10}{:<10}{:<10}'.format(token_text, token_pos, token_dep,spacy.explain(token_pos))\n",
    "        print(x)\n",
    "        # return x\n"
   ]
  },
  {
   "cell_type": "code",
   "execution_count": null,
   "metadata": {},
   "outputs": [],
   "source": [
    "def output_triple_sent_():\n",
    "    i = psycho_sentences['sentences'][1]\n",
    "    so=get_entities(i)\n",
    "    v=get_relation(i)\n",
    "    triple=get_triple(i)\n",
    "    svo = so[0],v,so[1]\n",
    "    print('{} {}'.format(svo,triple))\n",
    "    print(f\"SVO: {svo} TRIPLE: {triple}\")\n",
    "    sent_(f\"{svo} {triple}\")"
   ]
  },
  {
   "cell_type": "code",
   "execution_count": null,
   "metadata": {},
   "outputs": [],
   "source": [
    "def output_triple():\n",
    "\n",
    "    outfile = open('./output/_psychology_spacy_output.txt','a')\n",
    "    for i in tqdm(psycho_sentences['sentences']):\n",
    "        so=get_entities(i)\n",
    "        v=get_relation(i)\n",
    "        triple=get_triple(i)\n",
    "        svo = so[0],v,so[1]\n",
    "        # print('{} {}'.format(svo,triple))\n",
    "        # print(f\"SVO: {svo} TRIPLE:{triple}\")\n",
    "        outfile.write(i)\n",
    "        outfile.write('\\n')\n",
    "        outfile.write(f\"SVO: {svo} TRIPLE:{triple}\")\n",
    "        outfile.write('\\n')\n",
    "    outfile.close()\n",
    "\n",
    "def to_file_sent_():\n",
    "    outfile = open('./psychology_sentences.txt','w')\n",
    "    for item in psycho_sentences['sentences']:\n",
    "        # print(sent_(item))\n",
    "    # print(\"\\n\")\n",
    "        try:\n",
    "            outfile.write(sent_(item))\n",
    "            outfile.write('\\n')\n",
    "        except TypeError as e:\n",
    "            pass\n",
    "    outfile.close()"
   ]
  },
  {
   "cell_type": "code",
   "execution_count": null,
   "metadata": {},
   "outputs": [],
   "source": [
    "sent_(\"Because of their well known stance as activists, many members of the faculty have been called to testify before Congress.\")"
   ]
  },
  {
   "cell_type": "code",
   "execution_count": null,
   "metadata": {},
   "outputs": [],
   "source": [
    "doc = nlp(\"This era has clearly left its mark on the faculty.\")\n",
    "print(doc[0])\n",
    "for i,tok in enumerate(doc):\n",
    "    if tok.dep_ in ['VERB','ROOT']:\n",
    "        loc=i\n",
    "        print(f\"{tok} {tok.dep_} {tok.pos_}\")\n",
    "        print(f\"{doc[i]} {doc[i-1].pos_}\")\n",
    "        if doc[i-1].pos_ in ['ADV']:\n",
    "            print(f\"{doc[i-1]} {doc[i]}\")"
   ]
  },
  {
   "cell_type": "code",
   "execution_count": null,
   "metadata": {},
   "outputs": [],
   "source": [
    "for sent in doc.sents:\n",
    "    for token in sent:\n",
    "        print(token.text, token.i - sent.start)"
   ]
  },
  {
   "cell_type": "code",
   "execution_count": null,
   "metadata": {},
   "outputs": [],
   "source": [
    "for sent in doc.sents:\n",
    "    for token in sent:\n",
    "        if token.dep_ in ['ROOT']:\n",
    "        #['advmod']:\n",
    "            print(token.text, token.i - sent.start)\n",
    "            print()\n",
    "            print(x for x in doc[token.i-1].subtree)"
   ]
  },
  {
   "cell_type": "code",
   "execution_count": null,
   "metadata": {},
   "outputs": [],
   "source": [
    "for i in range(len(relations)):\n",
    "    print(f\"{entity_pairs[i][0]} {relations[i]} {entity_pairs[i][1]}\" )"
   ]
  },
  {
   "cell_type": "code",
   "execution_count": null,
   "metadata": {},
   "outputs": [],
   "source": [
    "doc = nlp(\"This era has clearly left its mark on the faculty.\")\n",
    "for np in doc.noun_chunks:\n",
    "    print(np)"
   ]
  },
  {
   "cell_type": "code",
   "execution_count": null,
   "metadata": {},
   "outputs": [],
   "source": [
    "from spacy.symbols import *\n",
    "\n",
    "np_labels = set([nsubj, nsubjpass, dobj, iobj, pobj]) # Probably others too\n",
    "def iter_nps(doc):\n",
    "    for word in doc:\n",
    "        if word.dep in np_labels:\n",
    "            yield word.subtree"
   ]
  },
  {
   "cell_type": "code",
   "execution_count": null,
   "metadata": {},
   "outputs": [],
   "source": [
    "for np_label in iter_nps(doc): \n",
    "    print(next(np_label))\n",
    "\n",
    "def iter_nps(doc):\n",
    "    for word in doc:\n",
    "        if word.dep in np_labels:\n",
    "            print(word.text, word.dep_)\n",
    "\n",
    "iter_nps(doc)"
   ]
  },
  {
   "cell_type": "code",
   "execution_count": null,
   "metadata": {},
   "outputs": [],
   "source": [
    "def entities2(sentence):\n",
    "    # Entities\n",
    "    doc = nlp(sentence)\n",
    "    for x in doc:\n",
    "        if x.pos_ in ['NOUN','PROPN','PRON']:\n",
    "            # print(type(x.text[:]))\n",
    "            # print(x.text)\n",
    "            return x.text"
   ]
  },
  {
   "cell_type": "code",
   "execution_count": null,
   "metadata": {},
   "outputs": [],
   "source": [
    "entity_pairs = []\n",
    "relations = []\n",
    "for i in tqdm(psycho_sentences['sentences']):\n",
    "    entity_pairs.append(entities(i))\n",
    "    relations.append(relation(i))\n",
    "\n",
    "entity_pairs[10:20]"
   ]
  },
  {
   "cell_type": "code",
   "execution_count": null,
   "metadata": {},
   "outputs": [],
   "source": [
    "kg_df = pd.DataFrame({'source':object_, 'target':subject_, 'edge':relations})"
   ]
  },
  {
   "cell_type": "code",
   "execution_count": null,
   "metadata": {},
   "outputs": [],
   "source": [
    "sentence = 'London is the capital of England. Westminster is located in London.'\n",
    "print(relation(sentence))\n",
    "print(entities(sentence))\n",
    "print(entities2(sentence))"
   ]
  },
  {
   "cell_type": "markdown",
   "metadata": {},
   "source": []
  },
  {
   "cell_type": "code",
   "execution_count": null,
   "metadata": {},
   "outputs": [],
   "source": [
    "print(len(entity_pairs))\n",
    "print(len(relations))\n",
    "for i in range(len(relations)//100):\n",
    "    print(f\"{entity_pairs[i][0]} {relations[i]} {entity_pairs[i][1]}\")"
   ]
  },
  {
   "cell_type": "code",
   "execution_count": null,
   "metadata": {},
   "outputs": [],
   "source": [
    "def get_relation(sent):\n",
    "\n",
    "  doc = nlp(sent)\n",
    "\n",
    "  # Matcher class object \n",
    "  matcher = Matcher(nlp.vocab)\n",
    "\n",
    "  #define the pattern \n",
    "  pattern = [{'DEP':'ROOT'}, \n",
    "            {'DEP':'prep','OP':\"?\"},\n",
    "            {'DEP':'agent','OP':\"?\"},  \n",
    "            {'POS':'ADJ','OP':\"?\"}] \n",
    "\n",
    "  matcher.add(\"matching_1\", [pattern]) \n",
    "\n",
    "  matches = matcher(doc)\n",
    "  k = len(matches) - 1\n",
    "\n",
    "  span = doc[matches[k][1]:matches[k][2]] \n",
    "\n",
    "  return(span.text)\n",
    "\n"
   ]
  },
  {
   "cell_type": "markdown",
   "metadata": {},
   "source": [
    "## GRAPHING SECTION"
   ]
  },
  {
   "cell_type": "code",
   "execution_count": null,
   "metadata": {},
   "outputs": [],
   "source": [
    "import networkx as nx\n",
    "import matplotlib.pyplot as plt\n",
    "from spacy import displacy\n"
   ]
  },
  {
   "cell_type": "code",
   "execution_count": null,
   "metadata": {},
   "outputs": [],
   "source": [
    "displacy.render(next(doc.sents), style='dep')\n",
    "displacy.serve(next(doc.sents), style='dep')"
   ]
  },
  {
   "cell_type": "code",
   "execution_count": null,
   "metadata": {},
   "outputs": [],
   "source": [
    "# kg_df = pd.DataFrame({'source':object_, 'target':subject_, 'edge':relations})\n",
    "# create a directed-graph from a dataframe\n",
    "G=nx.from_pandas_edgelist(kg_df, \"source\", \"target\", \n",
    "                          edge_attr=True, create_using=nx.MultiDiGraph())\n",
    "plt.figure(figsize=(12,12))\n",
    "\n",
    "pos = nx.spring_layout(G)\n",
    "nx.draw(G, with_labels=True, node_color='skyblue', edge_cmap=plt.cm.Blues, pos = pos)\n",
    "plt.show()"
   ]
  },
  {
   "cell_type": "code",
   "execution_count": null,
   "metadata": {},
   "outputs": [],
   "source": [
    "G=nx.from_pandas_edgelist(kg_df[kg_df['edge']==\"was\"], \"source\", \"target\", \n",
    "                          edge_attr=True, create_using=nx.MultiDiGraph())\n",
    "\n",
    "plt.figure(figsize=(12,12))\n",
    "pos = nx.spring_layout(G, k = 0.5) # k regulates the distance between nodes\n",
    "nx.draw(G, with_labels=True, node_color='skyblue', node_size=1500, edge_cmap=plt.cm.Blues, pos = pos)\n",
    "plt.show()"
   ]
  },
  {
   "cell_type": "code",
   "execution_count": null,
   "metadata": {},
   "outputs": [],
   "source": [
    "# Get specifica relation.\n",
    "\n",
    "G=nx.from_pandas_edgelist(kg_df[kg_df['edge']==\"was\"], \"source\", \"target\", \n",
    "                          edge_attr=True, create_using=nx.MultiDiGraph())\n",
    "\n",
    "plt.figure(figsize=(12,12))\n",
    "pos = nx.spring_layout(G, k = 0.5)\n",
    "nx.draw(G, with_labels=True, node_color='skyblue', node_size=1500, edge_cmap=plt.cm.Blues, pos = pos)\n",
    "plt.show()"
   ]
  },
  {
   "cell_type": "code",
   "execution_count": null,
   "metadata": {},
   "outputs": [],
   "source": [
    "# Create the plot\n",
    "import visualise_spacy_tree\n",
    "png = visualise_spacy_tree.create_png(doc)\n",
    "\n",
    "# Write it to a file\n",
    "with open('parse_tree2.png', 'wb') as f:\n",
    "    f.write(png)\n",
    "\n",
    "# If you're using Jupyter notebook, you can render it inline\n",
    "from IPython.display import Image, display\n",
    "display(Image(png))\n",
    "\n",
    "# Override node attributes to customise the plot\n",
    "from spacy.tokens import Token\n",
    "Token.set_extension('plot', default={}, force=True)  # Create a token underscore extension\n",
    "for token in doc:\n",
    "    node_label = '{0} [{1}])'.format(token.orth_, token.i)\n",
    "    token._.plot['label'] = node_label\n",
    "    if token.dep_ == 'ROOT':\n",
    "        token._.plot['color'] = 'green'\n",
    "\n",
    "'''\n",
    "Dependency Tree of the sentence.\n",
    "'''"
   ]
  },
  {
   "cell_type": "code",
   "execution_count": null,
   "metadata": {},
   "outputs": [],
   "source": [
    "# define to file\n",
    "# function for entering object/list and saving it to a file.\n",
    "\n",
    "# create a file \n",
    "# open file \n",
    "# write to file or append\n",
    "# save file \n",
    "# close file \n",
    "\n",
    "\n",
    "def to_file(list_, path_to_file):\n",
    "    outfile = open(str(path_to_file),'a')\n",
    "    for item in list_:\n",
    "        outfile.write(item)\n",
    "        outfile.write('\\n')\n",
    "\n",
    "    outfile.close()\n",
    "\n"
   ]
  },
  {
   "cell_type": "code",
   "execution_count": null,
   "metadata": {},
   "outputs": [],
   "source": []
  }
 ],
 "metadata": {
  "kernelspec": {
   "display_name": "Python 3.9.1 64-bit ('kgsys2': conda)",
   "metadata": {
    "interpreter": {
     "hash": "4ef060659159fbeb4441d8e36b456b29bba2f0d8bf3938743d35f5235f44b89c"
    }
   },
   "name": "python3"
  },
  "language_info": {
   "codemirror_mode": {
    "name": "ipython",
    "version": 3
   },
   "file_extension": ".py",
   "mimetype": "text/x-python",
   "name": "python",
   "nbconvert_exporter": "python",
   "pygments_lexer": "ipython3",
   "version": "3.9.1"
  },
  "orig_nbformat": 2
 },
 "nbformat": 4,
 "nbformat_minor": 2
}